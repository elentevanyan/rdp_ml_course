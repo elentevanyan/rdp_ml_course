{
 "cells": [
  {
   "cell_type": "markdown",
   "id": "solar-louis",
   "metadata": {
    "slideshow": {
     "slide_type": "slide"
    }
   },
   "source": [
    "# Разведочный анализ данных. Feature Engineering"
   ]
  },
  {
   "cell_type": "code",
   "execution_count": null,
   "id": "satisfied-window",
   "metadata": {
    "slideshow": {
     "slide_type": "subslide"
    }
   },
   "outputs": [],
   "source": [
    "import pandas as pd\n",
    "import numpy as np\n",
    "import matplotlib\n",
    "\n",
    "import matplotlib.pyplot as plt\n",
    "import seaborn as sns\n",
    "plt.style.use('ggplot') "
   ]
  },
  {
   "cell_type": "code",
   "execution_count": null,
   "id": "veterinary-scene",
   "metadata": {
    "slideshow": {
     "slide_type": "skip"
    }
   },
   "outputs": [],
   "source": [
    "import warnings\n",
    "warnings.filterwarnings('ignore')"
   ]
  },
  {
   "cell_type": "markdown",
   "id": "precise-blake",
   "metadata": {
    "slideshow": {
     "slide_type": "slide"
    }
   },
   "source": [
    "# 0. Коротко o EDA"
   ]
  },
  {
   "cell_type": "markdown",
   "id": "phantom-venice",
   "metadata": {
    "slideshow": {
     "slide_type": "subslide"
    }
   },
   "source": [
    "**Exploratory Data Analysis**, разведочный или эксплоративный анализ данных - это изучение данных для \n",
    "- нахождения паттернов в данных\n",
    "- формулирования гипотез по данным\n",
    "- предобработки данных"
   ]
  },
  {
   "cell_type": "markdown",
   "id": "heard-blink",
   "metadata": {
    "slideshow": {
     "slide_type": "subslide"
    }
   },
   "source": [
    "Существует **два** основных инструмента EDA:\n",
    "- расчет описательных статистик и корреляций по данным\n",
    "- визуализация данных"
   ]
  },
  {
   "cell_type": "markdown",
   "id": "correct-aluminum",
   "metadata": {
    "slideshow": {
     "slide_type": "subslide"
    }
   },
   "source": [
    "Под **описательными статистиками** мы имеем в виду следующие функции от выборки:\n",
    "- количество элементов в выборке\n",
    "- минимум\n",
    "- максимум\n",
    "- среднее значение\n",
    "- стандартное отклонение\n",
    "- медиану\n",
    "- нижнюю и верхнюю квартили"
   ]
  },
  {
   "cell_type": "markdown",
   "id": "careful-labor",
   "metadata": {
    "slideshow": {
     "slide_type": "subslide"
    }
   },
   "source": [
    "Основные типы **визуализаций**:\n",
    "- гистограмма\n",
    "- столбцовая диаграмма\n",
    "- точечная диаграмма\n",
    "- линейный график\n",
    "- ящик с усами"
   ]
  },
  {
   "cell_type": "markdown",
   "id": "integral-brooks",
   "metadata": {
    "slideshow": {
     "slide_type": "slide"
    }
   },
   "source": [
    "# 1. Задача\n",
    "\n",
    "В наших руках оказались исторические данные по продажам $45$ магазинов Walmart, расположенных в разных регионах. Каждый магазан содержит несколько отделов. Наша задача спрогнозировать продажи по каждому отделу для каждого магазина. Зачем нужно уметь прогнозировать подобные вещи?\n",
    "\n",
    "В случае конкретной задачи: \n",
    "\n",
    "- Если мы привезли в магазин слишком мало товара, потребителем его не хватит.\n",
    "- Если мы привезли в магазин слишком много товара, то возникают лишние расходы, связанные с хранением товаров, а также лишние расходы, связанные с просрочкой товаров.\n",
    "\n",
    "Хотелось бы уметь избегать всех этих лишних расходов и привозить в каждый магазин ровно столько товара, сколько нужно. В идеале прогнозируется продажи каждого вида товаров, но поскольку в исходных данных нет детализации, будем прогнозировать продажи по магазину.\n",
    "\n",
    "Если говорить в целом о задаче прогноза спроса, она позволяет планировать. В первую очередь, выручку, а дальше считать все важные финансовые показатели, маркетингу понимать, где активизироваться, на какие магазины (или группы клиентов работать). \n",
    "\n"
   ]
  },
  {
   "cell_type": "markdown",
   "id": "interior-austin",
   "metadata": {
    "slideshow": {
     "slide_type": "slide"
    }
   },
   "source": [
    "# 2. Данные\n",
    "\n",
    "* `Weekly_Sales` - объём продаж в данную неделю в данном отделе (целевая переменная)\n",
    "* `Store` - номер магазина;\n",
    "* `Type` - тип магазина;\n",
    "* `Size` - размер магазина;\n",
    "* `Dept` - номер отдела;\n",
    "* `Date` - дата;\n",
    "* `IsHoliday` - является ли неделя праздничной;\n",
    "\n",
    "В Walmart работает несколько акций по уценке товаров. Эти уценки обычно связаны с праздниками: Суперкубок, день Труда, день Благодарения, Рождество. С этими периодами нужно быть аккуратным. Продажи в эти дни аномальны, при этом наблюдений, связанных с этими аномалиями довольно мало."
   ]
  },
  {
   "cell_type": "markdown",
   "id": "defined-offense",
   "metadata": {
    "slideshow": {
     "slide_type": "subslide"
    }
   },
   "source": [
    "Для удобства вот информация о всех праздниках, попавших в датасет: \n",
    "\n",
    "```\n",
    "Суперкубок: 12-Фев-10, 11-Фев-11, 10-Фев-12\n",
    "День Труда: 10-Сен-10, 9-Фев-11, 7-Сен-12\n",
    "День Благодарения: 26-Ноя-10, 25-Ноя-11, 23-Ноя-12\n",
    "Рождество: 31-Дек-10, 30-Дек-11, 28-Дек-12\n",
    "```\n",
    "\n",
    "* `Temperature` - средняя температура в регионе в градусах по Фаренгейту;\n",
    "* `Fuel_Price` - стоимость топлива в регионе;\n",
    "* `MarkDown1-5` - данные, связанные с рекламными уценками, которые запускает Walmart. Данные уценки доступны только после ноября 2011 года и доступны не для всех магазинов. Данные анонимизированы.\n",
    "* `CPI` - индекс потребительских цен.\n",
    "* `Unemployment` - уровень безработицы"
   ]
  },
  {
   "cell_type": "markdown",
   "id": "impaired-latter",
   "metadata": {
    "slideshow": {
     "slide_type": "subslide"
    }
   },
   "source": [
    "\n",
    "* `Weekly_Sales` - объём продаж в данную неделю в данном отделе (целевая переменная)\n",
    "* `Store` - номер магазина;\n",
    "* `Type` - тип магазина;\n",
    "* `Size` - размер магазина;\n",
    "* `Dept` - номер отдела;\n",
    "* `Date` - дата;\n",
    "* `IsHoliday` - является ли неделя праздничной;\n",
    "* `Temperature` - средняя температура в регионе в градусах по Фаренгейту;\n",
    "* `Fuel_Price` - стоимость топлива в регионе;\n",
    "* `MarkDown1-5` - данные, связанные с рекламными уценками, которые запускает Walmart. Данные уценки доступны только после ноября 2011 года и доступны не для всех магазинов. Данные анонимизированы.\n",
    "* `CPI` - индекс потребительских цен.\n",
    "* `Unemployment` - уровень безработицы\n"
   ]
  },
  {
   "cell_type": "markdown",
   "id": "perfect-survivor",
   "metadata": {
    "slideshow": {
     "slide_type": "slide"
    }
   },
   "source": [
    "# 3. EDA & Feature Engineering. Сага в трех эпизодах "
   ]
  },
  {
   "cell_type": "markdown",
   "id": "alternate-bathroom",
   "metadata": {
    "slideshow": {
     "slide_type": "slide"
    }
   },
   "source": [
    "## Эпизод 1. Проверки на вменяемость"
   ]
  },
  {
   "cell_type": "markdown",
   "id": "personal-assault",
   "metadata": {
    "slideshow": {
     "slide_type": "subslide"
    }
   },
   "source": [
    "### Читаются ли данные? "
   ]
  },
  {
   "cell_type": "code",
   "execution_count": null,
   "id": "continuous-findings",
   "metadata": {
    "slideshow": {
     "slide_type": "subslide"
    }
   },
   "outputs": [],
   "source": [
    "# Считаем данные в переменную data. Обратите внимание, что данные разделены табуляцией\n",
    "# Выведите первые несколько строк на экран"
   ]
  },
  {
   "cell_type": "markdown",
   "id": "pursuant-glossary",
   "metadata": {
    "slideshow": {
     "slide_type": "subslide"
    }
   },
   "source": [
    "### Что можем узнать о данных в целом?"
   ]
  },
  {
   "cell_type": "code",
   "execution_count": null,
   "id": "designed-victorian",
   "metadata": {
    "slideshow": {
     "slide_type": "subslide"
    }
   },
   "outputs": [],
   "source": [
    "# Методом info() выведите сводные данные о датасете"
   ]
  },
  {
   "cell_type": "markdown",
   "id": "contemporary-passage",
   "metadata": {
    "slideshow": {
     "slide_type": "fragment"
    }
   },
   "source": [
    "- Есть пропуски\n",
    "- Типы данных в памяти не соответствуют реальным типам (Store, Dept - int64, int64) "
   ]
  },
  {
   "cell_type": "markdown",
   "id": "pointed-participation",
   "metadata": {
    "slideshow": {
     "slide_type": "subslide"
    }
   },
   "source": [
    "### Дубли"
   ]
  },
  {
   "cell_type": "markdown",
   "id": "thick-establishment",
   "metadata": {
    "slideshow": {
     "slide_type": "subslide"
    }
   },
   "source": [
    "**Откуда появляются**\n",
    "- Загрузили данные или часть несколько раз\n",
    "- Пользователь зарегистрировался в системе несколько раз \n",
    "- Несколько сенсоров записали одно и то же событие \n",
    "- Намеренный ввод дубликатов \n"
   ]
  },
  {
   "cell_type": "markdown",
   "id": "objective-haiti",
   "metadata": {
    "slideshow": {
     "slide_type": "subslide"
    }
   },
   "source": [
    "**Как спасаться**\n",
    "- Ограничения целостности\n",
    "- Принудительная валидация\n",
    "- Улучшение процессов\n",
    "- Целенаправленный поиск дубликатов \n",
    "\n"
   ]
  },
  {
   "cell_type": "code",
   "execution_count": null,
   "id": "remarkable-garlic",
   "metadata": {
    "slideshow": {
     "slide_type": "subslide"
    }
   },
   "outputs": [],
   "source": [
    "# Распечатайте размер датасета\n",
    "# Удалите дубликаты и снова рассчитайте и распечатайте размер датасета. \n",
    "# Есть ли дубликаты?"
   ]
  },
  {
   "cell_type": "markdown",
   "id": "effective-visibility",
   "metadata": {
    "slideshow": {
     "slide_type": "subslide"
    }
   },
   "source": [
    "### Пропуски"
   ]
  },
  {
   "cell_type": "markdown",
   "id": "australian-newspaper",
   "metadata": {
    "slideshow": {
     "slide_type": "subslide"
    }
   },
   "source": [
    "**Есть ли в датасете пропуски?**"
   ]
  },
  {
   "cell_type": "code",
   "execution_count": null,
   "id": "essential-beatles",
   "metadata": {
    "slideshow": {
     "slide_type": "fragment"
    }
   },
   "outputs": [],
   "source": [
    "# Проверьте наличие пропусков в датасете. Вам пригодится метод isna() или isnull()\n",
    "# Можно посчитать количество пропусков в каждом столбце. Можно сделать визуализацию пропусков"
   ]
  },
  {
   "cell_type": "markdown",
   "id": "basic-dollar",
   "metadata": {
    "slideshow": {
     "slide_type": "slide"
    }
   },
   "source": [
    "## Эпизод 2. Как устроены данные?"
   ]
  },
  {
   "cell_type": "markdown",
   "id": "cooked-bhutan",
   "metadata": {
    "slideshow": {
     "slide_type": "subslide"
    }
   },
   "source": [
    "### Целевая переменная"
   ]
  },
  {
   "cell_type": "markdown",
   "id": "adapted-colon",
   "metadata": {
    "slideshow": {
     "slide_type": "subslide"
    }
   },
   "source": [
    "Одна картинка вместо тысячи слов"
   ]
  },
  {
   "cell_type": "code",
   "execution_count": null,
   "id": "understood-princess",
   "metadata": {
    "slideshow": {
     "slide_type": "subslide"
    }
   },
   "outputs": [],
   "source": [
    "# Для начала давайте построим график средних еженедельных продаж в каждую из доступных недель"
   ]
  },
  {
   "cell_type": "markdown",
   "id": "moved-values",
   "metadata": {
    "slideshow": {
     "slide_type": "fragment"
    }
   },
   "source": [
    "- Есть сезонность в целевой переменной"
   ]
  },
  {
   "cell_type": "code",
   "execution_count": null,
   "id": "tribal-romania",
   "metadata": {
    "slideshow": {
     "slide_type": "subslide"
    }
   },
   "outputs": [],
   "source": [
    "# теперь построим гистограмму значений"
   ]
  },
  {
   "cell_type": "code",
   "execution_count": null,
   "id": "cordless-matter",
   "metadata": {
    "slideshow": {
     "slide_type": "subslide"
    }
   },
   "outputs": [],
   "source": [
    "# чтобы точно убедиться в беде, давайте нарисуем ящик с усами"
   ]
  },
  {
   "cell_type": "markdown",
   "id": "surgical-romantic",
   "metadata": {
    "slideshow": {
     "slide_type": "fragment"
    }
   },
   "source": [
    "- Тяжелый хвост справа"
   ]
  },
  {
   "cell_type": "markdown",
   "id": "precise-antenna",
   "metadata": {
    "slideshow": {
     "slide_type": "subslide"
    }
   },
   "source": [
    "Расчет описательных статистик - тоже важный и информативный шаг"
   ]
  },
  {
   "cell_type": "code",
   "execution_count": null,
   "id": "whole-render",
   "metadata": {
    "slideshow": {
     "slide_type": "fragment"
    }
   },
   "outputs": [],
   "source": [
    "# методом describe() рассчитайте описательные статистики для столбца Weekly Sales"
   ]
  },
  {
   "cell_type": "code",
   "execution_count": null,
   "id": "olive-sheriff",
   "metadata": {
    "slideshow": {
     "slide_type": "subslide"
    }
   },
   "outputs": [],
   "source": [
    "# рассчитайте количество строк с отрицательными продажами"
   ]
  },
  {
   "cell_type": "markdown",
   "id": "peripheral-sacramento",
   "metadata": {
    "slideshow": {
     "slide_type": "subslide"
    }
   },
   "source": [
    "### Признаки"
   ]
  },
  {
   "cell_type": "markdown",
   "id": "external-testing",
   "metadata": {
    "slideshow": {
     "slide_type": "subslide"
    }
   },
   "source": [
    "Для удобства распределим признаки в два листа - с категориальными переменными и с числовыми"
   ]
  },
  {
   "cell_type": "code",
   "execution_count": null,
   "id": "entertaining-agency",
   "metadata": {
    "slideshow": {
     "slide_type": "fragment"
    }
   },
   "outputs": [],
   "source": [
    "# категориальные переменные \n",
    "var_cat = ['Type', 'Store', 'Dept', 'IsHoliday']\n",
    "\n",
    "# непрерывные переменные\n",
    "var_real = ['MarkDown1','MarkDown2','MarkDown3','MarkDown4','MarkDown5', 'CPI', 'Unemployment', \n",
    "            'Temperature', 'Fuel_Price','Size']"
   ]
  },
  {
   "cell_type": "markdown",
   "id": "unlikely-pressing",
   "metadata": {
    "slideshow": {
     "slide_type": "subslide"
    }
   },
   "source": [
    "#### Категориальные  переменные "
   ]
  },
  {
   "cell_type": "code",
   "execution_count": null,
   "id": "flexible-injection",
   "metadata": {
    "slideshow": {
     "slide_type": "subslide"
    }
   },
   "outputs": [],
   "source": [
    "# выведите описательные статистики для категориальных переменных "
   ]
  },
  {
   "cell_type": "code",
   "execution_count": null,
   "id": "challenging-replication",
   "metadata": {
    "slideshow": {
     "slide_type": "subslide"
    }
   },
   "outputs": [],
   "source": [
    "# теперь нарисуем столбцовые диаграммы по каждой из категорий. \n",
    "# организовать это задание можно разными способами, выберите любой из них"
   ]
  },
  {
   "cell_type": "code",
   "execution_count": null,
   "id": "environmental-collector",
   "metadata": {
    "slideshow": {
     "slide_type": "subslide"
    }
   },
   "outputs": [],
   "source": [
    "data['Store'].value_counts()[-10:]  \n"
   ]
  },
  {
   "cell_type": "code",
   "execution_count": null,
   "id": "charming-thomson",
   "metadata": {
    "slideshow": {
     "slide_type": "fragment"
    }
   },
   "outputs": [],
   "source": [
    "data['Dept'].value_counts()[-10:]  \n"
   ]
  },
  {
   "cell_type": "markdown",
   "id": "mature-jason",
   "metadata": {
    "slideshow": {
     "slide_type": "subslide"
    }
   },
   "source": [
    "#### Численные переменные"
   ]
  },
  {
   "cell_type": "code",
   "execution_count": null,
   "id": "beautiful-buying",
   "metadata": {
    "slideshow": {
     "slide_type": "subslide"
    }
   },
   "outputs": [],
   "source": [
    "# рассчитайте описательные статистики для численных переменных"
   ]
  },
  {
   "cell_type": "code",
   "execution_count": null,
   "id": "consistent-memorabilia",
   "metadata": {},
   "outputs": [],
   "source": [
    "# нарисуйте гистограммы признаков"
   ]
  },
  {
   "cell_type": "code",
   "execution_count": null,
   "id": "alike-beads",
   "metadata": {
    "slideshow": {
     "slide_type": "subslide"
    }
   },
   "outputs": [],
   "source": [
    "# нарисуйте матрицу корреляций"
   ]
  },
  {
   "cell_type": "markdown",
   "id": "antique-bench",
   "metadata": {
    "slideshow": {
     "slide_type": "slide"
    }
   },
   "source": [
    "## Эпизод 3. Feature Engineering"
   ]
  },
  {
   "cell_type": "markdown",
   "id": "natural-westminster",
   "metadata": {
    "slideshow": {
     "slide_type": "subslide"
    }
   },
   "source": [
    "Мы изучили данные, сделали **разведочный анализ** и узнали вот что:\n",
    "- в данных нет дублей\n",
    "- в данных есть пропуски - их чем-то надо закрыть\n",
    "- в целевой переменной есть отрицательные значения, надо решить, оставить или удалить\n",
    "- у целевой переменной длинный хвост -- надо его поправить\n",
    "- в переменных об уценках нужно принять схожее решение\n",
    "- колонка Data выглядит не очень трактуемой, надо с ней сотворить что-то прикладное\n",
    "- в данных есть категориальные колонки, их нужно трансформировать в удобовариемый вид\n",
    "- в одной из категориальных колонок - очень-очень много мелких категорий\n"
   ]
  },
  {
   "cell_type": "markdown",
   "id": "flush-graphic",
   "metadata": {
    "slideshow": {
     "slide_type": "subslide"
    }
   },
   "source": [
    "### Пропуски"
   ]
  },
  {
   "cell_type": "code",
   "execution_count": null,
   "id": "flying-archives",
   "metadata": {
    "slideshow": {
     "slide_type": "subslide"
    }
   },
   "outputs": [],
   "source": [
    "# заполните пропуски"
   ]
  },
  {
   "cell_type": "markdown",
   "id": "stainless-mustang",
   "metadata": {
    "slideshow": {
     "slide_type": "subslide"
    }
   },
   "source": [
    "### Целевая переменная"
   ]
  },
  {
   "cell_type": "code",
   "execution_count": null,
   "id": "historic-private",
   "metadata": {
    "slideshow": {
     "slide_type": "subslide"
    }
   },
   "outputs": [],
   "source": [
    "# удалите все строки, где целевая переменная отрицательная"
   ]
  },
  {
   "cell_type": "code",
   "execution_count": null,
   "id": "regular-packaging",
   "metadata": {
    "slideshow": {
     "slide_type": "subslide"
    }
   },
   "outputs": [],
   "source": [
    "# c длинными хвостами борются логарифмирование\n",
    "# прологарифмируйту колонку Weekly Sales и сохраните в новую ln_weekly_sales"
   ]
  },
  {
   "cell_type": "code",
   "execution_count": null,
   "id": "wrapped-serum",
   "metadata": {
    "slideshow": {
     "slide_type": "subslide"
    }
   },
   "outputs": [],
   "source": [
    "# визуализируйте с помощь гистограмм исходное распределение и прологарифмированное"
   ]
  },
  {
   "cell_type": "markdown",
   "id": "infectious-bloom",
   "metadata": {
    "slideshow": {
     "slide_type": "subslide"
    }
   },
   "source": [
    "### Дата"
   ]
  },
  {
   "cell_type": "code",
   "execution_count": null,
   "id": "positive-guide",
   "metadata": {
    "slideshow": {
     "slide_type": "subslide"
    }
   },
   "outputs": [],
   "source": [
    "# функцией pd.to_datetime преобразуйте колонку из текста в дату"
   ]
  },
  {
   "cell_type": "code",
   "execution_count": null,
   "id": "abstract-enough",
   "metadata": {
    "slideshow": {
     "slide_type": "subslide"
    }
   },
   "outputs": [],
   "source": [
    "# выделите в качестве признака месяц"
   ]
  },
  {
   "cell_type": "code",
   "execution_count": null,
   "id": "closed-barbados",
   "metadata": {
    "slideshow": {
     "slide_type": "subslide"
    }
   },
   "outputs": [],
   "source": [
    "data['Black_Friday'] = (np.where((data['Date']=='2010-11-26') |\n",
    "                              (data['Date']=='2011-11-25') | \n",
    "                              (data['Date']=='2012-11-23'), 1, 0))\n",
    "\n",
    "# Предрождественские деньки: \n",
    "data['Pre_christmas'] = (np.where((data['Date']=='2010-12-23') | \n",
    "                               (data['Date']=='2010-12-24') | \n",
    "                               (data['Date']=='2011-12-23') | \n",
    "                               (data['Date']=='2011-12-24') |\n",
    "                               (data['Date']=='2012-12-23') | \n",
    "                               (data['Date']=='2012-12-24'), 1, 0))"
   ]
  },
  {
   "cell_type": "markdown",
   "id": "naughty-walker",
   "metadata": {
    "slideshow": {
     "slide_type": "subslide"
    }
   },
   "source": [
    "### Категориальные переменные"
   ]
  },
  {
   "cell_type": "code",
   "execution_count": null,
   "id": "infrared-passage",
   "metadata": {
    "slideshow": {
     "slide_type": "subslide"
    }
   },
   "outputs": [],
   "source": [
    "# сделаем все колонки категориальных переменных типа object"
   ]
  },
  {
   "cell_type": "code",
   "execution_count": null,
   "id": "seventh-knitting",
   "metadata": {
    "slideshow": {
     "slide_type": "subslide"
    }
   },
   "outputs": [],
   "source": [
    "# найдем маленькие категории в колонке Dept\n",
    "# 1. создадим список всех категорий\n",
    "# 2. найдем большие - такие, что в них более 4000 записей\n",
    "# 3. найдем разницу в этих двух списках\n",
    "# 4. выведем малые категории на печатть"
   ]
  },
  {
   "cell_type": "code",
   "execution_count": null,
   "id": "functioning-pilot",
   "metadata": {
    "slideshow": {
     "slide_type": "subslide"
    }
   },
   "outputs": [],
   "source": [
    "# заменим в колонке маленькие категории на -1, а остальные номера оставим. \n",
    "# преобразуем в строковый тип данных "
   ]
  },
  {
   "cell_type": "code",
   "execution_count": null,
   "id": "traditional-elizabeth",
   "metadata": {
    "slideshow": {
     "slide_type": "subslide"
    }
   },
   "outputs": [],
   "source": [
    "# финальный шаг, сделаем OHE-кодирование\n",
    "# удалим из датасета колонку даты, и отдадим ее функции pd.get_dummies() на растерзание"
   ]
  },
  {
   "cell_type": "markdown",
   "id": "numerical-revelation",
   "metadata": {
    "slideshow": {
     "slide_type": "slide"
    }
   },
   "source": [
    "## Эпилог"
   ]
  },
  {
   "cell_type": "code",
   "execution_count": null,
   "id": "genetic-threshold",
   "metadata": {
    "slideshow": {
     "slide_type": "subslide"
    }
   },
   "outputs": [],
   "source": [
    "data['future_sales'] = data.Weekly_Sales.shift(-1)\n",
    "data = data[~data['future_sales'].isna()]"
   ]
  }
 ],
 "metadata": {
  "celltoolbar": "Слайд-шоу",
  "kernelspec": {
   "display_name": "Python 3",
   "language": "python",
   "name": "python3"
  },
  "language_info": {
   "codemirror_mode": {
    "name": "ipython",
    "version": 3
   },
   "file_extension": ".py",
   "mimetype": "text/x-python",
   "name": "python",
   "nbconvert_exporter": "python",
   "pygments_lexer": "ipython3",
   "version": "3.8.5"
  }
 },
 "nbformat": 4,
 "nbformat_minor": 5
}
