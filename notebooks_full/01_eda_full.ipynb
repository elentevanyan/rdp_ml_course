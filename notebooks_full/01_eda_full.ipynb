{
 "cells": [
  {
   "cell_type": "markdown",
   "id": "nasty-straight",
   "metadata": {
    "slideshow": {
     "slide_type": "slide"
    }
   },
   "source": [
    "# Разведочный анализ данных. Feature Engineering"
   ]
  },
  {
   "cell_type": "code",
   "execution_count": 1,
   "id": "transsexual-silly",
   "metadata": {
    "slideshow": {
     "slide_type": "subslide"
    }
   },
   "outputs": [],
   "source": [
    "import pandas as pd\n",
    "import numpy as np\n",
    "import matplotlib\n",
    "\n",
    "import matplotlib.pyplot as plt\n",
    "import seaborn as sns\n",
    "plt.style.use('ggplot') "
   ]
  },
  {
   "cell_type": "code",
   "execution_count": 2,
   "id": "secondary-colony",
   "metadata": {
    "slideshow": {
     "slide_type": "skip"
    }
   },
   "outputs": [],
   "source": [
    "import warnings\n",
    "warnings.filterwarnings('ignore')"
   ]
  },
  {
   "cell_type": "markdown",
   "id": "southwest-flush",
   "metadata": {
    "slideshow": {
     "slide_type": "slide"
    }
   },
   "source": [
    "# 0. Коротко o EDA"
   ]
  },
  {
   "cell_type": "markdown",
   "id": "instrumental-florida",
   "metadata": {
    "slideshow": {
     "slide_type": "subslide"
    }
   },
   "source": [
    "**Exploratory Data Analysis**, разведочный или эксплоративный анализ данных - это изучение данных для \n",
    "- нахождения паттернов в данных\n",
    "- формулирования гипотез по данным\n",
    "- предобработки данных"
   ]
  },
  {
   "cell_type": "markdown",
   "id": "southeast-perry",
   "metadata": {
    "slideshow": {
     "slide_type": "subslide"
    }
   },
   "source": [
    "Существует **два** основных инструмента EDA:\n",
    "- расчет описательных статистик и корреляций по данным\n",
    "- визуализация данных"
   ]
  },
  {
   "cell_type": "markdown",
   "id": "illegal-madagascar",
   "metadata": {
    "slideshow": {
     "slide_type": "subslide"
    }
   },
   "source": [
    "Под **описательными статистиками** мы имеем в виду следующие функции от выборки:\n",
    "- количество элементов в выборке\n",
    "- минимум\n",
    "- максимум\n",
    "- среднее значение\n",
    "- стандартное отклонение\n",
    "- медиану\n",
    "- нижнюю и верхнюю квартили"
   ]
  },
  {
   "cell_type": "markdown",
   "id": "least-football",
   "metadata": {
    "slideshow": {
     "slide_type": "subslide"
    }
   },
   "source": [
    "Основные типы **визуализаций**:\n",
    "- гистограмма\n",
    "- столбцовая диаграмма\n",
    "- точечная диаграмма\n",
    "- линейный график\n",
    "- ящик с усами"
   ]
  },
  {
   "cell_type": "markdown",
   "id": "arctic-digit",
   "metadata": {
    "slideshow": {
     "slide_type": "slide"
    }
   },
   "source": [
    "# 1. Задача\n",
    "\n",
    "В наших руках оказались исторические данные по продажам $45$ магазинов Walmart, расположенных в разных регионах. Каждый магазан содержит несколько отделов. Наша задача спрогнозировать продажи по каждому отделу для каждого магазина. Зачем нужно уметь прогнозировать подобные вещи?\n",
    "\n",
    "В случае конкретной задачи: \n",
    "\n",
    "- Если мы привезли в магазин слишком мало товара, потребителем его не хватит.\n",
    "- Если мы привезли в магазин слишком много товара, то возникают лишние расходы, связанные с хранением товаров, а также лишние расходы, связанные с просрочкой товаров.\n",
    "\n",
    "Хотелось бы уметь избегать всех этих лишних расходов и привозить в каждый магазин ровно столько товара, сколько нужно. В идеале прогнозируется продажи каждого вида товаров, но поскольку в исходных данных нет детализации, будем прогнозировать продажи по магазину.\n",
    "\n",
    "Если говорить в целом о задаче прогноза спроса, она позволяет планировать. В первую очередь, выручку, а дальше считать все важные финансовые показатели, маркетингу понимать, где активизироваться, на какие магазины (или группы клиентов работать). \n",
    "\n"
   ]
  },
  {
   "cell_type": "markdown",
   "id": "welsh-magazine",
   "metadata": {
    "slideshow": {
     "slide_type": "slide"
    }
   },
   "source": [
    "# 2. Данные\n",
    "\n",
    "* `Weekly_Sales` - объём продаж в данную неделю в данном отделе (целевая переменная)\n",
    "* `Store` - номер магазина;\n",
    "* `Type` - тип магазина;\n",
    "* `Size` - размер магазина;\n",
    "* `Dept` - номер отдела;\n",
    "* `Date` - дата;\n",
    "* `IsHoliday` - является ли неделя праздничной;\n",
    "\n",
    "В Walmart работает несколько акций по уценке товаров. Эти уценки обычно связаны с праздниками: Суперкубок, день Труда, день Благодарения, Рождество. С этими периодами нужно быть аккуратным. Продажи в эти дни аномальны, при этом наблюдений, связанных с этими аномалиями довольно мало."
   ]
  },
  {
   "cell_type": "markdown",
   "id": "surprised-motorcycle",
   "metadata": {
    "slideshow": {
     "slide_type": "subslide"
    }
   },
   "source": [
    "Для удобства вот информация о всех праздниках, попавших в датасет: \n",
    "\n",
    "```\n",
    "Суперкубок: 12-Фев-10, 11-Фев-11, 10-Фев-12\n",
    "День Труда: 10-Сен-10, 9-Фев-11, 7-Сен-12\n",
    "День Благодарения: 26-Ноя-10, 25-Ноя-11, 23-Ноя-12\n",
    "Рождество: 31-Дек-10, 30-Дек-11, 28-Дек-12\n",
    "```\n",
    "\n",
    "* `Temperature` - средняя температура в регионе в градусах по Фаренгейту;\n",
    "* `Fuel_Price` - стоимость топлива в регионе;\n",
    "* `MarkDown1-5` - данные, связанные с рекламными уценками, которые запускает Walmart. Данные уценки доступны только после ноября 2011 года и доступны не для всех магазинов. Данные анонимизированы.\n",
    "* `CPI` - индекс потребительских цен.\n",
    "* `Unemployment` - уровень безработицы"
   ]
  },
  {
   "cell_type": "markdown",
   "id": "trained-annex",
   "metadata": {
    "slideshow": {
     "slide_type": "subslide"
    }
   },
   "source": [
    "\n",
    "* `Weekly_Sales` - объём продаж в данную неделю в данном отделе (целевая переменная)\n",
    "* `Store` - номер магазина;\n",
    "* `Type` - тип магазина;\n",
    "* `Size` - размер магазина;\n",
    "* `Dept` - номер отдела;\n",
    "* `Date` - дата;\n",
    "* `IsHoliday` - является ли неделя праздничной;\n",
    "* `Temperature` - средняя температура в регионе в градусах по Фаренгейту;\n",
    "* `Fuel_Price` - стоимость топлива в регионе;\n",
    "* `MarkDown1-5` - данные, связанные с рекламными уценками, которые запускает Walmart. Данные уценки доступны только после ноября 2011 года и доступны не для всех магазинов. Данные анонимизированы.\n",
    "* `CPI` - индекс потребительских цен.\n",
    "* `Unemployment` - уровень безработицы\n"
   ]
  },
  {
   "cell_type": "markdown",
   "id": "failing-memory",
   "metadata": {
    "slideshow": {
     "slide_type": "slide"
    }
   },
   "source": [
    "# 3. EDA & Feature Engineering. Сага в трех эпизодах "
   ]
  },
  {
   "cell_type": "markdown",
   "id": "human-pizza",
   "metadata": {
    "slideshow": {
     "slide_type": "slide"
    }
   },
   "source": [
    "## Эпизод 1. Проверки на вменяемость"
   ]
  },
  {
   "cell_type": "markdown",
   "id": "flexible-planner",
   "metadata": {
    "slideshow": {
     "slide_type": "subslide"
    }
   },
   "source": [
    "### Читаются ли данные? "
   ]
  },
  {
   "cell_type": "code",
   "execution_count": 3,
   "id": "national-happening",
   "metadata": {
    "slideshow": {
     "slide_type": "subslide"
    }
   },
   "outputs": [],
   "source": [
    "# Считаем данные в переменную data. Обратите внимание, что данные разделены табуляцией\n",
    "# Выведите первые несколько строк на экран"
   ]
  },
  {
   "cell_type": "code",
   "execution_count": 4,
   "id": "precious-violence",
   "metadata": {
    "slideshow": {
     "slide_type": "fragment"
    }
   },
   "outputs": [
    {
     "data": {
      "text/html": [
       "<div>\n",
       "<style scoped>\n",
       "    .dataframe tbody tr th:only-of-type {\n",
       "        vertical-align: middle;\n",
       "    }\n",
       "\n",
       "    .dataframe tbody tr th {\n",
       "        vertical-align: top;\n",
       "    }\n",
       "\n",
       "    .dataframe thead th {\n",
       "        text-align: right;\n",
       "    }\n",
       "</style>\n",
       "<table border=\"1\" class=\"dataframe\">\n",
       "  <thead>\n",
       "    <tr style=\"text-align: right;\">\n",
       "      <th></th>\n",
       "      <th>Store</th>\n",
       "      <th>Date</th>\n",
       "      <th>Dept</th>\n",
       "      <th>Weekly_Sales</th>\n",
       "      <th>IsHoliday</th>\n",
       "      <th>Type</th>\n",
       "      <th>Size</th>\n",
       "      <th>Temperature</th>\n",
       "      <th>Fuel_Price</th>\n",
       "      <th>MarkDown1</th>\n",
       "      <th>MarkDown2</th>\n",
       "      <th>MarkDown3</th>\n",
       "      <th>MarkDown4</th>\n",
       "      <th>MarkDown5</th>\n",
       "      <th>CPI</th>\n",
       "      <th>Unemployment</th>\n",
       "    </tr>\n",
       "  </thead>\n",
       "  <tbody>\n",
       "    <tr>\n",
       "      <th>0</th>\n",
       "      <td>1</td>\n",
       "      <td>2010-02-05</td>\n",
       "      <td>1</td>\n",
       "      <td>24924.50</td>\n",
       "      <td>False</td>\n",
       "      <td>A</td>\n",
       "      <td>151315</td>\n",
       "      <td>42.31</td>\n",
       "      <td>2.572</td>\n",
       "      <td>NaN</td>\n",
       "      <td>NaN</td>\n",
       "      <td>NaN</td>\n",
       "      <td>NaN</td>\n",
       "      <td>NaN</td>\n",
       "      <td>211.096358</td>\n",
       "      <td>8.106</td>\n",
       "    </tr>\n",
       "    <tr>\n",
       "      <th>1</th>\n",
       "      <td>1</td>\n",
       "      <td>2010-02-05</td>\n",
       "      <td>2</td>\n",
       "      <td>50605.27</td>\n",
       "      <td>False</td>\n",
       "      <td>A</td>\n",
       "      <td>151315</td>\n",
       "      <td>42.31</td>\n",
       "      <td>2.572</td>\n",
       "      <td>NaN</td>\n",
       "      <td>NaN</td>\n",
       "      <td>NaN</td>\n",
       "      <td>NaN</td>\n",
       "      <td>NaN</td>\n",
       "      <td>211.096358</td>\n",
       "      <td>8.106</td>\n",
       "    </tr>\n",
       "    <tr>\n",
       "      <th>2</th>\n",
       "      <td>1</td>\n",
       "      <td>2010-02-05</td>\n",
       "      <td>3</td>\n",
       "      <td>13740.12</td>\n",
       "      <td>False</td>\n",
       "      <td>A</td>\n",
       "      <td>151315</td>\n",
       "      <td>42.31</td>\n",
       "      <td>2.572</td>\n",
       "      <td>NaN</td>\n",
       "      <td>NaN</td>\n",
       "      <td>NaN</td>\n",
       "      <td>NaN</td>\n",
       "      <td>NaN</td>\n",
       "      <td>211.096358</td>\n",
       "      <td>8.106</td>\n",
       "    </tr>\n",
       "    <tr>\n",
       "      <th>3</th>\n",
       "      <td>1</td>\n",
       "      <td>2010-02-05</td>\n",
       "      <td>4</td>\n",
       "      <td>39954.04</td>\n",
       "      <td>False</td>\n",
       "      <td>A</td>\n",
       "      <td>151315</td>\n",
       "      <td>42.31</td>\n",
       "      <td>2.572</td>\n",
       "      <td>NaN</td>\n",
       "      <td>NaN</td>\n",
       "      <td>NaN</td>\n",
       "      <td>NaN</td>\n",
       "      <td>NaN</td>\n",
       "      <td>211.096358</td>\n",
       "      <td>8.106</td>\n",
       "    </tr>\n",
       "    <tr>\n",
       "      <th>4</th>\n",
       "      <td>1</td>\n",
       "      <td>2010-02-05</td>\n",
       "      <td>5</td>\n",
       "      <td>32229.38</td>\n",
       "      <td>False</td>\n",
       "      <td>A</td>\n",
       "      <td>151315</td>\n",
       "      <td>42.31</td>\n",
       "      <td>2.572</td>\n",
       "      <td>NaN</td>\n",
       "      <td>NaN</td>\n",
       "      <td>NaN</td>\n",
       "      <td>NaN</td>\n",
       "      <td>NaN</td>\n",
       "      <td>211.096358</td>\n",
       "      <td>8.106</td>\n",
       "    </tr>\n",
       "  </tbody>\n",
       "</table>\n",
       "</div>"
      ],
      "text/plain": [
       "   Store        Date  Dept  Weekly_Sales  IsHoliday Type    Size  Temperature  \\\n",
       "0      1  2010-02-05     1      24924.50      False    A  151315        42.31   \n",
       "1      1  2010-02-05     2      50605.27      False    A  151315        42.31   \n",
       "2      1  2010-02-05     3      13740.12      False    A  151315        42.31   \n",
       "3      1  2010-02-05     4      39954.04      False    A  151315        42.31   \n",
       "4      1  2010-02-05     5      32229.38      False    A  151315        42.31   \n",
       "\n",
       "   Fuel_Price  MarkDown1  MarkDown2  MarkDown3  MarkDown4  MarkDown5  \\\n",
       "0       2.572        NaN        NaN        NaN        NaN        NaN   \n",
       "1       2.572        NaN        NaN        NaN        NaN        NaN   \n",
       "2       2.572        NaN        NaN        NaN        NaN        NaN   \n",
       "3       2.572        NaN        NaN        NaN        NaN        NaN   \n",
       "4       2.572        NaN        NaN        NaN        NaN        NaN   \n",
       "\n",
       "          CPI  Unemployment  \n",
       "0  211.096358         8.106  \n",
       "1  211.096358         8.106  \n",
       "2  211.096358         8.106  \n",
       "3  211.096358         8.106  \n",
       "4  211.096358         8.106  "
      ]
     },
     "execution_count": 4,
     "metadata": {},
     "output_type": "execute_result"
    }
   ],
   "source": [
    "data = pd.read_csv('walmart.csv', sep='\\t')\n",
    "data.head()"
   ]
  },
  {
   "cell_type": "markdown",
   "id": "silver-chambers",
   "metadata": {
    "slideshow": {
     "slide_type": "subslide"
    }
   },
   "source": [
    "### Что можем узнать о данных в целом?"
   ]
  },
  {
   "cell_type": "code",
   "execution_count": 5,
   "id": "hourly-allergy",
   "metadata": {
    "slideshow": {
     "slide_type": "subslide"
    }
   },
   "outputs": [],
   "source": [
    "# Методом info() выведите сводные данные о датасете"
   ]
  },
  {
   "cell_type": "code",
   "execution_count": 6,
   "id": "organized-denial",
   "metadata": {
    "slideshow": {
     "slide_type": "fragment"
    }
   },
   "outputs": [
    {
     "name": "stdout",
     "output_type": "stream",
     "text": [
      "<class 'pandas.core.frame.DataFrame'>\n",
      "RangeIndex: 421570 entries, 0 to 421569\n",
      "Data columns (total 16 columns):\n",
      " #   Column        Non-Null Count   Dtype  \n",
      "---  ------        --------------   -----  \n",
      " 0   Store         421570 non-null  int64  \n",
      " 1   Date          421570 non-null  object \n",
      " 2   Dept          421570 non-null  int64  \n",
      " 3   Weekly_Sales  421570 non-null  float64\n",
      " 4   IsHoliday     421570 non-null  bool   \n",
      " 5   Type          421570 non-null  object \n",
      " 6   Size          421570 non-null  int64  \n",
      " 7   Temperature   421570 non-null  float64\n",
      " 8   Fuel_Price    421570 non-null  float64\n",
      " 9   MarkDown1     150681 non-null  float64\n",
      " 10  MarkDown2     111248 non-null  float64\n",
      " 11  MarkDown3     137091 non-null  float64\n",
      " 12  MarkDown4     134967 non-null  float64\n",
      " 13  MarkDown5     151432 non-null  float64\n",
      " 14  CPI           421570 non-null  float64\n",
      " 15  Unemployment  421570 non-null  float64\n",
      "dtypes: bool(1), float64(10), int64(3), object(2)\n",
      "memory usage: 48.6+ MB\n"
     ]
    }
   ],
   "source": [
    "data.info()"
   ]
  },
  {
   "cell_type": "markdown",
   "id": "emerging-minimum",
   "metadata": {
    "slideshow": {
     "slide_type": "fragment"
    }
   },
   "source": [
    "- Есть пропуски\n",
    "- Типы данных в памяти не соответствуют реальным типам (Store, Dept - int64, int64) "
   ]
  },
  {
   "cell_type": "markdown",
   "id": "dying-vegetarian",
   "metadata": {
    "slideshow": {
     "slide_type": "subslide"
    }
   },
   "source": [
    "### Дубли"
   ]
  },
  {
   "cell_type": "markdown",
   "id": "speaking-store",
   "metadata": {
    "slideshow": {
     "slide_type": "subslide"
    }
   },
   "source": [
    "**Откуда появляются**\n",
    "- Загрузили данные или часть несколько раз\n",
    "- Пользователь зарегистрировался в системе несколько раз \n",
    "- Несколько сенсоров записали одно и то же событие \n",
    "- Намеренный ввод дубликатов \n"
   ]
  },
  {
   "cell_type": "markdown",
   "id": "wooden-blank",
   "metadata": {
    "slideshow": {
     "slide_type": "subslide"
    }
   },
   "source": [
    "**Как спасаться**\n",
    "- Ограничения целостности\n",
    "- Принудительная валидация\n",
    "- Улучшение процессов\n",
    "- Целенаправленный поиск дубликатов \n",
    "\n"
   ]
  },
  {
   "cell_type": "code",
   "execution_count": 7,
   "id": "comparable-british",
   "metadata": {
    "slideshow": {
     "slide_type": "subslide"
    }
   },
   "outputs": [],
   "source": [
    "# Распечатайте размер датасета\n",
    "# Удалите дубликаты и снова рассчитайте и распечатайте размер датасета. \n",
    "# Есть ли дубликаты?"
   ]
  },
  {
   "cell_type": "code",
   "execution_count": 8,
   "id": "fitted-railway",
   "metadata": {
    "slideshow": {
     "slide_type": "subslide"
    }
   },
   "outputs": [
    {
     "name": "stdout",
     "output_type": "stream",
     "text": [
      "Размер данных: (421570, 16)\n",
      "Размер данных после удаления дубликатов: (421570, 16)\n"
     ]
    }
   ],
   "source": [
    "print('Размер данных:', data.shape)\n",
    "print('Размер данных после удаления дубликатов:', data.drop_duplicates().shape)"
   ]
  },
  {
   "cell_type": "markdown",
   "id": "fuzzy-subsection",
   "metadata": {
    "slideshow": {
     "slide_type": "subslide"
    }
   },
   "source": [
    "### Пропуски"
   ]
  },
  {
   "cell_type": "markdown",
   "id": "perfect-experiment",
   "metadata": {
    "slideshow": {
     "slide_type": "subslide"
    }
   },
   "source": [
    "**Есть ли в датасете пропуски?**"
   ]
  },
  {
   "cell_type": "code",
   "execution_count": 9,
   "id": "beginning-trial",
   "metadata": {
    "slideshow": {
     "slide_type": "fragment"
    }
   },
   "outputs": [],
   "source": [
    "# Проверьте наличие пропусков в датасете. Вам пригодится метод isna() или isnull()\n",
    "# Можно посчитать количество пропусков в каждом столбце. Можно сделать визуализацию пропусков"
   ]
  },
  {
   "cell_type": "code",
   "execution_count": 10,
   "id": "upper-spencer",
   "metadata": {
    "slideshow": {
     "slide_type": "fragment"
    }
   },
   "outputs": [
    {
     "data": {
      "text/plain": [
       "Store                0\n",
       "Date                 0\n",
       "Dept                 0\n",
       "Weekly_Sales         0\n",
       "IsHoliday            0\n",
       "Type                 0\n",
       "Size                 0\n",
       "Temperature          0\n",
       "Fuel_Price           0\n",
       "MarkDown1       270889\n",
       "MarkDown2       310322\n",
       "MarkDown3       284479\n",
       "MarkDown4       286603\n",
       "MarkDown5       270138\n",
       "CPI                  0\n",
       "Unemployment         0\n",
       "dtype: int64"
      ]
     },
     "execution_count": 10,
     "metadata": {},
     "output_type": "execute_result"
    }
   ],
   "source": [
    "data.isnull().sum()"
   ]
  },
  {
   "cell_type": "code",
   "execution_count": 11,
   "id": "minute-squad",
   "metadata": {
    "slideshow": {
     "slide_type": "subslide"
    }
   },
   "outputs": [
    {
     "data": {
      "image/png": "[encoded data removed]",
      "text/plain": [
       "<Figure size 720x432 with 1 Axes>"
      ]
     },
     "metadata": {},
     "output_type": "display_data"
    }
   ],
   "source": [
    "fig, ax = plt.subplots(figsize=(10,6))\n",
    "sns_heatmap = sns.heatmap(data.isnull(), yticklabels=False, cbar=False, cmap='viridis')"
   ]
  },
  {
   "cell_type": "markdown",
   "id": "induced-victory",
   "metadata": {
    "slideshow": {
     "slide_type": "slide"
    }
   },
   "source": [
    "## Эпизод 2. Как устроены данные?"
   ]
  },
  {
   "cell_type": "markdown",
   "id": "vital-praise",
   "metadata": {
    "slideshow": {
     "slide_type": "subslide"
    }
   },
   "source": [
    "### Целевая переменная"
   ]
  },
  {
   "cell_type": "markdown",
   "id": "coupled-missouri",
   "metadata": {
    "slideshow": {
     "slide_type": "subslide"
    }
   },
   "source": [
    "Одна картинка вместо тысячи слов"
   ]
  },
  {
   "cell_type": "code",
   "execution_count": 12,
   "id": "covered-singer",
   "metadata": {
    "slideshow": {
     "slide_type": "subslide"
    }
   },
   "outputs": [],
   "source": [
    "# Для начала давайте построим график средних еженедельных продаж в каждую из доступных недель"
   ]
  },
  {
   "cell_type": "code",
   "execution_count": 13,
   "id": "tribal-decrease",
   "metadata": {
    "slideshow": {
     "slide_type": "fragment"
    }
   },
   "outputs": [
    {
     "data": {
      "image/png": "[encoded data removed]",
      "text/plain": [
       "<Figure size 1080x360 with 1 Axes>"
      ]
     },
     "metadata": {},
     "output_type": "display_data"
    }
   ],
   "source": [
    "data.groupby('Date')['Weekly_Sales'].mean().plot(figsize=(15,5));"
   ]
  },
  {
   "cell_type": "markdown",
   "id": "super-louisiana",
   "metadata": {
    "slideshow": {
     "slide_type": "fragment"
    }
   },
   "source": [
    "- Есть сезонность в целевой переменной"
   ]
  },
  {
   "cell_type": "code",
   "execution_count": 14,
   "id": "associate-slovakia",
   "metadata": {
    "slideshow": {
     "slide_type": "subslide"
    }
   },
   "outputs": [],
   "source": [
    "# теперь построим гистограмму значений"
   ]
  },
  {
   "cell_type": "code",
   "execution_count": 58,
   "id": "reverse-essay",
   "metadata": {
    "slideshow": {
     "slide_type": "fragment"
    }
   },
   "outputs": [
    {
     "data": {
      "text/plain": [
       "<AxesSubplot:>"
      ]
     },
     "execution_count": 58,
     "metadata": {},
     "output_type": "execute_result"
    },
    {
     "data": {
      "image/png": "[encoded data removed]",
      "text/plain": [
       "<Figure size 1080x576 with 1 Axes>"
      ]
     },
     "metadata": {},
     "output_type": "display_data"
    }
   ],
   "source": [
    "data.Weekly_Sales.hist(figsize=(15, 8))"
   ]
  },
  {
   "cell_type": "code",
   "execution_count": 16,
   "id": "connected-leader",
   "metadata": {
    "slideshow": {
     "slide_type": "subslide"
    }
   },
   "outputs": [],
   "source": [
    "# чтобы точно убедиться в беде, давайте нарисуем ящик с усами"
   ]
  },
  {
   "cell_type": "code",
   "execution_count": 17,
   "id": "confused-stake",
   "metadata": {
    "slideshow": {
     "slide_type": "fragment"
    }
   },
   "outputs": [
    {
     "data": {
      "text/plain": [
       "<AxesSubplot:xlabel='Weekly_Sales'>"
      ]
     },
     "execution_count": 17,
     "metadata": {},
     "output_type": "execute_result"
    },
    {
     "data": {
      "image/png": "[encoded data removed]",
      "text/plain": [
       "<Figure size 1440x720 with 1 Axes>"
      ]
     },
     "metadata": {},
     "output_type": "display_data"
    }
   ],
   "source": [
    "plt.figure(figsize=(20, 10))\n",
    "sns.boxplot(data.Weekly_Sales)"
   ]
  },
  {
   "cell_type": "markdown",
   "id": "banner-karaoke",
   "metadata": {
    "slideshow": {
     "slide_type": "fragment"
    }
   },
   "source": [
    "- Тяжелый хвост справа"
   ]
  },
  {
   "cell_type": "markdown",
   "id": "rising-spring",
   "metadata": {
    "slideshow": {
     "slide_type": "subslide"
    }
   },
   "source": [
    "Расчет описательных статистик - тоже важный и информативный шаг"
   ]
  },
  {
   "cell_type": "code",
   "execution_count": 18,
   "id": "specialized-gossip",
   "metadata": {
    "slideshow": {
     "slide_type": "fragment"
    }
   },
   "outputs": [],
   "source": [
    "# методом describe() рассчитайте описательные статистики для столбца Weekly Sales"
   ]
  },
  {
   "cell_type": "code",
   "execution_count": 19,
   "id": "subtle-harris",
   "metadata": {
    "slideshow": {
     "slide_type": "fragment"
    }
   },
   "outputs": [
    {
     "data": {
      "text/plain": [
       "count    421570.000000\n",
       "mean      15981.258123\n",
       "std       22711.183519\n",
       "min       -4988.940000\n",
       "25%        2079.650000\n",
       "50%        7612.030000\n",
       "75%       20205.852500\n",
       "max      693099.360000\n",
       "Name: Weekly_Sales, dtype: float64"
      ]
     },
     "execution_count": 19,
     "metadata": {},
     "output_type": "execute_result"
    }
   ],
   "source": [
    "data.Weekly_Sales.describe()"
   ]
  },
  {
   "cell_type": "markdown",
   "id": "fantastic-checkout",
   "metadata": {
    "slideshow": {
     "slide_type": "fragment"
    }
   },
   "source": [
    "- Есть отрицательные значения. В каком масштабе?"
   ]
  },
  {
   "cell_type": "code",
   "execution_count": 20,
   "id": "competent-mileage",
   "metadata": {
    "slideshow": {
     "slide_type": "subslide"
    }
   },
   "outputs": [],
   "source": [
    "# рассчитайте количество строк с отрицательными продажами"
   ]
  },
  {
   "cell_type": "code",
   "execution_count": 21,
   "id": "adverse-equipment",
   "metadata": {
    "slideshow": {
     "slide_type": "fragment"
    }
   },
   "outputs": [
    {
     "data": {
      "text/plain": [
       "1285"
      ]
     },
     "execution_count": 21,
     "metadata": {},
     "output_type": "execute_result"
    }
   ],
   "source": [
    "data.Weekly_Sales[data.Weekly_Sales < 0].count()"
   ]
  },
  {
   "cell_type": "markdown",
   "id": "upset-rebecca",
   "metadata": {
    "slideshow": {
     "slide_type": "subslide"
    }
   },
   "source": [
    "### Признаки"
   ]
  },
  {
   "cell_type": "markdown",
   "id": "grave-puzzle",
   "metadata": {
    "slideshow": {
     "slide_type": "subslide"
    }
   },
   "source": [
    "Для удобства распределим признаки в два листа - с категориальными переменными и с числовыми"
   ]
  },
  {
   "cell_type": "code",
   "execution_count": 22,
   "id": "eligible-musician",
   "metadata": {
    "slideshow": {
     "slide_type": "fragment"
    }
   },
   "outputs": [],
   "source": [
    "# категориальные переменные \n",
    "var_cat = ['Type', 'Store', 'Dept', 'IsHoliday']\n",
    "\n",
    "# непрерывные переменные\n",
    "var_real = ['MarkDown1','MarkDown2','MarkDown3','MarkDown4','MarkDown5', 'CPI', 'Unemployment', \n",
    "            'Temperature', 'Fuel_Price','Size']"
   ]
  },
  {
   "cell_type": "markdown",
   "id": "unnecessary-tamil",
   "metadata": {
    "slideshow": {
     "slide_type": "subslide"
    }
   },
   "source": [
    "#### Категориальные  переменные "
   ]
  },
  {
   "cell_type": "code",
   "execution_count": 23,
   "id": "induced-schedule",
   "metadata": {
    "slideshow": {
     "slide_type": "subslide"
    }
   },
   "outputs": [],
   "source": [
    "# выведите описательные статистики для категориальных переменных "
   ]
  },
  {
   "cell_type": "code",
   "execution_count": 24,
   "id": "requested-calgary",
   "metadata": {
    "slideshow": {
     "slide_type": "fragment"
    }
   },
   "outputs": [
    {
     "data": {
      "text/html": [
       "<div>\n",
       "<style scoped>\n",
       "    .dataframe tbody tr th:only-of-type {\n",
       "        vertical-align: middle;\n",
       "    }\n",
       "\n",
       "    .dataframe tbody tr th {\n",
       "        vertical-align: top;\n",
       "    }\n",
       "\n",
       "    .dataframe thead th {\n",
       "        text-align: right;\n",
       "    }\n",
       "</style>\n",
       "<table border=\"1\" class=\"dataframe\">\n",
       "  <thead>\n",
       "    <tr style=\"text-align: right;\">\n",
       "      <th></th>\n",
       "      <th>Type</th>\n",
       "      <th>Store</th>\n",
       "      <th>Dept</th>\n",
       "      <th>IsHoliday</th>\n",
       "    </tr>\n",
       "  </thead>\n",
       "  <tbody>\n",
       "    <tr>\n",
       "      <th>count</th>\n",
       "      <td>421570</td>\n",
       "      <td>421570</td>\n",
       "      <td>421570</td>\n",
       "      <td>421570</td>\n",
       "    </tr>\n",
       "    <tr>\n",
       "      <th>unique</th>\n",
       "      <td>3</td>\n",
       "      <td>45</td>\n",
       "      <td>81</td>\n",
       "      <td>2</td>\n",
       "    </tr>\n",
       "    <tr>\n",
       "      <th>top</th>\n",
       "      <td>A</td>\n",
       "      <td>13</td>\n",
       "      <td>1</td>\n",
       "      <td>False</td>\n",
       "    </tr>\n",
       "    <tr>\n",
       "      <th>freq</th>\n",
       "      <td>215478</td>\n",
       "      <td>10474</td>\n",
       "      <td>6435</td>\n",
       "      <td>391909</td>\n",
       "    </tr>\n",
       "  </tbody>\n",
       "</table>\n",
       "</div>"
      ],
      "text/plain": [
       "          Type   Store    Dept IsHoliday\n",
       "count   421570  421570  421570    421570\n",
       "unique       3      45      81         2\n",
       "top          A      13       1     False\n",
       "freq    215478   10474    6435    391909"
      ]
     },
     "execution_count": 24,
     "metadata": {},
     "output_type": "execute_result"
    }
   ],
   "source": [
    "data[var_cat].astype('object').describe()"
   ]
  },
  {
   "cell_type": "code",
   "execution_count": 25,
   "id": "whole-saturday",
   "metadata": {
    "slideshow": {
     "slide_type": "subslide"
    }
   },
   "outputs": [],
   "source": [
    "# теперь нарисуем столбцовые диаграммы по каждой из категорий. \n",
    "# организовать это задание можно разными способами, выберите любой из них"
   ]
  },
  {
   "cell_type": "code",
   "execution_count": 26,
   "id": "foreign-tourism",
   "metadata": {
    "slideshow": {
     "slide_type": "subslide"
    }
   },
   "outputs": [
    {
     "data": {
      "image/png": "[encoded data removed]",
      "text/plain": [
       "<Figure size 1080x576 with 4 Axes>"
      ]
     },
     "metadata": {},
     "output_type": "display_data"
    }
   ],
   "source": [
    "fig, axes = plt.subplots(2, 2, figsize=(15, 8), sharey=True)\n",
    "\n",
    "for i in range(len(var_cat)):\n",
    "    sns.countplot(x=var_cat[i], data=data, ax=axes[i // 2, i % 2])"
   ]
  },
  {
   "cell_type": "code",
   "execution_count": 27,
   "id": "planned-reverse",
   "metadata": {
    "slideshow": {
     "slide_type": "subslide"
    }
   },
   "outputs": [
    {
     "data": {
      "text/plain": [
       "5     8999\n",
       "9     8867\n",
       "38    7362\n",
       "37    7206\n",
       "44    7169\n",
       "30    7156\n",
       "42    6953\n",
       "43    6751\n",
       "33    6487\n",
       "36    6222\n",
       "Name: Store, dtype: int64"
      ]
     },
     "execution_count": 27,
     "metadata": {},
     "output_type": "execute_result"
    }
   ],
   "source": [
    "data['Store'].value_counts()[-10:]  \n"
   ]
  },
  {
   "cell_type": "code",
   "execution_count": 28,
   "id": "polished-replication",
   "metadata": {
    "slideshow": {
     "slide_type": "fragment"
    }
   },
   "outputs": [
    {
     "data": {
      "text/plain": [
       "48    1742\n",
       "50    1562\n",
       "51    1394\n",
       "99     862\n",
       "47     646\n",
       "78     235\n",
       "77     150\n",
       "65     143\n",
       "39      16\n",
       "43      12\n",
       "Name: Dept, dtype: int64"
      ]
     },
     "execution_count": 28,
     "metadata": {},
     "output_type": "execute_result"
    }
   ],
   "source": [
    "data['Dept'].value_counts()[-10:]  \n"
   ]
  },
  {
   "cell_type": "markdown",
   "id": "medieval-corruption",
   "metadata": {
    "slideshow": {
     "slide_type": "subslide"
    }
   },
   "source": [
    "- Обработка столбцов Type, IsHoliday, Store не требует дополнительных действий, столбец Dept требует внимания"
   ]
  },
  {
   "cell_type": "markdown",
   "id": "moving-benefit",
   "metadata": {
    "slideshow": {
     "slide_type": "subslide"
    }
   },
   "source": [
    "#### Численные переменные"
   ]
  },
  {
   "cell_type": "code",
   "execution_count": 29,
   "id": "honest-defense",
   "metadata": {
    "slideshow": {
     "slide_type": "subslide"
    }
   },
   "outputs": [],
   "source": [
    "# рассчитайте описательные статистики для численных переменных"
   ]
  },
  {
   "cell_type": "code",
   "execution_count": 30,
   "id": "hungarian-positive",
   "metadata": {
    "slideshow": {
     "slide_type": "fragment"
    }
   },
   "outputs": [
    {
     "data": {
      "text/html": [
       "<div>\n",
       "<style scoped>\n",
       "    .dataframe tbody tr th:only-of-type {\n",
       "        vertical-align: middle;\n",
       "    }\n",
       "\n",
       "    .dataframe tbody tr th {\n",
       "        vertical-align: top;\n",
       "    }\n",
       "\n",
       "    .dataframe thead th {\n",
       "        text-align: right;\n",
       "    }\n",
       "</style>\n",
       "<table border=\"1\" class=\"dataframe\">\n",
       "  <thead>\n",
       "    <tr style=\"text-align: right;\">\n",
       "      <th></th>\n",
       "      <th>MarkDown1</th>\n",
       "      <th>MarkDown2</th>\n",
       "      <th>MarkDown3</th>\n",
       "      <th>MarkDown4</th>\n",
       "      <th>MarkDown5</th>\n",
       "      <th>CPI</th>\n",
       "      <th>Unemployment</th>\n",
       "      <th>Temperature</th>\n",
       "      <th>Fuel_Price</th>\n",
       "      <th>Size</th>\n",
       "    </tr>\n",
       "  </thead>\n",
       "  <tbody>\n",
       "    <tr>\n",
       "      <th>count</th>\n",
       "      <td>150681.000000</td>\n",
       "      <td>111248.000000</td>\n",
       "      <td>137091.000000</td>\n",
       "      <td>134967.000000</td>\n",
       "      <td>151432.000000</td>\n",
       "      <td>421570.000000</td>\n",
       "      <td>421570.000000</td>\n",
       "      <td>421570.000000</td>\n",
       "      <td>421570.000000</td>\n",
       "      <td>421570.000000</td>\n",
       "    </tr>\n",
       "    <tr>\n",
       "      <th>mean</th>\n",
       "      <td>7246.420196</td>\n",
       "      <td>3334.628621</td>\n",
       "      <td>1439.421384</td>\n",
       "      <td>3383.168256</td>\n",
       "      <td>4628.975079</td>\n",
       "      <td>171.201947</td>\n",
       "      <td>7.960289</td>\n",
       "      <td>60.090059</td>\n",
       "      <td>3.361027</td>\n",
       "      <td>136727.915739</td>\n",
       "    </tr>\n",
       "    <tr>\n",
       "      <th>std</th>\n",
       "      <td>8291.221345</td>\n",
       "      <td>9475.357325</td>\n",
       "      <td>9623.078290</td>\n",
       "      <td>6292.384031</td>\n",
       "      <td>5962.887455</td>\n",
       "      <td>39.159276</td>\n",
       "      <td>1.863296</td>\n",
       "      <td>18.447931</td>\n",
       "      <td>0.458515</td>\n",
       "      <td>60980.583328</td>\n",
       "    </tr>\n",
       "    <tr>\n",
       "      <th>min</th>\n",
       "      <td>0.270000</td>\n",
       "      <td>-265.760000</td>\n",
       "      <td>-29.100000</td>\n",
       "      <td>0.220000</td>\n",
       "      <td>135.160000</td>\n",
       "      <td>126.064000</td>\n",
       "      <td>3.879000</td>\n",
       "      <td>-2.060000</td>\n",
       "      <td>2.472000</td>\n",
       "      <td>34875.000000</td>\n",
       "    </tr>\n",
       "    <tr>\n",
       "      <th>25%</th>\n",
       "      <td>2240.270000</td>\n",
       "      <td>41.600000</td>\n",
       "      <td>5.080000</td>\n",
       "      <td>504.220000</td>\n",
       "      <td>1878.440000</td>\n",
       "      <td>132.022667</td>\n",
       "      <td>6.891000</td>\n",
       "      <td>46.680000</td>\n",
       "      <td>2.933000</td>\n",
       "      <td>93638.000000</td>\n",
       "    </tr>\n",
       "    <tr>\n",
       "      <th>50%</th>\n",
       "      <td>5347.450000</td>\n",
       "      <td>192.000000</td>\n",
       "      <td>24.600000</td>\n",
       "      <td>1481.310000</td>\n",
       "      <td>3359.450000</td>\n",
       "      <td>182.318780</td>\n",
       "      <td>7.866000</td>\n",
       "      <td>62.090000</td>\n",
       "      <td>3.452000</td>\n",
       "      <td>140167.000000</td>\n",
       "    </tr>\n",
       "    <tr>\n",
       "      <th>75%</th>\n",
       "      <td>9210.900000</td>\n",
       "      <td>1926.940000</td>\n",
       "      <td>103.990000</td>\n",
       "      <td>3595.040000</td>\n",
       "      <td>5563.800000</td>\n",
       "      <td>212.416993</td>\n",
       "      <td>8.572000</td>\n",
       "      <td>74.280000</td>\n",
       "      <td>3.738000</td>\n",
       "      <td>202505.000000</td>\n",
       "    </tr>\n",
       "    <tr>\n",
       "      <th>max</th>\n",
       "      <td>88646.760000</td>\n",
       "      <td>104519.540000</td>\n",
       "      <td>141630.610000</td>\n",
       "      <td>67474.850000</td>\n",
       "      <td>108519.280000</td>\n",
       "      <td>227.232807</td>\n",
       "      <td>14.313000</td>\n",
       "      <td>100.140000</td>\n",
       "      <td>4.468000</td>\n",
       "      <td>219622.000000</td>\n",
       "    </tr>\n",
       "  </tbody>\n",
       "</table>\n",
       "</div>"
      ],
      "text/plain": [
       "           MarkDown1      MarkDown2      MarkDown3      MarkDown4  \\\n",
       "count  150681.000000  111248.000000  137091.000000  134967.000000   \n",
       "mean     7246.420196    3334.628621    1439.421384    3383.168256   \n",
       "std      8291.221345    9475.357325    9623.078290    6292.384031   \n",
       "min         0.270000    -265.760000     -29.100000       0.220000   \n",
       "25%      2240.270000      41.600000       5.080000     504.220000   \n",
       "50%      5347.450000     192.000000      24.600000    1481.310000   \n",
       "75%      9210.900000    1926.940000     103.990000    3595.040000   \n",
       "max     88646.760000  104519.540000  141630.610000   67474.850000   \n",
       "\n",
       "           MarkDown5            CPI   Unemployment    Temperature  \\\n",
       "count  151432.000000  421570.000000  421570.000000  421570.000000   \n",
       "mean     4628.975079     171.201947       7.960289      60.090059   \n",
       "std      5962.887455      39.159276       1.863296      18.447931   \n",
       "min       135.160000     126.064000       3.879000      -2.060000   \n",
       "25%      1878.440000     132.022667       6.891000      46.680000   \n",
       "50%      3359.450000     182.318780       7.866000      62.090000   \n",
       "75%      5563.800000     212.416993       8.572000      74.280000   \n",
       "max    108519.280000     227.232807      14.313000     100.140000   \n",
       "\n",
       "          Fuel_Price           Size  \n",
       "count  421570.000000  421570.000000  \n",
       "mean        3.361027  136727.915739  \n",
       "std         0.458515   60980.583328  \n",
       "min         2.472000   34875.000000  \n",
       "25%         2.933000   93638.000000  \n",
       "50%         3.452000  140167.000000  \n",
       "75%         3.738000  202505.000000  \n",
       "max         4.468000  219622.000000  "
      ]
     },
     "execution_count": 30,
     "metadata": {},
     "output_type": "execute_result"
    }
   ],
   "source": [
    "data[var_real].describe()"
   ]
  },
  {
   "cell_type": "markdown",
   "id": "differential-gentleman",
   "metadata": {
    "slideshow": {
     "slide_type": "fragment"
    }
   },
   "source": [
    "- В маркдаунах есть отрицательные значения"
   ]
  },
  {
   "cell_type": "code",
   "execution_count": 31,
   "id": "million-incentive",
   "metadata": {},
   "outputs": [],
   "source": [
    "# нарисуйте гистограммы признаков"
   ]
  },
  {
   "cell_type": "code",
   "execution_count": 32,
   "id": "efficient-score",
   "metadata": {
    "scrolled": false,
    "slideshow": {
     "slide_type": "subslide"
    }
   },
   "outputs": [
    {
     "data": {
      "image/png": "[encoded data removed]",
      "text/plain": [
       "<Figure size 1440x864 with 12 Axes>"
      ]
     },
     "metadata": {},
     "output_type": "display_data"
    }
   ],
   "source": [
    "data[var_real].hist(figsize=(20, 12));"
   ]
  },
  {
   "cell_type": "code",
   "execution_count": 33,
   "id": "demonstrated-expression",
   "metadata": {
    "slideshow": {
     "slide_type": "subslide"
    }
   },
   "outputs": [],
   "source": [
    "# нарисуйте матрицу корреляций"
   ]
  },
  {
   "cell_type": "code",
   "execution_count": 34,
   "id": "parliamentary-inspection",
   "metadata": {
    "slideshow": {
     "slide_type": "fragment"
    }
   },
   "outputs": [
    {
     "data": {
      "image/png": "[encoded data removed]",
      "text/plain": [
       "<Figure size 576x576 with 2 Axes>"
      ]
     },
     "metadata": {},
     "output_type": "display_data"
    }
   ],
   "source": [
    "plt.figure(figsize=(8,8))\n",
    "corr = data[var_real + ['Weekly_Sales']].corr()\n",
    "\n",
    "sns.heatmap(corr, annot=True, square=True, fmt=\".1f\", linewidths=0.1, cmap=\"RdBu\");"
   ]
  },
  {
   "cell_type": "markdown",
   "id": "champion-thunder",
   "metadata": {
    "slideshow": {
     "slide_type": "slide"
    }
   },
   "source": [
    "## Эпизод 3. Feature Engineering"
   ]
  },
  {
   "cell_type": "markdown",
   "id": "moving-heather",
   "metadata": {
    "slideshow": {
     "slide_type": "subslide"
    }
   },
   "source": [
    "Мы изучили данные, сделали **разведочный анализ** и узнали вот что:\n",
    "- в данных нет дублей\n",
    "- в данных есть пропуски - их чем-то надо закрыть\n",
    "- в целевой переменной есть отрицательные значения, надо решить, оставить или удалить\n",
    "- у целевой переменной длинный хвост -- надо его поправить\n",
    "- в переменных об уценках нужно принять схожее решение\n",
    "- колонка Data выглядит не очень трактуемой, надо с ней сотворить что-то прикладное\n",
    "- в данных есть категориальные колонки, их нужно трансформировать в удобовариемый вид\n",
    "- в одной из категориальных колонок - очень-очень много мелких категорий\n"
   ]
  },
  {
   "cell_type": "markdown",
   "id": "russian-contributor",
   "metadata": {
    "slideshow": {
     "slide_type": "subslide"
    }
   },
   "source": [
    "### Пропуски"
   ]
  },
  {
   "cell_type": "code",
   "execution_count": 35,
   "id": "significant-knight",
   "metadata": {
    "slideshow": {
     "slide_type": "subslide"
    }
   },
   "outputs": [],
   "source": [
    "# заполните пропуски"
   ]
  },
  {
   "cell_type": "code",
   "execution_count": 36,
   "id": "sixth-basic",
   "metadata": {
    "slideshow": {
     "slide_type": "fragment"
    }
   },
   "outputs": [],
   "source": [
    "data.fillna(0, inplace=True)"
   ]
  },
  {
   "cell_type": "code",
   "execution_count": 37,
   "id": "historical-mambo",
   "metadata": {
    "slideshow": {
     "slide_type": "fragment"
    }
   },
   "outputs": [
    {
     "data": {
      "image/png": "[encoded data removed]",
      "text/plain": [
       "<Figure size 720x432 with 1 Axes>"
      ]
     },
     "metadata": {},
     "output_type": "display_data"
    }
   ],
   "source": [
    "fig, ax = plt.subplots(figsize=(10,6))\n",
    "sns_heatmap = sns.heatmap(data.isnull(), yticklabels=False, cbar=False, cmap='viridis')"
   ]
  },
  {
   "cell_type": "markdown",
   "id": "ongoing-lemon",
   "metadata": {
    "slideshow": {
     "slide_type": "subslide"
    }
   },
   "source": [
    "### Целевая переменная"
   ]
  },
  {
   "cell_type": "code",
   "execution_count": 38,
   "id": "ideal-compound",
   "metadata": {
    "slideshow": {
     "slide_type": "subslide"
    }
   },
   "outputs": [],
   "source": [
    "# удалите все строки, где целевая переменная отрицательная"
   ]
  },
  {
   "cell_type": "code",
   "execution_count": 39,
   "id": "heavy-bandwidth",
   "metadata": {
    "slideshow": {
     "slide_type": "fragment"
    }
   },
   "outputs": [],
   "source": [
    "data = data[data.Weekly_Sales > 0]"
   ]
  },
  {
   "cell_type": "code",
   "execution_count": 40,
   "id": "impressed-fever",
   "metadata": {
    "slideshow": {
     "slide_type": "subslide"
    }
   },
   "outputs": [],
   "source": [
    "# c длинными хвостами борются логарифмирование\n",
    "# прологарифмируйту колонку Weekly Sales и сохраните в новую ln_weekly_sales"
   ]
  },
  {
   "cell_type": "code",
   "execution_count": 41,
   "id": "bored-operator",
   "metadata": {
    "slideshow": {
     "slide_type": "fragment"
    }
   },
   "outputs": [],
   "source": [
    "data['ln_weekly_sales'] = data['Weekly_Sales'].apply(lambda w: np.log(w))"
   ]
  },
  {
   "cell_type": "code",
   "execution_count": 42,
   "id": "happy-delivery",
   "metadata": {
    "slideshow": {
     "slide_type": "subslide"
    }
   },
   "outputs": [],
   "source": [
    "# визуализируйте с помощь гистограмм исходное распределение и прологарифмированное"
   ]
  },
  {
   "cell_type": "code",
   "execution_count": 43,
   "id": "insured-geneva",
   "metadata": {
    "slideshow": {
     "slide_type": "fragment"
    }
   },
   "outputs": [
    {
     "data": {
      "text/plain": [
       "array([[<AxesSubplot:title={'center':'Weekly_Sales'}>,\n",
       "        <AxesSubplot:title={'center':'ln_weekly_sales'}>]], dtype=object)"
      ]
     },
     "execution_count": 43,
     "metadata": {},
     "output_type": "execute_result"
    },
    {
     "data": {
      "image/png": "[encoded data removed]",
      "text/plain": [
       "<Figure size 1440x432 with 2 Axes>"
      ]
     },
     "metadata": {},
     "output_type": "display_data"
    }
   ],
   "source": [
    "data[['Weekly_Sales', 'ln_weekly_sales']].hist(figsize=(20, 6))"
   ]
  },
  {
   "cell_type": "markdown",
   "id": "insured-springer",
   "metadata": {
    "slideshow": {
     "slide_type": "subslide"
    }
   },
   "source": [
    "### Дата"
   ]
  },
  {
   "cell_type": "code",
   "execution_count": 44,
   "id": "through-haiti",
   "metadata": {
    "slideshow": {
     "slide_type": "subslide"
    }
   },
   "outputs": [],
   "source": [
    "# функцией pd.to_datetime преобразуйте колонку из текста в дату"
   ]
  },
  {
   "cell_type": "code",
   "execution_count": 45,
   "id": "center-horizon",
   "metadata": {
    "slideshow": {
     "slide_type": "fragment"
    }
   },
   "outputs": [
    {
     "data": {
      "text/plain": [
       "0        2010-02-05\n",
       "1        2010-02-05\n",
       "2        2010-02-05\n",
       "3        2010-02-05\n",
       "4        2010-02-05\n",
       "            ...    \n",
       "421565   2012-10-26\n",
       "421566   2012-10-26\n",
       "421567   2012-10-26\n",
       "421568   2012-10-26\n",
       "421569   2012-10-26\n",
       "Name: Date, Length: 420212, dtype: datetime64[ns]"
      ]
     },
     "execution_count": 45,
     "metadata": {},
     "output_type": "execute_result"
    }
   ],
   "source": [
    "data.Date = pd.to_datetime(data.Date)\n",
    "data.Date"
   ]
  },
  {
   "cell_type": "code",
   "execution_count": 46,
   "id": "advised-import",
   "metadata": {
    "slideshow": {
     "slide_type": "subslide"
    }
   },
   "outputs": [],
   "source": [
    "# выделите в качестве признака месяц"
   ]
  },
  {
   "cell_type": "code",
   "execution_count": 47,
   "id": "comic-graham",
   "metadata": {
    "slideshow": {
     "slide_type": "fragment"
    }
   },
   "outputs": [],
   "source": [
    "data['Month'] = data['Date'].dt.month\n"
   ]
  },
  {
   "cell_type": "code",
   "execution_count": 48,
   "id": "applied-supplement",
   "metadata": {
    "slideshow": {
     "slide_type": "subslide"
    }
   },
   "outputs": [],
   "source": [
    "data['Black_Friday'] = (np.where((data['Date']=='2010-11-26') |\n",
    "                              (data['Date']=='2011-11-25') | \n",
    "                              (data['Date']=='2012-11-23'), 1, 0))\n",
    "\n",
    "# Предрождественские деньки: \n",
    "data['Pre_christmas'] = (np.where((data['Date']=='2010-12-23') | \n",
    "                               (data['Date']=='2010-12-24') | \n",
    "                               (data['Date']=='2011-12-23') | \n",
    "                               (data['Date']=='2011-12-24') |\n",
    "                               (data['Date']=='2012-12-23') | \n",
    "                               (data['Date']=='2012-12-24'), 1, 0))"
   ]
  },
  {
   "cell_type": "markdown",
   "id": "premier-phone",
   "metadata": {
    "slideshow": {
     "slide_type": "subslide"
    }
   },
   "source": [
    "### Категориальные переменные"
   ]
  },
  {
   "cell_type": "code",
   "execution_count": 49,
   "id": "healthy-litigation",
   "metadata": {
    "slideshow": {
     "slide_type": "subslide"
    }
   },
   "outputs": [],
   "source": [
    "# сделаем все колонки категориальных переменных типа object"
   ]
  },
  {
   "cell_type": "code",
   "execution_count": 50,
   "id": "happy-murder",
   "metadata": {
    "slideshow": {
     "slide_type": "fragment"
    }
   },
   "outputs": [],
   "source": [
    "data[var_cat] = data[var_cat].astype('object')"
   ]
  },
  {
   "cell_type": "code",
   "execution_count": 51,
   "id": "trying-motivation",
   "metadata": {
    "slideshow": {
     "slide_type": "subslide"
    }
   },
   "outputs": [],
   "source": [
    "# найдем маленькие категории в колонке Dept\n",
    "# 1. создадим список всех категорий\n",
    "# 2. найдем большие - такие, что в них более 4000 записей\n",
    "# 3. найдем разницу в этих двух списках\n",
    "# 4. выведем малые категории на печатть"
   ]
  },
  {
   "cell_type": "code",
   "execution_count": 52,
   "id": "welsh-cargo",
   "metadata": {
    "slideshow": {
     "slide_type": "fragment"
    }
   },
   "outputs": [
    {
     "name": "stdout",
     "output_type": "stream",
     "text": [
      "[65, 99, 37, 39, 43, 45, 77, 47, 48, 78, 50, 51]\n"
     ]
    }
   ],
   "source": [
    "uniq_category = data['Dept'].unique()  \n",
    "counts = data['Dept'].value_counts()\n",
    "big_category = counts[counts > 4000].index\n",
    "small_category = list(set(uniq_category) - set(big_category))\n",
    "print(small_category)"
   ]
  },
  {
   "cell_type": "code",
   "execution_count": 53,
   "id": "outdoor-armor",
   "metadata": {
    "slideshow": {
     "slide_type": "subslide"
    }
   },
   "outputs": [],
   "source": [
    "# заменим в колонке маленькие категории на -1, а остальные номера оставим. \n",
    "# преобразуем в строковый тип данных "
   ]
  },
  {
   "cell_type": "code",
   "execution_count": 54,
   "id": "green-headquarters",
   "metadata": {
    "slideshow": {
     "slide_type": "fragment"
    }
   },
   "outputs": [],
   "source": [
    "data['Dept'] = data['Dept'].apply(lambda w: -1 if w in small_category else w).astype('object')"
   ]
  },
  {
   "cell_type": "code",
   "execution_count": 55,
   "id": "extraordinary-rainbow",
   "metadata": {
    "slideshow": {
     "slide_type": "subslide"
    }
   },
   "outputs": [],
   "source": [
    "# финальный шаг, сделаем OHE-кодирование\n",
    "# удалим из датасета колонку даты, и отдадим ее функции pd.get_dummies() на растерзание"
   ]
  },
  {
   "cell_type": "code",
   "execution_count": 56,
   "id": "indie-description",
   "metadata": {
    "slideshow": {
     "slide_type": "fragment"
    }
   },
   "outputs": [],
   "source": [
    "data_transf = pd.get_dummies(data.drop('Date', axis=1), drop_first=True, dummy_na=False)\n"
   ]
  },
  {
   "cell_type": "markdown",
   "id": "dangerous-herald",
   "metadata": {
    "slideshow": {
     "slide_type": "slide"
    }
   },
   "source": [
    "## Эпилог"
   ]
  },
  {
   "cell_type": "code",
   "execution_count": 57,
   "id": "small-qualification",
   "metadata": {
    "slideshow": {
     "slide_type": "subslide"
    }
   },
   "outputs": [],
   "source": [
    "data['future_sales'] = data.Weekly_Sales.shift(-1)\n",
    "data = data[~data['future_sales'].isna()]"
   ]
  }
 ],
 "metadata": {
  "celltoolbar": "Слайд-шоу",
  "kernelspec": {
   "display_name": "Python 3",
   "language": "python",
   "name": "python3"
  },
  "language_info": {
   "codemirror_mode": {
    "name": "ipython",
    "version": 3
   },
   "file_extension": ".py",
   "mimetype": "text/x-python",
   "name": "python",
   "nbconvert_exporter": "python",
   "pygments_lexer": "ipython3",
   "version": "3.8.5"
  }
 },
 "nbformat": 4,
 "nbformat_minor": 5
}
