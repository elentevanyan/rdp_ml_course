{
 "cells": [
  {
   "cell_type": "markdown",
   "id": "associate-tuner",
   "metadata": {},
   "source": [
    "# Композиции алгоритмов - практика"
   ]
  },
  {
   "cell_type": "code",
   "execution_count": 1,
   "id": "finnish-heritage",
   "metadata": {},
   "outputs": [],
   "source": [
    "import pandas as pd\n",
    "import numpy as np\n",
    "from sklearn.model_selection import train_test_split, GridSearchCV\n",
    "from sklearn.metrics import roc_auc_score"
   ]
  },
  {
   "cell_type": "code",
   "execution_count": 2,
   "id": "apparent-unemployment",
   "metadata": {},
   "outputs": [],
   "source": [
    "import warnings\n",
    "warnings.filterwarnings('ignore')"
   ]
  },
  {
   "cell_type": "code",
   "execution_count": 3,
   "id": "atlantic-composite",
   "metadata": {
    "scrolled": false
   },
   "outputs": [
    {
     "data": {
      "text/html": [
       "<div>\n",
       "<style scoped>\n",
       "    .dataframe tbody tr th:only-of-type {\n",
       "        vertical-align: middle;\n",
       "    }\n",
       "\n",
       "    .dataframe tbody tr th {\n",
       "        vertical-align: top;\n",
       "    }\n",
       "\n",
       "    .dataframe thead th {\n",
       "        text-align: right;\n",
       "    }\n",
       "</style>\n",
       "<table border=\"1\" class=\"dataframe\">\n",
       "  <thead>\n",
       "    <tr style=\"text-align: right;\">\n",
       "      <th></th>\n",
       "      <th>YEAR</th>\n",
       "      <th>MONTH</th>\n",
       "      <th>DAY</th>\n",
       "      <th>DAY_OF_WEEK</th>\n",
       "      <th>AIRLINE</th>\n",
       "      <th>FLIGHT_NUMBER</th>\n",
       "      <th>TAIL_NUMBER</th>\n",
       "      <th>ORIGIN_AIRPORT</th>\n",
       "      <th>DESTINATION_AIRPORT</th>\n",
       "      <th>SCHEDULED_DEPARTURE</th>\n",
       "      <th>...</th>\n",
       "      <th>ARRIVAL_TIME</th>\n",
       "      <th>ARRIVAL_DELAY</th>\n",
       "      <th>DIVERTED</th>\n",
       "      <th>CANCELLED</th>\n",
       "      <th>CANCELLATION_REASON</th>\n",
       "      <th>AIR_SYSTEM_DELAY</th>\n",
       "      <th>SECURITY_DELAY</th>\n",
       "      <th>AIRLINE_DELAY</th>\n",
       "      <th>LATE_AIRCRAFT_DELAY</th>\n",
       "      <th>WEATHER_DELAY</th>\n",
       "    </tr>\n",
       "  </thead>\n",
       "  <tbody>\n",
       "    <tr>\n",
       "      <th>0</th>\n",
       "      <td>2015</td>\n",
       "      <td>11</td>\n",
       "      <td>12</td>\n",
       "      <td>4</td>\n",
       "      <td>OO</td>\n",
       "      <td>4622</td>\n",
       "      <td>N806SK</td>\n",
       "      <td>MSP</td>\n",
       "      <td>BOI</td>\n",
       "      <td>1132</td>\n",
       "      <td>...</td>\n",
       "      <td>1333.0</td>\n",
       "      <td>0</td>\n",
       "      <td>0</td>\n",
       "      <td>0</td>\n",
       "      <td>NaN</td>\n",
       "      <td>NaN</td>\n",
       "      <td>NaN</td>\n",
       "      <td>NaN</td>\n",
       "      <td>NaN</td>\n",
       "      <td>NaN</td>\n",
       "    </tr>\n",
       "    <tr>\n",
       "      <th>1</th>\n",
       "      <td>2015</td>\n",
       "      <td>6</td>\n",
       "      <td>18</td>\n",
       "      <td>4</td>\n",
       "      <td>AA</td>\n",
       "      <td>2423</td>\n",
       "      <td>N4XPAA</td>\n",
       "      <td>MSP</td>\n",
       "      <td>DFW</td>\n",
       "      <td>1520</td>\n",
       "      <td>...</td>\n",
       "      <td>1952.0</td>\n",
       "      <td>1</td>\n",
       "      <td>0</td>\n",
       "      <td>0</td>\n",
       "      <td>NaN</td>\n",
       "      <td>0.0</td>\n",
       "      <td>0.0</td>\n",
       "      <td>0.0</td>\n",
       "      <td>125.0</td>\n",
       "      <td>0.0</td>\n",
       "    </tr>\n",
       "    <tr>\n",
       "      <th>2</th>\n",
       "      <td>2015</td>\n",
       "      <td>3</td>\n",
       "      <td>5</td>\n",
       "      <td>4</td>\n",
       "      <td>OO</td>\n",
       "      <td>5627</td>\n",
       "      <td>N114SY</td>\n",
       "      <td>CLT</td>\n",
       "      <td>ORD</td>\n",
       "      <td>1704</td>\n",
       "      <td>...</td>\n",
       "      <td>1844.0</td>\n",
       "      <td>1</td>\n",
       "      <td>0</td>\n",
       "      <td>0</td>\n",
       "      <td>NaN</td>\n",
       "      <td>0.0</td>\n",
       "      <td>0.0</td>\n",
       "      <td>6.0</td>\n",
       "      <td>24.0</td>\n",
       "      <td>0.0</td>\n",
       "    </tr>\n",
       "    <tr>\n",
       "      <th>3</th>\n",
       "      <td>2015</td>\n",
       "      <td>4</td>\n",
       "      <td>4</td>\n",
       "      <td>6</td>\n",
       "      <td>US</td>\n",
       "      <td>854</td>\n",
       "      <td>N206UW</td>\n",
       "      <td>ORD</td>\n",
       "      <td>PHL</td>\n",
       "      <td>1835</td>\n",
       "      <td>...</td>\n",
       "      <td>2116.0</td>\n",
       "      <td>0</td>\n",
       "      <td>0</td>\n",
       "      <td>0</td>\n",
       "      <td>NaN</td>\n",
       "      <td>NaN</td>\n",
       "      <td>NaN</td>\n",
       "      <td>NaN</td>\n",
       "      <td>NaN</td>\n",
       "      <td>NaN</td>\n",
       "    </tr>\n",
       "    <tr>\n",
       "      <th>4</th>\n",
       "      <td>2015</td>\n",
       "      <td>9</td>\n",
       "      <td>23</td>\n",
       "      <td>3</td>\n",
       "      <td>UA</td>\n",
       "      <td>1082</td>\n",
       "      <td>N13248</td>\n",
       "      <td>ORD</td>\n",
       "      <td>EWR</td>\n",
       "      <td>1030</td>\n",
       "      <td>...</td>\n",
       "      <td>1318.0</td>\n",
       "      <td>0</td>\n",
       "      <td>0</td>\n",
       "      <td>0</td>\n",
       "      <td>NaN</td>\n",
       "      <td>NaN</td>\n",
       "      <td>NaN</td>\n",
       "      <td>NaN</td>\n",
       "      <td>NaN</td>\n",
       "      <td>NaN</td>\n",
       "    </tr>\n",
       "  </tbody>\n",
       "</table>\n",
       "<p>5 rows × 31 columns</p>\n",
       "</div>"
      ],
      "text/plain": [
       "   YEAR  MONTH  DAY  DAY_OF_WEEK AIRLINE  FLIGHT_NUMBER TAIL_NUMBER  \\\n",
       "0  2015     11   12            4      OO           4622      N806SK   \n",
       "1  2015      6   18            4      AA           2423      N4XPAA   \n",
       "2  2015      3    5            4      OO           5627      N114SY   \n",
       "3  2015      4    4            6      US            854      N206UW   \n",
       "4  2015      9   23            3      UA           1082      N13248   \n",
       "\n",
       "  ORIGIN_AIRPORT DESTINATION_AIRPORT  SCHEDULED_DEPARTURE  ...  ARRIVAL_TIME  \\\n",
       "0            MSP                 BOI                 1132  ...        1333.0   \n",
       "1            MSP                 DFW                 1520  ...        1952.0   \n",
       "2            CLT                 ORD                 1704  ...        1844.0   \n",
       "3            ORD                 PHL                 1835  ...        2116.0   \n",
       "4            ORD                 EWR                 1030  ...        1318.0   \n",
       "\n",
       "   ARRIVAL_DELAY  DIVERTED  CANCELLED  CANCELLATION_REASON  AIR_SYSTEM_DELAY  \\\n",
       "0              0         0          0                  NaN               NaN   \n",
       "1              1         0          0                  NaN               0.0   \n",
       "2              1         0          0                  NaN               0.0   \n",
       "3              0         0          0                  NaN               NaN   \n",
       "4              0         0          0                  NaN               NaN   \n",
       "\n",
       "   SECURITY_DELAY  AIRLINE_DELAY  LATE_AIRCRAFT_DELAY  WEATHER_DELAY  \n",
       "0             NaN            NaN                  NaN            NaN  \n",
       "1             0.0            0.0                125.0            0.0  \n",
       "2             0.0            6.0                 24.0            0.0  \n",
       "3             NaN            NaN                  NaN            NaN  \n",
       "4             NaN            NaN                  NaN            NaN  \n",
       "\n",
       "[5 rows x 31 columns]"
      ]
     },
     "execution_count": 3,
     "metadata": {},
     "output_type": "execute_result"
    }
   ],
   "source": [
    "data = pd.read_csv(\"flights_sample.csv\")\n",
    "data.head()"
   ]
  },
  {
   "cell_type": "markdown",
   "id": "comparative-compact",
   "metadata": {},
   "source": [
    "## Feature Engineering Express\n",
    "\n",
    "1) Оставьте колонки \"MONTH\",\"DAY\",\"DAY_OF_WEEK\",\"AIRLINE\",\"FLIGHT_NUMBER\",\"DESTINATION_AIRPORT\",\n",
    "                 \"ORIGIN_AIRPORT\",\"AIR_TIME\", \"DEPARTURE_TIME\",\"DISTANCE\",\"ARRIVAL_DELAY\"\n",
    "                 \n",
    "2) Удалите пропуски в датасете\n",
    "\n",
    "3) Создайте столбец  target с 1 и 0: 1, если опоздание более чем на 10 минут, 0 - меньше или ровно 10 минут\n",
    "\n",
    "4) Для листа cols закодируйте колонки с категориальными переменными в числа (т.е. текстовым переменным поставим в соответствие числа\n",
    "\n",
    "5) Разбейте данные на тренировочную и тестовую выборку в соотношении 0.75, 0.25"
   ]
  },
  {
   "cell_type": "code",
   "execution_count": 4,
   "id": "incomplete-juvenile",
   "metadata": {},
   "outputs": [],
   "source": [
    "data = data[[\"MONTH\",\"DAY\",\"DAY_OF_WEEK\",\"AIRLINE\",\"FLIGHT_NUMBER\",\"DESTINATION_AIRPORT\",\n",
    "                 \"ORIGIN_AIRPORT\",\"AIR_TIME\", \"DEPARTURE_TIME\",\"DISTANCE\",\"ARRIVAL_DELAY\"]]\n",
    "\n",
    "\n",
    "data.dropna(inplace=True)\n",
    "\n",
    "\n",
    "cols = [\"MONTH\",\"DAY\",\"DAY_OF_WEEK\",\"AIRLINE\",\"FLIGHT_NUMBER\",\"DESTINATION_AIRPORT\",\n",
    "                 \"ORIGIN_AIRPORT\",\"ARRIVAL_DELAY\"]\n",
    "\n",
    "\n",
    "for item in cols:\n",
    "    data[item] = data[item].astype(\"category\").cat.codes + 1\n",
    "\n",
    "X_train, X_test, y_train, y_test = train_test_split(data.drop([\"ARRIVAL_DELAY\"], axis=1),\n",
    "                                                    data[\"ARRIVAL_DELAY\"],\n",
    "                                                    test_size=0.25)"
   ]
  },
  {
   "cell_type": "code",
   "execution_count": 5,
   "id": "incomplete-sleep",
   "metadata": {},
   "outputs": [
    {
     "data": {
      "text/html": [
       "<div>\n",
       "<style scoped>\n",
       "    .dataframe tbody tr th:only-of-type {\n",
       "        vertical-align: middle;\n",
       "    }\n",
       "\n",
       "    .dataframe tbody tr th {\n",
       "        vertical-align: top;\n",
       "    }\n",
       "\n",
       "    .dataframe thead th {\n",
       "        text-align: right;\n",
       "    }\n",
       "</style>\n",
       "<table border=\"1\" class=\"dataframe\">\n",
       "  <thead>\n",
       "    <tr style=\"text-align: right;\">\n",
       "      <th></th>\n",
       "      <th>MONTH</th>\n",
       "      <th>DAY</th>\n",
       "      <th>DAY_OF_WEEK</th>\n",
       "      <th>AIRLINE</th>\n",
       "      <th>FLIGHT_NUMBER</th>\n",
       "      <th>DESTINATION_AIRPORT</th>\n",
       "      <th>ORIGIN_AIRPORT</th>\n",
       "      <th>AIR_TIME</th>\n",
       "      <th>DEPARTURE_TIME</th>\n",
       "      <th>DISTANCE</th>\n",
       "      <th>ARRIVAL_DELAY</th>\n",
       "    </tr>\n",
       "  </thead>\n",
       "  <tbody>\n",
       "    <tr>\n",
       "      <th>0</th>\n",
       "      <td>11</td>\n",
       "      <td>12</td>\n",
       "      <td>4</td>\n",
       "      <td>10</td>\n",
       "      <td>4610</td>\n",
       "      <td>340</td>\n",
       "      <td>521</td>\n",
       "      <td>163.0</td>\n",
       "      <td>1131.0</td>\n",
       "      <td>1142</td>\n",
       "      <td>1</td>\n",
       "    </tr>\n",
       "    <tr>\n",
       "      <th>1</th>\n",
       "      <td>6</td>\n",
       "      <td>18</td>\n",
       "      <td>4</td>\n",
       "      <td>1</td>\n",
       "      <td>2420</td>\n",
       "      <td>388</td>\n",
       "      <td>521</td>\n",
       "      <td>109.0</td>\n",
       "      <td>1729.0</td>\n",
       "      <td>852</td>\n",
       "      <td>2</td>\n",
       "    </tr>\n",
       "    <tr>\n",
       "      <th>2</th>\n",
       "      <td>3</td>\n",
       "      <td>5</td>\n",
       "      <td>4</td>\n",
       "      <td>10</td>\n",
       "      <td>5614</td>\n",
       "      <td>530</td>\n",
       "      <td>371</td>\n",
       "      <td>100.0</td>\n",
       "      <td>1743.0</td>\n",
       "      <td>599</td>\n",
       "      <td>2</td>\n",
       "    </tr>\n",
       "    <tr>\n",
       "      <th>3</th>\n",
       "      <td>4</td>\n",
       "      <td>4</td>\n",
       "      <td>6</td>\n",
       "      <td>12</td>\n",
       "      <td>852</td>\n",
       "      <td>540</td>\n",
       "      <td>533</td>\n",
       "      <td>82.0</td>\n",
       "      <td>1829.0</td>\n",
       "      <td>678</td>\n",
       "      <td>1</td>\n",
       "    </tr>\n",
       "    <tr>\n",
       "      <th>4</th>\n",
       "      <td>9</td>\n",
       "      <td>23</td>\n",
       "      <td>3</td>\n",
       "      <td>11</td>\n",
       "      <td>1079</td>\n",
       "      <td>408</td>\n",
       "      <td>533</td>\n",
       "      <td>97.0</td>\n",
       "      <td>1023.0</td>\n",
       "      <td>719</td>\n",
       "      <td>1</td>\n",
       "    </tr>\n",
       "  </tbody>\n",
       "</table>\n",
       "</div>"
      ],
      "text/plain": [
       "   MONTH  DAY  DAY_OF_WEEK  AIRLINE  FLIGHT_NUMBER  DESTINATION_AIRPORT  \\\n",
       "0     11   12            4       10           4610                  340   \n",
       "1      6   18            4        1           2420                  388   \n",
       "2      3    5            4       10           5614                  530   \n",
       "3      4    4            6       12            852                  540   \n",
       "4      9   23            3       11           1079                  408   \n",
       "\n",
       "   ORIGIN_AIRPORT  AIR_TIME  DEPARTURE_TIME  DISTANCE  ARRIVAL_DELAY  \n",
       "0             521     163.0          1131.0      1142              1  \n",
       "1             521     109.0          1729.0       852              2  \n",
       "2             371     100.0          1743.0       599              2  \n",
       "3             533      82.0          1829.0       678              1  \n",
       "4             533      97.0          1023.0       719              1  "
      ]
     },
     "execution_count": 5,
     "metadata": {},
     "output_type": "execute_result"
    }
   ],
   "source": [
    "data.head()"
   ]
  },
  {
   "cell_type": "markdown",
   "id": "metric-advocate",
   "metadata": {},
   "source": [
    "## Поддерживающее задание \n",
    "\n",
    "Создайте пользовательскую функцию print_auc с тремя параметрами:\n",
    "- model: модель, которая будет делать прогнозы\n",
    "- train: тренировочные данные\n",
    "- test: тестовые данные\n",
    "\n",
    "Функция возвращает два значения: roc_auc для тренировочной выборки и roc_auc для тестовой выборки"
   ]
  },
  {
   "cell_type": "code",
   "execution_count": 6,
   "id": "documented-hydrogen",
   "metadata": {},
   "outputs": [],
   "source": [
    "def print_auc(m, train, test): \n",
    "    return (metrics.roc_auc_score(y_train, m.predict_proba(train)[:,1]),\n",
    "                            metrics.roc_auc_score(y_test,m.predict_proba(test)[:,1]))"
   ]
  },
  {
   "cell_type": "markdown",
   "id": "monetary-newman",
   "metadata": {},
   "source": [
    "Все бустинговые библиотеки поддерживают формат обучения моделей, как в sklearn, так и свои собственные элементы"
   ]
  },
  {
   "cell_type": "markdown",
   "id": "divine-amazon",
   "metadata": {},
   "source": [
    "# Random Forest "
   ]
  },
  {
   "cell_type": "code",
   "execution_count": null,
   "id": "cutting-siemens",
   "metadata": {},
   "outputs": [],
   "source": [
    "from sklearn.ensemble import RandomForestClassifier"
   ]
  },
  {
   "cell_type": "code",
   "execution_count": null,
   "id": "heavy-queue",
   "metadata": {},
   "outputs": [],
   "source": [
    "# угадайте, какой код тут\n",
    "model_rf = RandomForestClassifier()\n",
    "\n",
    "\n",
    "model_rf.fit(X_train, y_train)"
   ]
  },
  {
   "cell_type": "code",
   "execution_count": null,
   "id": "protected-studio",
   "metadata": {},
   "outputs": [],
   "source": [
    "y_pred_rf = model_rf.predict(X_test)"
   ]
  },
  {
   "cell_type": "code",
   "execution_count": null,
   "id": "level-lithuania",
   "metadata": {},
   "outputs": [],
   "source": [
    "y_pred_rf"
   ]
  },
  {
   "cell_type": "code",
   "execution_count": null,
   "id": "vietnamese-thong",
   "metadata": {},
   "outputs": [],
   "source": [
    "y_pred_rf_proba = model_rf.predict_proba(X_test)[:, 1]\n",
    "print(y_pred_rf_proba)"
   ]
  },
  {
   "cell_type": "code",
   "execution_count": null,
   "id": "solid-organizer",
   "metadata": {},
   "outputs": [],
   "source": [
    "print(roc_auc_score(y_test, y_pred_rf_proba))"
   ]
  },
  {
   "cell_type": "markdown",
   "id": "spoken-second",
   "metadata": {},
   "source": [
    "### Попробуем найти, с каким количеством деревьев лучше"
   ]
  },
  {
   "cell_type": "code",
   "execution_count": null,
   "id": "generous-favorite",
   "metadata": {},
   "outputs": [],
   "source": [
    "params = {'n_estimators': [10, 50],\n",
    "          'max_features': [3, 5]}\n",
    "\n",
    "model = RandomForestClassifier()\n",
    "\n",
    "grid_cv = GridSearchCV(model, params, cv=3, scoring='roc_auc')"
   ]
  },
  {
   "cell_type": "code",
   "execution_count": null,
   "id": "remarkable-horizontal",
   "metadata": {},
   "outputs": [],
   "source": [
    "grid_cv.fit(X_train, y_train)"
   ]
  },
  {
   "cell_type": "code",
   "execution_count": null,
   "id": "located-orientation",
   "metadata": {},
   "outputs": [],
   "source": [
    "grid_cv.best_params_"
   ]
  },
  {
   "cell_type": "code",
   "execution_count": null,
   "id": "sonic-adjustment",
   "metadata": {},
   "outputs": [],
   "source": [
    "grid_cv.best_score_"
   ]
  },
  {
   "cell_type": "code",
   "execution_count": null,
   "id": "constant-vintage",
   "metadata": {},
   "outputs": [],
   "source": [
    "model_cv = grid_cv.best_estimator_"
   ]
  },
  {
   "cell_type": "code",
   "execution_count": null,
   "id": "modified-steal",
   "metadata": {},
   "outputs": [],
   "source": [
    "y_pred_cv = model_cv.predict_proba(X_test)[:, 1]\n",
    "print(roc_auc_score(y_test, y_pred_cv))"
   ]
  },
  {
   "cell_type": "markdown",
   "id": "bronze-content",
   "metadata": {},
   "source": [
    "# LightGBM"
   ]
  },
  {
   "cell_type": "markdown",
   "id": "endless-mandate",
   "metadata": {},
   "source": [
    "* [Документация LightGBM](https://lightgbm.readthedocs.io/en/latest/Python-Intro.html)\n",
    "\n",
    "### Основные параметры\n",
    "\n",
    "(lightgbm/catboost)\n",
    "\n",
    "* objective – функционал, на который будет настраиваться композиция\n",
    "* eta / learning_rate – темп (скорость) обучения\n",
    "* num_iterations / n_estimators  – число итераций бустинга\n",
    "\n",
    "#### Параметры, отвечающие за сложность деревьев\n",
    "* max_depth – максимальная глубина \n",
    "* max_leaves / num_leaves – максимальное число вершин в дереве\n",
    "* gamma / min_gain_to_split – порог на уменьшение функции ошибки при расщеплении в дереве\n",
    "* min_data_in_leaf – минимальное число объектов в листе\n",
    "* min_sum_hessian_in_leaf – минимальная сумма весов объектов в листе, минимальное число объектов, при котором делается расщепление \n",
    "* lambda – коэффициент регуляризации (L2)\n",
    "* subsample / bagging_fraction – какую часть объектов обучения использовать для построения одного дерева \n",
    "* colsample_bytree / feature_fraction – какую часть признаков использовать для построения одного дерева \n",
    "\n",
    "Подбор всех этих параметров — настоящее искусство. Но начать их настройку можно с самых главных параметров: learning_rate и n_estimators. Обычно один из них фиксируют, а оставшийся из этих двух параметров подбирают (например, фиксируют n_estimators=1000 и подбирают learning_rate). Следующим по важности является max_depth. В силу того, что мы заинтересованы в неглубоких деревьях, обычно его перебирают из диапазона [3; 7].\n",
    "\n",
    "\n"
   ]
  },
  {
   "cell_type": "markdown",
   "id": "egyptian-alloy",
   "metadata": {},
   "source": [
    "### Вариант 0"
   ]
  },
  {
   "cell_type": "code",
   "execution_count": 7,
   "id": "weighted-breast",
   "metadata": {},
   "outputs": [],
   "source": [
    "from lightgbm import LGBMClassifier"
   ]
  },
  {
   "cell_type": "code",
   "execution_count": 8,
   "id": "honest-mercury",
   "metadata": {},
   "outputs": [
    {
     "name": "stdout",
     "output_type": "stream",
     "text": [
      "0.7294852807023812\n"
     ]
    }
   ],
   "source": [
    "model = LGBMClassifier()\n",
    "model.fit(X_train, y_train)\n",
    "\n",
    "y_pred_lgb = model.predict_proba(X_test)\n",
    "print(roc_auc_score(y_test, y_pred_lgb[:, 1]))"
   ]
  },
  {
   "cell_type": "markdown",
   "id": "smaller-packing",
   "metadata": {},
   "source": [
    "### Вариант 1"
   ]
  },
  {
   "cell_type": "code",
   "execution_count": 10,
   "id": "commercial-dispatch",
   "metadata": {},
   "outputs": [],
   "source": [
    "params_gbm = {\n",
    "    \"objective\": 'binary',\n",
    "    \"max_depth\": 5,\n",
    "    \"min_child_weight\" : 2,\n",
    "    \"n_estimators\": 100,\n",
    "    \"learning_rate\": 0.1}"
   ]
  },
  {
   "cell_type": "code",
   "execution_count": 12,
   "id": "heard-first",
   "metadata": {},
   "outputs": [],
   "source": [
    "import lightgbm as lgb"
   ]
  },
  {
   "cell_type": "code",
   "execution_count": 34,
   "id": "royal-course",
   "metadata": {
    "scrolled": true
   },
   "outputs": [
    {
     "name": "stdout",
     "output_type": "stream",
     "text": [
      "[LightGBM] [Warning] Accuracy may be bad since you didn't explicitly set num_leaves OR 2^max_depth > num_leaves. (num_leaves=31).\n",
      "[LightGBM] [Warning] Accuracy may be bad since you didn't explicitly set num_leaves OR 2^max_depth > num_leaves. (num_leaves=31).\n",
      "[LightGBM] [Warning] Contains only one class\n",
      "[LightGBM] [Info] Number of positive: 428667, number of negative: 0\n",
      "[LightGBM] [Warning] Auto-choosing row-wise multi-threading, the overhead of testing was 0.002420 seconds.\n",
      "You can set `force_row_wise=true` to remove the overhead.\n",
      "And if memory is not enough, you can set `force_col_wise=true`.\n",
      "[LightGBM] [Info] Total Bins 1527\n",
      "[LightGBM] [Info] Number of data points in the train set: 428667, number of used features: 10\n",
      "[LightGBM] [Info] [binary:BoostFromScore]: pavg=1.000000 -> initscore=34.539576\n",
      "[LightGBM] [Info] Start training from score 34.539576\n",
      "[LightGBM] [Info] [binary:BoostFromScore]: pavg=1.000000 -> initscore=34.539576\n",
      "[LightGBM] [Warning] Stopped training because there are no more leaves that meet the split requirements\n",
      "[LightGBM] [Warning] Stopped training because there are no more leaves that meet the split requirements\n",
      "[LightGBM] [Warning] Stopped training because there are no more leaves that meet the split requirements\n",
      "[LightGBM] [Warning] Stopped training because there are no more leaves that meet the split requirements\n",
      "[LightGBM] [Warning] Stopped training because there are no more leaves that meet the split requirements\n",
      "[LightGBM] [Warning] Stopped training because there are no more leaves that meet the split requirements\n",
      "[LightGBM] [Warning] Stopped training because there are no more leaves that meet the split requirements\n",
      "[LightGBM] [Warning] Stopped training because there are no more leaves that meet the split requirements\n",
      "[LightGBM] [Warning] Stopped training because there are no more leaves that meet the split requirements\n",
      "[LightGBM] [Warning] Stopped training because there are no more leaves that meet the split requirements\n",
      "[LightGBM] [Warning] Stopped training because there are no more leaves that meet the split requirements\n",
      "[LightGBM] [Warning] Stopped training because there are no more leaves that meet the split requirements\n",
      "[LightGBM] [Warning] Stopped training because there are no more leaves that meet the split requirements\n",
      "[LightGBM] [Warning] Stopped training because there are no more leaves that meet the split requirements\n",
      "[LightGBM] [Warning] Stopped training because there are no more leaves that meet the split requirements\n",
      "[LightGBM] [Warning] Stopped training because there are no more leaves that meet the split requirements\n",
      "[LightGBM] [Warning] Stopped training because there are no more leaves that meet the split requirements\n",
      "[LightGBM] [Warning] Stopped training because there are no more leaves that meet the split requirements\n",
      "[LightGBM] [Warning] Stopped training because there are no more leaves that meet the split requirements\n",
      "[LightGBM] [Warning] Stopped training because there are no more leaves that meet the split requirements\n",
      "[LightGBM] [Warning] Stopped training because there are no more leaves that meet the split requirements\n",
      "[LightGBM] [Warning] Stopped training because there are no more leaves that meet the split requirements\n",
      "[LightGBM] [Warning] Stopped training because there are no more leaves that meet the split requirements\n",
      "[LightGBM] [Warning] Stopped training because there are no more leaves that meet the split requirements\n",
      "[LightGBM] [Warning] Stopped training because there are no more leaves that meet the split requirements\n",
      "[LightGBM] [Warning] Stopped training because there are no more leaves that meet the split requirements\n",
      "[LightGBM] [Warning] Stopped training because there are no more leaves that meet the split requirements\n",
      "[LightGBM] [Warning] Stopped training because there are no more leaves that meet the split requirements\n",
      "[LightGBM] [Warning] Stopped training because there are no more leaves that meet the split requirements\n",
      "[LightGBM] [Warning] Stopped training because there are no more leaves that meet the split requirements\n",
      "[LightGBM] [Warning] Stopped training because there are no more leaves that meet the split requirements\n",
      "[LightGBM] [Warning] Stopped training because there are no more leaves that meet the split requirements\n",
      "[LightGBM] [Warning] Stopped training because there are no more leaves that meet the split requirements\n",
      "[LightGBM] [Warning] Stopped training because there are no more leaves that meet the split requirements\n",
      "[LightGBM] [Warning] Stopped training because there are no more leaves that meet the split requirements\n",
      "[LightGBM] [Warning] Stopped training because there are no more leaves that meet the split requirements\n",
      "[LightGBM] [Warning] Stopped training because there are no more leaves that meet the split requirements\n",
      "[LightGBM] [Warning] Stopped training because there are no more leaves that meet the split requirements\n",
      "[LightGBM] [Warning] Stopped training because there are no more leaves that meet the split requirements\n",
      "[LightGBM] [Warning] Stopped training because there are no more leaves that meet the split requirements\n",
      "[LightGBM] [Warning] Stopped training because there are no more leaves that meet the split requirements\n",
      "[LightGBM] [Warning] Stopped training because there are no more leaves that meet the split requirements\n",
      "[LightGBM] [Warning] Stopped training because there are no more leaves that meet the split requirements\n",
      "[LightGBM] [Warning] Stopped training because there are no more leaves that meet the split requirements\n",
      "[LightGBM] [Warning] Stopped training because there are no more leaves that meet the split requirements\n",
      "[LightGBM] [Warning] Stopped training because there are no more leaves that meet the split requirements\n",
      "[LightGBM] [Warning] Stopped training because there are no more leaves that meet the split requirements\n",
      "[LightGBM] [Warning] Stopped training because there are no more leaves that meet the split requirements\n",
      "[LightGBM] [Warning] Stopped training because there are no more leaves that meet the split requirements\n",
      "[LightGBM] [Warning] Stopped training because there are no more leaves that meet the split requirements\n",
      "[LightGBM] [Warning] Stopped training because there are no more leaves that meet the split requirements\n",
      "[LightGBM] [Warning] Stopped training because there are no more leaves that meet the split requirements\n",
      "[LightGBM] [Warning] Stopped training because there are no more leaves that meet the split requirements\n",
      "[LightGBM] [Warning] Stopped training because there are no more leaves that meet the split requirements\n",
      "[LightGBM] [Warning] Stopped training because there are no more leaves that meet the split requirements\n",
      "[LightGBM] [Warning] Stopped training because there are no more leaves that meet the split requirements\n",
      "[LightGBM] [Warning] Stopped training because there are no more leaves that meet the split requirements\n",
      "[LightGBM] [Warning] Stopped training because there are no more leaves that meet the split requirements\n",
      "[LightGBM] [Warning] Stopped training because there are no more leaves that meet the split requirements\n",
      "[LightGBM] [Warning] Stopped training because there are no more leaves that meet the split requirements\n",
      "[LightGBM] [Warning] Stopped training because there are no more leaves that meet the split requirements\n",
      "[LightGBM] [Warning] Stopped training because there are no more leaves that meet the split requirements\n",
      "[LightGBM] [Warning] Stopped training because there are no more leaves that meet the split requirements\n",
      "[LightGBM] [Warning] Stopped training because there are no more leaves that meet the split requirements\n",
      "[LightGBM] [Warning] Stopped training because there are no more leaves that meet the split requirements\n",
      "[LightGBM] [Warning] Stopped training because there are no more leaves that meet the split requirements\n",
      "[LightGBM] [Warning] Stopped training because there are no more leaves that meet the split requirements\n",
      "[LightGBM] [Warning] Stopped training because there are no more leaves that meet the split requirements\n",
      "[LightGBM] [Warning] Stopped training because there are no more leaves that meet the split requirements\n",
      "[LightGBM] [Warning] Stopped training because there are no more leaves that meet the split requirements\n",
      "[LightGBM] [Warning] Stopped training because there are no more leaves that meet the split requirements\n",
      "[LightGBM] [Warning] Stopped training because there are no more leaves that meet the split requirements\n",
      "[LightGBM] [Warning] Stopped training because there are no more leaves that meet the split requirements\n",
      "[LightGBM] [Warning] Stopped training because there are no more leaves that meet the split requirements\n",
      "[LightGBM] [Warning] Stopped training because there are no more leaves that meet the split requirements\n",
      "[LightGBM] [Warning] Stopped training because there are no more leaves that meet the split requirements\n",
      "[LightGBM] [Warning] Stopped training because there are no more leaves that meet the split requirements\n",
      "[LightGBM] [Warning] Stopped training because there are no more leaves that meet the split requirements\n",
      "[LightGBM] [Warning] Stopped training because there are no more leaves that meet the split requirements\n",
      "[LightGBM] [Warning] Stopped training because there are no more leaves that meet the split requirements\n",
      "[LightGBM] [Warning] Stopped training because there are no more leaves that meet the split requirements\n",
      "[LightGBM] [Warning] Stopped training because there are no more leaves that meet the split requirements\n",
      "[LightGBM] [Warning] Stopped training because there are no more leaves that meet the split requirements\n",
      "[LightGBM] [Warning] Stopped training because there are no more leaves that meet the split requirements\n",
      "[LightGBM] [Warning] Stopped training because there are no more leaves that meet the split requirements\n",
      "[LightGBM] [Warning] Stopped training because there are no more leaves that meet the split requirements\n",
      "[LightGBM] [Warning] Stopped training because there are no more leaves that meet the split requirements\n",
      "[LightGBM] [Warning] Stopped training because there are no more leaves that meet the split requirements\n",
      "[LightGBM] [Warning] Stopped training because there are no more leaves that meet the split requirements\n",
      "[LightGBM] [Warning] Stopped training because there are no more leaves that meet the split requirements\n",
      "[LightGBM] [Warning] Stopped training because there are no more leaves that meet the split requirements\n",
      "[LightGBM] [Warning] Stopped training because there are no more leaves that meet the split requirements\n",
      "[LightGBM] [Warning] Stopped training because there are no more leaves that meet the split requirements\n",
      "[LightGBM] [Warning] Stopped training because there are no more leaves that meet the split requirements\n",
      "[LightGBM] [Warning] Stopped training because there are no more leaves that meet the split requirements\n",
      "[LightGBM] [Warning] Stopped training because there are no more leaves that meet the split requirements\n",
      "[LightGBM] [Warning] Stopped training because there are no more leaves that meet the split requirements\n",
      "[LightGBM] [Warning] Stopped training because there are no more leaves that meet the split requirements\n",
      "[LightGBM] [Warning] Stopped training because there are no more leaves that meet the split requirements\n",
      "[LightGBM] [Warning] Stopped training because there are no more leaves that meet the split requirements\n"
     ]
    }
   ],
   "source": [
    "d_train = lgb.Dataset(X_train, label=y_train)\n",
    "model = lgb.train(params_gbm, d_train)\n",
    "y_preg_lgb = model.predict(X_test)"
   ]
  },
  {
   "cell_type": "code",
   "execution_count": 36,
   "id": "historical-fellow",
   "metadata": {},
   "outputs": [
    {
     "name": "stdout",
     "output_type": "stream",
     "text": [
      "0.5\n"
     ]
    }
   ],
   "source": [
    "print(roc_auc_score(y_test, y_preg_lgb))"
   ]
  },
  {
   "cell_type": "code",
   "execution_count": 27,
   "id": "built-disclaimer",
   "metadata": {},
   "outputs": [
    {
     "data": {
      "text/plain": [
       "<lightgbm.basic.Booster at 0x1227c0d00>"
      ]
     },
     "execution_count": 27,
     "metadata": {},
     "output_type": "execute_result"
    }
   ],
   "source": [
    "model.save_model('lightgbm.txt')"
   ]
  },
  {
   "cell_type": "code",
   "execution_count": 28,
   "id": "threaded-speech",
   "metadata": {},
   "outputs": [
    {
     "data": {
      "text/plain": [
       "1    445789\n",
       "2    125768\n",
       "Name: ARRIVAL_DELAY, dtype: int64"
      ]
     },
     "execution_count": 28,
     "metadata": {},
     "output_type": "execute_result"
    }
   ],
   "source": [
    "data['ARRIVAL_DELAY'].value_counts()"
   ]
  },
  {
   "cell_type": "code",
   "execution_count": 29,
   "id": "original-description",
   "metadata": {},
   "outputs": [
    {
     "data": {
      "text/plain": [
       "1    334444\n",
       "2     94223\n",
       "Name: ARRIVAL_DELAY, dtype: int64"
      ]
     },
     "execution_count": 29,
     "metadata": {},
     "output_type": "execute_result"
    }
   ],
   "source": [
    "y_train.value_counts()"
   ]
  },
  {
   "cell_type": "code",
   "execution_count": 30,
   "id": "awful-banner",
   "metadata": {},
   "outputs": [
    {
     "data": {
      "text/plain": [
       "1    111345\n",
       "2     31545\n",
       "Name: ARRIVAL_DELAY, dtype: int64"
      ]
     },
     "execution_count": 30,
     "metadata": {},
     "output_type": "execute_result"
    }
   ],
   "source": [
    "y_test.value_counts()"
   ]
  },
  {
   "cell_type": "markdown",
   "id": "documented-smith",
   "metadata": {},
   "source": [
    "## Образец поиска по решетке для LGB"
   ]
  },
  {
   "cell_type": "code",
   "execution_count": 37,
   "id": "miniature-cement",
   "metadata": {},
   "outputs": [
    {
     "name": "stdout",
     "output_type": "stream",
     "text": [
      "[LightGBM] [Warning] Accuracy may be bad since you didn't explicitly set num_leaves OR 2^max_depth > num_leaves. (num_leaves=31).\n"
     ]
    },
    {
     "data": {
      "text/plain": [
       "GridSearchCV(cv=3, estimator=LGBMClassifier(), n_jobs=-1,\n",
       "             param_grid={'learning_rate': [0.1, 0.15, 0.3],\n",
       "                         'max_depth': [5, 10, 15]})"
      ]
     },
     "execution_count": 37,
     "metadata": {},
     "output_type": "execute_result"
    }
   ],
   "source": [
    "# Parameter Tuning\n",
    "model = lgb.LGBMClassifier()\n",
    "param_dict = {\"max_depth\": [5, 10, 15],\n",
    "              \"learning_rate\" : [0.1, 0.15, 0.3]}\n",
    "\n",
    "\n",
    "grid_search = GridSearchCV(model, param_grid=param_dict, cv=3, n_jobs=-1)\n",
    "\n",
    "\n",
    "grid_search.fit(X_train, y_train)"
   ]
  },
  {
   "cell_type": "code",
   "execution_count": 38,
   "id": "isolated-charlotte",
   "metadata": {},
   "outputs": [
    {
     "name": "stdout",
     "output_type": "stream",
     "text": [
      "max_depth_best: 15\n",
      "learning_rate_best: 0.3\n",
      "best_score_ 0.8011066865422345\n"
     ]
    }
   ],
   "source": [
    "max_depth_best = grid_search.best_estimator_.max_depth\n",
    "learning_rate_best = grid_search.best_estimator_.learning_rate\n",
    "print('max_depth_best:', max_depth_best)\n",
    "print('learning_rate_best:', learning_rate_best)\n",
    "print('best_score_', grid_search.best_score_)"
   ]
  },
  {
   "cell_type": "code",
   "execution_count": 41,
   "id": "similar-model",
   "metadata": {},
   "outputs": [
    {
     "name": "stdout",
     "output_type": "stream",
     "text": [
      "[LightGBM] [Warning] Accuracy may be bad since you didn't explicitly set num_leaves OR 2^max_depth > num_leaves. (num_leaves=31).\n",
      "0.7432498382630668\n"
     ]
    }
   ],
   "source": [
    "# Parameter Tuning\n",
    "model_best = lgb.LGBMClassifier(max_depth=15, learning_rate=0.3)\n",
    "model_best.fit(X_train, y_train)\n",
    "y_pred_best = model_best.predict_proba(X_test)\n",
    "print(roc_auc_score(y_test, y_pred_best[:, 1]))"
   ]
  },
  {
   "cell_type": "markdown",
   "id": "initial-murray",
   "metadata": {},
   "source": [
    "## Полезные ссылочки\n",
    "\n",
    "[Примеры про LGB](https://nitin9809.medium.com/lightgbm-binary-classification-multi-class-classification-regression-using-python-4f22032b36a2)\n",
    "\n",
    "[Важные отличия разных пакетов бустинга](https://medium.com/riskified-technology/xgboost-lightgbm-or-catboost-which-boosting-algorithm-should-i-use-e7fda7bb36bc)"
   ]
  },
  {
   "cell_type": "markdown",
   "id": "fifty-package",
   "metadata": {},
   "source": [
    "## LightGBM боевого образца"
   ]
  },
  {
   "cell_type": "code",
   "execution_count": null,
   "id": "rubber-greece",
   "metadata": {},
   "outputs": [],
   "source": [
    "def target_feat_matrix(data):\n",
    "    y = data['ARRIVAL_DELAY']\n",
    "    X = data.drop('ARRIVAL_DELAY', axis=1)\n",
    "    return X, y"
   ]
  },
  {
   "cell_type": "code",
   "execution_count": null,
   "id": "spare-steps",
   "metadata": {},
   "outputs": [],
   "source": [
    "cols = [\"AIRLINE\",\"FLIGHT_NUMBER\",\"DESTINATION_AIRPORT\",\"ORIGIN_AIRPORT\"]\n",
    "for col in cols:\n",
    "    data[col] = data[col].astype('category').cat.codes + 1"
   ]
  },
  {
   "cell_type": "code",
   "execution_count": null,
   "id": "accompanied-saskatchewan",
   "metadata": {},
   "outputs": [],
   "source": [
    "data_train, data_test = train_test_split(data, test_size=0.1, shuffle=True)\n"
   ]
  },
  {
   "cell_type": "code",
   "execution_count": null,
   "id": "collective-given",
   "metadata": {},
   "outputs": [],
   "source": [
    "X_train, y_train = target_feat_matrix(data_train)\n",
    "X_test, y_test = target_feat_matrix(data_test)"
   ]
  },
  {
   "cell_type": "code",
   "execution_count": null,
   "id": "filled-reply",
   "metadata": {},
   "outputs": [],
   "source": [
    "params = {\n",
    "    'objective': 'binary', \n",
    "    'learning_rate': 0.5,\n",
    "    'n_estimators': 15,\n",
    "    'max_depth': 4,\n",
    "    'early_stopping_round': 5,\n",
    "    'metric': 'auc',\n",
    "    'feature_fraction': 0.7\n",
    "    \n",
    "}"
   ]
  },
  {
   "cell_type": "code",
   "execution_count": null,
   "id": "fancy-geometry",
   "metadata": {
    "scrolled": false
   },
   "outputs": [],
   "source": [
    "for i in range(3):\n",
    "    data_train, data_valid = train_test_split(data_train, test_size=0.2, shuffle=True)\n",
    "    X_valid, y_valid = target_feat_matrix(data_valid)\n",
    "    model = lgb.train(params,\n",
    "                  train_set=lgb.Dataset(X_train, label=y_train),\n",
    "                  valid_sets=[lgb.Dataset(X_valid, label=y_valid)],\n",
    "                  categorical_feature=cols)\n",
    "    model.save_model('model' + str(i) + '.txt')"
   ]
  },
  {
   "cell_type": "code",
   "execution_count": null,
   "id": "ordinary-bidder",
   "metadata": {},
   "outputs": [],
   "source": [
    "from sklearn.model_selection import KFold\n",
    "kf = KFold(n_splits=3, shuffle=True)"
   ]
  },
  {
   "cell_type": "code",
   "execution_count": null,
   "id": "adverse-fusion",
   "metadata": {},
   "outputs": [],
   "source": [
    "i = 0 \n",
    "for train_index, valid_index in kf.split(data_train):\n",
    "    train_data, valid_data = data_train.iloc[train_index], data_train.iloc[valid_index]\n",
    "    X_train, y_train = target_feat_matrix(train_data)\n",
    "    X_valid, y_valid = target_feat_matrix(valid_data)\n",
    "    model = lgb.train(params,\n",
    "                  train_set=lgb.Dataset(X_train, label=y_train),\n",
    "                  valid_sets=[lgb.Dataset(X_valid, label=y_valid)],\n",
    "                  categorical_feature=cols)\n",
    "    model.save_model('model' + str(i) + '.txt')\n",
    "    i += 1"
   ]
  },
  {
   "cell_type": "code",
   "execution_count": null,
   "id": "architectural-seeking",
   "metadata": {},
   "outputs": [],
   "source": [
    "prediction = pd.DataFrame()\n",
    "for i in range(3):\n",
    "    bst = lgb.Booster(model_file='model' + str(i) + '.txt')\n",
    "    y_pred = bst.predict(X_test)\n",
    "    prediction[f'model{i}'] = y_pred"
   ]
  },
  {
   "cell_type": "code",
   "execution_count": null,
   "id": "impressed-sport",
   "metadata": {},
   "outputs": [],
   "source": [
    "prediction['prediction'] = prediction.mean(axis=1)"
   ]
  },
  {
   "cell_type": "code",
   "execution_count": null,
   "id": "racial-hammer",
   "metadata": {},
   "outputs": [],
   "source": [
    "prediction"
   ]
  }
 ],
 "metadata": {
  "celltoolbar": "Слайд-шоу",
  "kernelspec": {
   "display_name": "Python 3",
   "language": "python",
   "name": "python3"
  },
  "language_info": {
   "codemirror_mode": {
    "name": "ipython",
    "version": 3
   },
   "file_extension": ".py",
   "mimetype": "text/x-python",
   "name": "python",
   "nbconvert_exporter": "python",
   "pygments_lexer": "ipython3",
   "version": "3.8.5"
  }
 },
 "nbformat": 4,
 "nbformat_minor": 5
}
