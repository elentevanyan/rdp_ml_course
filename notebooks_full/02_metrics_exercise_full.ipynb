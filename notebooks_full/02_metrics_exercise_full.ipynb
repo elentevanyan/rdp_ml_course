{
 "cells": [
  {
   "cell_type": "markdown",
   "id": "wired-enemy",
   "metadata": {
    "slideshow": {
     "slide_type": "slide"
    }
   },
   "source": [
    "# Функции ошибок. Метрики качества. Feature Engineering"
   ]
  },
  {
   "cell_type": "code",
   "execution_count": 1,
   "id": "expanded-exclusive",
   "metadata": {
    "slideshow": {
     "slide_type": "subslide"
    }
   },
   "outputs": [],
   "source": [
    "import pandas as pd\n",
    "import numpy as np\n",
    "import matplotlib\n",
    "\n",
    "import matplotlib.pyplot as plt\n",
    "import seaborn as sns\n",
    "plt.style.use('ggplot') "
   ]
  },
  {
   "cell_type": "code",
   "execution_count": 2,
   "id": "descending-little",
   "metadata": {
    "slideshow": {
     "slide_type": "skip"
    }
   },
   "outputs": [],
   "source": [
    "import warnings\n",
    "warnings.filterwarnings('ignore')"
   ]
  },
  {
   "cell_type": "markdown",
   "id": "asian-health",
   "metadata": {
    "slideshow": {
     "slide_type": "slide"
    }
   },
   "source": [
    "## Эпизод 3. Feature Engineering"
   ]
  },
  {
   "cell_type": "markdown",
   "id": "central-matrix",
   "metadata": {
    "slideshow": {
     "slide_type": "subslide"
    }
   },
   "source": [
    "Мы изучили данные, сделали **разведочный анализ** и узнали вот что:\n",
    "- в данных нет дублей\n",
    "- в данных есть пропуски - их чем-то надо закрыть\n",
    "- в целевой переменной есть отрицательные значения, надо решить, оставить или удалить\n",
    "- у целевой переменной длинный хвост -- надо его поправить\n",
    "- в переменных об уценках нужно принять схожее решение\n",
    "- колонка Data выглядит не очень трактуемой, надо с ней сотворить что-то прикладное\n",
    "- в данных есть категориальные колонки, их нужно трансформировать в удобовариемый вид\n",
    "- в одной из категориальных колонок - очень-очень много мелких категорий\n"
   ]
  },
  {
   "cell_type": "code",
   "execution_count": 3,
   "id": "spatial-mainstream",
   "metadata": {
    "slideshow": {
     "slide_type": "subslide"
    }
   },
   "outputs": [
    {
     "data": {
      "text/html": [
       "<div>\n",
       "<style scoped>\n",
       "    .dataframe tbody tr th:only-of-type {\n",
       "        vertical-align: middle;\n",
       "    }\n",
       "\n",
       "    .dataframe tbody tr th {\n",
       "        vertical-align: top;\n",
       "    }\n",
       "\n",
       "    .dataframe thead th {\n",
       "        text-align: right;\n",
       "    }\n",
       "</style>\n",
       "<table border=\"1\" class=\"dataframe\">\n",
       "  <thead>\n",
       "    <tr style=\"text-align: right;\">\n",
       "      <th></th>\n",
       "      <th>Store</th>\n",
       "      <th>Date</th>\n",
       "      <th>Dept</th>\n",
       "      <th>Weekly_Sales</th>\n",
       "      <th>IsHoliday</th>\n",
       "      <th>Type</th>\n",
       "      <th>Size</th>\n",
       "      <th>Temperature</th>\n",
       "      <th>Fuel_Price</th>\n",
       "      <th>MarkDown1</th>\n",
       "      <th>MarkDown2</th>\n",
       "      <th>MarkDown3</th>\n",
       "      <th>MarkDown4</th>\n",
       "      <th>MarkDown5</th>\n",
       "      <th>CPI</th>\n",
       "      <th>Unemployment</th>\n",
       "    </tr>\n",
       "  </thead>\n",
       "  <tbody>\n",
       "    <tr>\n",
       "      <th>0</th>\n",
       "      <td>1</td>\n",
       "      <td>2010-02-05</td>\n",
       "      <td>1</td>\n",
       "      <td>24924.50</td>\n",
       "      <td>False</td>\n",
       "      <td>A</td>\n",
       "      <td>151315</td>\n",
       "      <td>42.31</td>\n",
       "      <td>2.572</td>\n",
       "      <td>NaN</td>\n",
       "      <td>NaN</td>\n",
       "      <td>NaN</td>\n",
       "      <td>NaN</td>\n",
       "      <td>NaN</td>\n",
       "      <td>211.096358</td>\n",
       "      <td>8.106</td>\n",
       "    </tr>\n",
       "    <tr>\n",
       "      <th>1</th>\n",
       "      <td>1</td>\n",
       "      <td>2010-02-05</td>\n",
       "      <td>2</td>\n",
       "      <td>50605.27</td>\n",
       "      <td>False</td>\n",
       "      <td>A</td>\n",
       "      <td>151315</td>\n",
       "      <td>42.31</td>\n",
       "      <td>2.572</td>\n",
       "      <td>NaN</td>\n",
       "      <td>NaN</td>\n",
       "      <td>NaN</td>\n",
       "      <td>NaN</td>\n",
       "      <td>NaN</td>\n",
       "      <td>211.096358</td>\n",
       "      <td>8.106</td>\n",
       "    </tr>\n",
       "    <tr>\n",
       "      <th>2</th>\n",
       "      <td>1</td>\n",
       "      <td>2010-02-05</td>\n",
       "      <td>3</td>\n",
       "      <td>13740.12</td>\n",
       "      <td>False</td>\n",
       "      <td>A</td>\n",
       "      <td>151315</td>\n",
       "      <td>42.31</td>\n",
       "      <td>2.572</td>\n",
       "      <td>NaN</td>\n",
       "      <td>NaN</td>\n",
       "      <td>NaN</td>\n",
       "      <td>NaN</td>\n",
       "      <td>NaN</td>\n",
       "      <td>211.096358</td>\n",
       "      <td>8.106</td>\n",
       "    </tr>\n",
       "    <tr>\n",
       "      <th>3</th>\n",
       "      <td>1</td>\n",
       "      <td>2010-02-05</td>\n",
       "      <td>4</td>\n",
       "      <td>39954.04</td>\n",
       "      <td>False</td>\n",
       "      <td>A</td>\n",
       "      <td>151315</td>\n",
       "      <td>42.31</td>\n",
       "      <td>2.572</td>\n",
       "      <td>NaN</td>\n",
       "      <td>NaN</td>\n",
       "      <td>NaN</td>\n",
       "      <td>NaN</td>\n",
       "      <td>NaN</td>\n",
       "      <td>211.096358</td>\n",
       "      <td>8.106</td>\n",
       "    </tr>\n",
       "    <tr>\n",
       "      <th>4</th>\n",
       "      <td>1</td>\n",
       "      <td>2010-02-05</td>\n",
       "      <td>5</td>\n",
       "      <td>32229.38</td>\n",
       "      <td>False</td>\n",
       "      <td>A</td>\n",
       "      <td>151315</td>\n",
       "      <td>42.31</td>\n",
       "      <td>2.572</td>\n",
       "      <td>NaN</td>\n",
       "      <td>NaN</td>\n",
       "      <td>NaN</td>\n",
       "      <td>NaN</td>\n",
       "      <td>NaN</td>\n",
       "      <td>211.096358</td>\n",
       "      <td>8.106</td>\n",
       "    </tr>\n",
       "  </tbody>\n",
       "</table>\n",
       "</div>"
      ],
      "text/plain": [
       "   Store        Date  Dept  Weekly_Sales  IsHoliday Type    Size  Temperature  \\\n",
       "0      1  2010-02-05     1      24924.50      False    A  151315        42.31   \n",
       "1      1  2010-02-05     2      50605.27      False    A  151315        42.31   \n",
       "2      1  2010-02-05     3      13740.12      False    A  151315        42.31   \n",
       "3      1  2010-02-05     4      39954.04      False    A  151315        42.31   \n",
       "4      1  2010-02-05     5      32229.38      False    A  151315        42.31   \n",
       "\n",
       "   Fuel_Price  MarkDown1  MarkDown2  MarkDown3  MarkDown4  MarkDown5  \\\n",
       "0       2.572        NaN        NaN        NaN        NaN        NaN   \n",
       "1       2.572        NaN        NaN        NaN        NaN        NaN   \n",
       "2       2.572        NaN        NaN        NaN        NaN        NaN   \n",
       "3       2.572        NaN        NaN        NaN        NaN        NaN   \n",
       "4       2.572        NaN        NaN        NaN        NaN        NaN   \n",
       "\n",
       "          CPI  Unemployment  \n",
       "0  211.096358         8.106  \n",
       "1  211.096358         8.106  \n",
       "2  211.096358         8.106  \n",
       "3  211.096358         8.106  \n",
       "4  211.096358         8.106  "
      ]
     },
     "execution_count": 3,
     "metadata": {},
     "output_type": "execute_result"
    }
   ],
   "source": [
    "data = pd.read_csv('walmart.csv', sep='\\t')\n",
    "\n",
    "# категориальные переменные \n",
    "var_cat = ['Type', 'Store', 'Dept', 'IsHoliday']\n",
    "\n",
    "# непрерывные переменные\n",
    "var_real = ['MarkDown1','MarkDown2','MarkDown3','MarkDown4','MarkDown5', 'CPI', 'Unemployment', \n",
    "            'Temperature', 'Fuel_Price','Size']\n",
    "\n",
    "data.head()"
   ]
  },
  {
   "cell_type": "markdown",
   "id": "surface-prior",
   "metadata": {
    "slideshow": {
     "slide_type": "subslide"
    }
   },
   "source": [
    "### Пропуски"
   ]
  },
  {
   "cell_type": "code",
   "execution_count": 4,
   "id": "conservative-direction",
   "metadata": {
    "slideshow": {
     "slide_type": "subslide"
    }
   },
   "outputs": [],
   "source": [
    "# заполните пропуски"
   ]
  },
  {
   "cell_type": "code",
   "execution_count": 5,
   "id": "designing-northeast",
   "metadata": {
    "slideshow": {
     "slide_type": "fragment"
    }
   },
   "outputs": [],
   "source": [
    "data.fillna(0, inplace=True)"
   ]
  },
  {
   "cell_type": "code",
   "execution_count": 6,
   "id": "graduate-debut",
   "metadata": {
    "slideshow": {
     "slide_type": "fragment"
    }
   },
   "outputs": [
    {
     "data": {
      "image/png": "[encoded data removed]",
      "text/plain": [
       "<Figure size 720x432 with 1 Axes>"
      ]
     },
     "metadata": {},
     "output_type": "display_data"
    }
   ],
   "source": [
    "fig, ax = plt.subplots(figsize=(10,6))\n",
    "sns_heatmap = sns.heatmap(data.isnull(), yticklabels=False, cbar=False, cmap='viridis')"
   ]
  },
  {
   "cell_type": "markdown",
   "id": "outdoor-handy",
   "metadata": {
    "slideshow": {
     "slide_type": "subslide"
    }
   },
   "source": [
    "### Целевая переменная"
   ]
  },
  {
   "cell_type": "code",
   "execution_count": 7,
   "id": "improving-preserve",
   "metadata": {
    "slideshow": {
     "slide_type": "subslide"
    }
   },
   "outputs": [],
   "source": [
    "# удалите все строки, где целевая переменная отрицательная"
   ]
  },
  {
   "cell_type": "code",
   "execution_count": 8,
   "id": "formed-twelve",
   "metadata": {
    "slideshow": {
     "slide_type": "fragment"
    }
   },
   "outputs": [],
   "source": [
    "data = data[data.Weekly_Sales > 0]"
   ]
  },
  {
   "cell_type": "code",
   "execution_count": 9,
   "id": "agricultural-chassis",
   "metadata": {
    "slideshow": {
     "slide_type": "subslide"
    }
   },
   "outputs": [],
   "source": [
    "# c длинными хвостами борются логарифмирование\n",
    "# прологарифмируйту колонку Weekly Sales и сохраните в новую ln_weekly_sales"
   ]
  },
  {
   "cell_type": "code",
   "execution_count": 10,
   "id": "latter-panama",
   "metadata": {
    "slideshow": {
     "slide_type": "fragment"
    }
   },
   "outputs": [],
   "source": [
    "data['ln_weekly_sales'] = data['Weekly_Sales'].apply(lambda w: np.log(w))"
   ]
  },
  {
   "cell_type": "code",
   "execution_count": 11,
   "id": "verbal-hollywood",
   "metadata": {
    "slideshow": {
     "slide_type": "subslide"
    }
   },
   "outputs": [],
   "source": [
    "# визуализируйте с помощь гистограмм исходное распределение и прологарифмированное"
   ]
  },
  {
   "cell_type": "code",
   "execution_count": 12,
   "id": "olympic-flight",
   "metadata": {
    "slideshow": {
     "slide_type": "fragment"
    }
   },
   "outputs": [
    {
     "data": {
      "text/plain": [
       "array([[<AxesSubplot:title={'center':'Weekly_Sales'}>,\n",
       "        <AxesSubplot:title={'center':'ln_weekly_sales'}>]], dtype=object)"
      ]
     },
     "execution_count": 12,
     "metadata": {},
     "output_type": "execute_result"
    },
    {
     "data": {
      "image/png": "[encoded data removed]",
      "text/plain": [
       "<Figure size 1440x432 with 2 Axes>"
      ]
     },
     "metadata": {},
     "output_type": "display_data"
    }
   ],
   "source": [
    "data[['Weekly_Sales', 'ln_weekly_sales']].hist(figsize=(20, 6))"
   ]
  },
  {
   "cell_type": "markdown",
   "id": "cheap-decline",
   "metadata": {
    "slideshow": {
     "slide_type": "subslide"
    }
   },
   "source": [
    "### Дата"
   ]
  },
  {
   "cell_type": "code",
   "execution_count": 13,
   "id": "automated-nancy",
   "metadata": {
    "slideshow": {
     "slide_type": "subslide"
    }
   },
   "outputs": [],
   "source": [
    "# функцией pd.to_datetime преобразуйте колонку из текста в дату"
   ]
  },
  {
   "cell_type": "code",
   "execution_count": 14,
   "id": "western-opera",
   "metadata": {
    "slideshow": {
     "slide_type": "fragment"
    }
   },
   "outputs": [
    {
     "data": {
      "text/plain": [
       "0        2010-02-05\n",
       "1        2010-02-05\n",
       "2        2010-02-05\n",
       "3        2010-02-05\n",
       "4        2010-02-05\n",
       "            ...    \n",
       "421565   2012-10-26\n",
       "421566   2012-10-26\n",
       "421567   2012-10-26\n",
       "421568   2012-10-26\n",
       "421569   2012-10-26\n",
       "Name: Date, Length: 420212, dtype: datetime64[ns]"
      ]
     },
     "execution_count": 14,
     "metadata": {},
     "output_type": "execute_result"
    }
   ],
   "source": [
    "data.Date = pd.to_datetime(data.Date)\n",
    "data.Date"
   ]
  },
  {
   "cell_type": "code",
   "execution_count": 15,
   "id": "absent-questionnaire",
   "metadata": {
    "slideshow": {
     "slide_type": "subslide"
    }
   },
   "outputs": [],
   "source": [
    "# выделите в качестве признака месяц"
   ]
  },
  {
   "cell_type": "code",
   "execution_count": 45,
   "id": "suffering-survival",
   "metadata": {
    "slideshow": {
     "slide_type": "fragment"
    }
   },
   "outputs": [
    {
     "data": {
      "text/html": [
       "<div>\n",
       "<style scoped>\n",
       "    .dataframe tbody tr th:only-of-type {\n",
       "        vertical-align: middle;\n",
       "    }\n",
       "\n",
       "    .dataframe tbody tr th {\n",
       "        vertical-align: top;\n",
       "    }\n",
       "\n",
       "    .dataframe thead th {\n",
       "        text-align: right;\n",
       "    }\n",
       "</style>\n",
       "<table border=\"1\" class=\"dataframe\">\n",
       "  <thead>\n",
       "    <tr style=\"text-align: right;\">\n",
       "      <th></th>\n",
       "      <th>Date</th>\n",
       "      <th>Month</th>\n",
       "    </tr>\n",
       "  </thead>\n",
       "  <tbody>\n",
       "    <tr>\n",
       "      <th>0</th>\n",
       "      <td>2010-02-05</td>\n",
       "      <td>2</td>\n",
       "    </tr>\n",
       "    <tr>\n",
       "      <th>1</th>\n",
       "      <td>2010-02-05</td>\n",
       "      <td>2</td>\n",
       "    </tr>\n",
       "    <tr>\n",
       "      <th>2</th>\n",
       "      <td>2010-02-05</td>\n",
       "      <td>2</td>\n",
       "    </tr>\n",
       "    <tr>\n",
       "      <th>3</th>\n",
       "      <td>2010-02-05</td>\n",
       "      <td>2</td>\n",
       "    </tr>\n",
       "    <tr>\n",
       "      <th>4</th>\n",
       "      <td>2010-02-05</td>\n",
       "      <td>2</td>\n",
       "    </tr>\n",
       "  </tbody>\n",
       "</table>\n",
       "</div>"
      ],
      "text/plain": [
       "        Date  Month\n",
       "0 2010-02-05      2\n",
       "1 2010-02-05      2\n",
       "2 2010-02-05      2\n",
       "3 2010-02-05      2\n",
       "4 2010-02-05      2"
      ]
     },
     "execution_count": 45,
     "metadata": {},
     "output_type": "execute_result"
    }
   ],
   "source": [
    "data['Month'] = data['Date'].dt.month\n",
    "data[['Date','Month']].head()"
   ]
  },
  {
   "cell_type": "code",
   "execution_count": 17,
   "id": "secondary-singapore",
   "metadata": {
    "slideshow": {
     "slide_type": "subslide"
    }
   },
   "outputs": [],
   "source": [
    "data['Black_Friday'] = (np.where((data['Date']=='2010-11-26') |\n",
    "                              (data['Date']=='2011-11-25') | \n",
    "                              (data['Date']=='2012-11-23'), 1, 0))\n",
    "\n",
    "# Предрождественские деньки: \n",
    "data['Pre_christmas'] = (np.where((data['Date']=='2010-12-23') | \n",
    "                               (data['Date']=='2010-12-24') | \n",
    "                               (data['Date']=='2011-12-23') | \n",
    "                               (data['Date']=='2011-12-24') |\n",
    "                               (data['Date']=='2012-12-23') | \n",
    "                               (data['Date']=='2012-12-24'), 1, 0))"
   ]
  },
  {
   "cell_type": "markdown",
   "id": "narrow-binding",
   "metadata": {
    "slideshow": {
     "slide_type": "subslide"
    }
   },
   "source": [
    "### Категориальные переменные"
   ]
  },
  {
   "cell_type": "code",
   "execution_count": 18,
   "id": "invisible-trail",
   "metadata": {
    "slideshow": {
     "slide_type": "subslide"
    }
   },
   "outputs": [],
   "source": [
    "# сделаем все колонки категориальных переменных типа object"
   ]
  },
  {
   "cell_type": "code",
   "execution_count": 46,
   "id": "liable-forty",
   "metadata": {
    "slideshow": {
     "slide_type": "fragment"
    }
   },
   "outputs": [
    {
     "data": {
      "text/html": [
       "<div>\n",
       "<style scoped>\n",
       "    .dataframe tbody tr th:only-of-type {\n",
       "        vertical-align: middle;\n",
       "    }\n",
       "\n",
       "    .dataframe tbody tr th {\n",
       "        vertical-align: top;\n",
       "    }\n",
       "\n",
       "    .dataframe thead th {\n",
       "        text-align: right;\n",
       "    }\n",
       "</style>\n",
       "<table border=\"1\" class=\"dataframe\">\n",
       "  <thead>\n",
       "    <tr style=\"text-align: right;\">\n",
       "      <th></th>\n",
       "      <th>Type</th>\n",
       "      <th>Store</th>\n",
       "      <th>Dept</th>\n",
       "      <th>IsHoliday</th>\n",
       "    </tr>\n",
       "  </thead>\n",
       "  <tbody>\n",
       "    <tr>\n",
       "      <th>0</th>\n",
       "      <td>A</td>\n",
       "      <td>1</td>\n",
       "      <td>1</td>\n",
       "      <td>False</td>\n",
       "    </tr>\n",
       "    <tr>\n",
       "      <th>1</th>\n",
       "      <td>A</td>\n",
       "      <td>1</td>\n",
       "      <td>2</td>\n",
       "      <td>False</td>\n",
       "    </tr>\n",
       "    <tr>\n",
       "      <th>2</th>\n",
       "      <td>A</td>\n",
       "      <td>1</td>\n",
       "      <td>3</td>\n",
       "      <td>False</td>\n",
       "    </tr>\n",
       "    <tr>\n",
       "      <th>3</th>\n",
       "      <td>A</td>\n",
       "      <td>1</td>\n",
       "      <td>4</td>\n",
       "      <td>False</td>\n",
       "    </tr>\n",
       "    <tr>\n",
       "      <th>4</th>\n",
       "      <td>A</td>\n",
       "      <td>1</td>\n",
       "      <td>5</td>\n",
       "      <td>False</td>\n",
       "    </tr>\n",
       "  </tbody>\n",
       "</table>\n",
       "</div>"
      ],
      "text/plain": [
       "  Type Store Dept IsHoliday\n",
       "0    A     1    1     False\n",
       "1    A     1    2     False\n",
       "2    A     1    3     False\n",
       "3    A     1    4     False\n",
       "4    A     1    5     False"
      ]
     },
     "execution_count": 46,
     "metadata": {},
     "output_type": "execute_result"
    }
   ],
   "source": [
    "data[var_cat] = data[var_cat].astype('object')\n",
    "data[var_cat].head()"
   ]
  },
  {
   "cell_type": "code",
   "execution_count": 20,
   "id": "tender-hazard",
   "metadata": {
    "slideshow": {
     "slide_type": "subslide"
    }
   },
   "outputs": [],
   "source": [
    "# найдем маленькие категории в колонке Dept\n",
    "# 1. создадим список всех категорий\n",
    "# 2. найдем большие - такие, что в них более 4000 записей\n",
    "# 3. найдем разницу в этих двух списках\n",
    "# 4. выведем малые категории на печатть"
   ]
  },
  {
   "cell_type": "code",
   "execution_count": 51,
   "id": "operational-sender",
   "metadata": {},
   "outputs": [
    {
     "data": {
      "text/plain": [
       "81"
      ]
     },
     "execution_count": 51,
     "metadata": {},
     "output_type": "execute_result"
    }
   ],
   "source": [
    "len(uniq_category)"
   ]
  },
  {
   "cell_type": "code",
   "execution_count": 60,
   "id": "early-router",
   "metadata": {},
   "outputs": [
    {
     "data": {
      "text/plain": [
       "1560.0"
      ]
     },
     "execution_count": 60,
     "metadata": {},
     "output_type": "execute_result"
    }
   ],
   "source": [
    "counts.quantile(0.1)"
   ]
  },
  {
   "cell_type": "code",
   "execution_count": 56,
   "id": "southern-contract",
   "metadata": {
    "scrolled": true
   },
   "outputs": [
    {
     "data": {
      "text/plain": [
       "74"
      ]
     },
     "execution_count": 56,
     "metadata": {},
     "output_type": "execute_result"
    }
   ],
   "source": [
    "counts[counts > 1000].count()"
   ]
  },
  {
   "cell_type": "code",
   "execution_count": 21,
   "id": "improved-underground",
   "metadata": {
    "slideshow": {
     "slide_type": "fragment"
    }
   },
   "outputs": [
    {
     "name": "stdout",
     "output_type": "stream",
     "text": [
      "[65, 99, 37, 39, 43, 45, 77, 47, 48, 78, 50, 51]\n"
     ]
    }
   ],
   "source": [
    "uniq_category = data['Dept'].unique()  \n",
    "counts = data['Dept'].value_counts()\n",
    "big_category = counts[counts > counts.quantile(0.1)].index\n",
    "small_category = list(set(uniq_category) - set(big_category))\n",
    "print(small_category)"
   ]
  },
  {
   "cell_type": "code",
   "execution_count": 22,
   "id": "expected-electricity",
   "metadata": {
    "slideshow": {
     "slide_type": "subslide"
    }
   },
   "outputs": [],
   "source": [
    "# заменим в колонке маленькие категории на -1, а остальные номера оставим. \n",
    "# преобразуем в строковый тип данных "
   ]
  },
  {
   "cell_type": "code",
   "execution_count": 23,
   "id": "favorite-circle",
   "metadata": {
    "slideshow": {
     "slide_type": "fragment"
    }
   },
   "outputs": [],
   "source": [
    "data['Dept'] = data['Dept'].apply(lambda w: -1 if w in small_category else w).astype('object')"
   ]
  },
  {
   "cell_type": "code",
   "execution_count": 24,
   "id": "skilled-being",
   "metadata": {
    "slideshow": {
     "slide_type": "subslide"
    }
   },
   "outputs": [],
   "source": [
    "# финальный шаг, сделаем OHE-кодирование\n",
    "# удалим из датасета колонку даты, и отдадим ее функции pd.get_dummies() на растерзание"
   ]
  },
  {
   "cell_type": "code",
   "execution_count": 64,
   "id": "rocky-trainer",
   "metadata": {
    "slideshow": {
     "slide_type": "fragment"
    }
   },
   "outputs": [
    {
     "data": {
      "text/html": [
       "<div>\n",
       "<style scoped>\n",
       "    .dataframe tbody tr th:only-of-type {\n",
       "        vertical-align: middle;\n",
       "    }\n",
       "\n",
       "    .dataframe tbody tr th {\n",
       "        vertical-align: top;\n",
       "    }\n",
       "\n",
       "    .dataframe thead th {\n",
       "        text-align: right;\n",
       "    }\n",
       "</style>\n",
       "<table border=\"1\" class=\"dataframe\">\n",
       "  <thead>\n",
       "    <tr style=\"text-align: right;\">\n",
       "      <th></th>\n",
       "      <th>B</th>\n",
       "      <th>C</th>\n",
       "    </tr>\n",
       "  </thead>\n",
       "  <tbody>\n",
       "    <tr>\n",
       "      <th>0</th>\n",
       "      <td>0</td>\n",
       "      <td>0</td>\n",
       "    </tr>\n",
       "    <tr>\n",
       "      <th>1</th>\n",
       "      <td>0</td>\n",
       "      <td>0</td>\n",
       "    </tr>\n",
       "    <tr>\n",
       "      <th>2</th>\n",
       "      <td>0</td>\n",
       "      <td>0</td>\n",
       "    </tr>\n",
       "    <tr>\n",
       "      <th>3</th>\n",
       "      <td>0</td>\n",
       "      <td>0</td>\n",
       "    </tr>\n",
       "    <tr>\n",
       "      <th>4</th>\n",
       "      <td>0</td>\n",
       "      <td>0</td>\n",
       "    </tr>\n",
       "    <tr>\n",
       "      <th>...</th>\n",
       "      <td>...</td>\n",
       "      <td>...</td>\n",
       "    </tr>\n",
       "    <tr>\n",
       "      <th>421564</th>\n",
       "      <td>1</td>\n",
       "      <td>0</td>\n",
       "    </tr>\n",
       "    <tr>\n",
       "      <th>421565</th>\n",
       "      <td>1</td>\n",
       "      <td>0</td>\n",
       "    </tr>\n",
       "    <tr>\n",
       "      <th>421566</th>\n",
       "      <td>1</td>\n",
       "      <td>0</td>\n",
       "    </tr>\n",
       "    <tr>\n",
       "      <th>421567</th>\n",
       "      <td>1</td>\n",
       "      <td>0</td>\n",
       "    </tr>\n",
       "    <tr>\n",
       "      <th>421568</th>\n",
       "      <td>1</td>\n",
       "      <td>0</td>\n",
       "    </tr>\n",
       "  </tbody>\n",
       "</table>\n",
       "<p>420211 rows × 2 columns</p>\n",
       "</div>"
      ],
      "text/plain": [
       "        B  C\n",
       "0       0  0\n",
       "1       0  0\n",
       "2       0  0\n",
       "3       0  0\n",
       "4       0  0\n",
       "...    .. ..\n",
       "421564  1  0\n",
       "421565  1  0\n",
       "421566  1  0\n",
       "421567  1  0\n",
       "421568  1  0\n",
       "\n",
       "[420211 rows x 2 columns]"
      ]
     },
     "execution_count": 64,
     "metadata": {},
     "output_type": "execute_result"
    }
   ],
   "source": [
    "data_transf = pd.get_dummies(data.drop('Date', axis=1), drop_first=True, dummy_na=False)\n",
    "data_transf.columns\n",
    "pd.get_dummies(data['Type'], drop_first=True)"
   ]
  },
  {
   "cell_type": "code",
   "execution_count": 66,
   "id": "disturbed-tutorial",
   "metadata": {},
   "outputs": [
    {
     "data": {
      "text/html": [
       "<div>\n",
       "<style scoped>\n",
       "    .dataframe tbody tr th:only-of-type {\n",
       "        vertical-align: middle;\n",
       "    }\n",
       "\n",
       "    .dataframe tbody tr th {\n",
       "        vertical-align: top;\n",
       "    }\n",
       "\n",
       "    .dataframe thead th {\n",
       "        text-align: right;\n",
       "    }\n",
       "</style>\n",
       "<table border=\"1\" class=\"dataframe\">\n",
       "  <thead>\n",
       "    <tr style=\"text-align: right;\">\n",
       "      <th></th>\n",
       "      <th>Weekly_Sales</th>\n",
       "      <th>Size</th>\n",
       "      <th>Temperature</th>\n",
       "      <th>Fuel_Price</th>\n",
       "      <th>MarkDown1</th>\n",
       "      <th>MarkDown2</th>\n",
       "      <th>MarkDown3</th>\n",
       "      <th>MarkDown4</th>\n",
       "      <th>MarkDown5</th>\n",
       "      <th>CPI</th>\n",
       "      <th>...</th>\n",
       "      <th>Dept_92</th>\n",
       "      <th>Dept_93</th>\n",
       "      <th>Dept_94</th>\n",
       "      <th>Dept_95</th>\n",
       "      <th>Dept_96</th>\n",
       "      <th>Dept_97</th>\n",
       "      <th>Dept_98</th>\n",
       "      <th>IsHoliday_True</th>\n",
       "      <th>Type_B</th>\n",
       "      <th>Type_C</th>\n",
       "    </tr>\n",
       "  </thead>\n",
       "  <tbody>\n",
       "    <tr>\n",
       "      <th>0</th>\n",
       "      <td>24924.50</td>\n",
       "      <td>151315</td>\n",
       "      <td>42.31</td>\n",
       "      <td>2.572</td>\n",
       "      <td>0.0</td>\n",
       "      <td>0.0</td>\n",
       "      <td>0.0</td>\n",
       "      <td>0.0</td>\n",
       "      <td>0.0</td>\n",
       "      <td>211.096358</td>\n",
       "      <td>...</td>\n",
       "      <td>0</td>\n",
       "      <td>0</td>\n",
       "      <td>0</td>\n",
       "      <td>0</td>\n",
       "      <td>0</td>\n",
       "      <td>0</td>\n",
       "      <td>0</td>\n",
       "      <td>0</td>\n",
       "      <td>0</td>\n",
       "      <td>0</td>\n",
       "    </tr>\n",
       "    <tr>\n",
       "      <th>1</th>\n",
       "      <td>50605.27</td>\n",
       "      <td>151315</td>\n",
       "      <td>42.31</td>\n",
       "      <td>2.572</td>\n",
       "      <td>0.0</td>\n",
       "      <td>0.0</td>\n",
       "      <td>0.0</td>\n",
       "      <td>0.0</td>\n",
       "      <td>0.0</td>\n",
       "      <td>211.096358</td>\n",
       "      <td>...</td>\n",
       "      <td>0</td>\n",
       "      <td>0</td>\n",
       "      <td>0</td>\n",
       "      <td>0</td>\n",
       "      <td>0</td>\n",
       "      <td>0</td>\n",
       "      <td>0</td>\n",
       "      <td>0</td>\n",
       "      <td>0</td>\n",
       "      <td>0</td>\n",
       "    </tr>\n",
       "    <tr>\n",
       "      <th>2</th>\n",
       "      <td>13740.12</td>\n",
       "      <td>151315</td>\n",
       "      <td>42.31</td>\n",
       "      <td>2.572</td>\n",
       "      <td>0.0</td>\n",
       "      <td>0.0</td>\n",
       "      <td>0.0</td>\n",
       "      <td>0.0</td>\n",
       "      <td>0.0</td>\n",
       "      <td>211.096358</td>\n",
       "      <td>...</td>\n",
       "      <td>0</td>\n",
       "      <td>0</td>\n",
       "      <td>0</td>\n",
       "      <td>0</td>\n",
       "      <td>0</td>\n",
       "      <td>0</td>\n",
       "      <td>0</td>\n",
       "      <td>0</td>\n",
       "      <td>0</td>\n",
       "      <td>0</td>\n",
       "    </tr>\n",
       "    <tr>\n",
       "      <th>3</th>\n",
       "      <td>39954.04</td>\n",
       "      <td>151315</td>\n",
       "      <td>42.31</td>\n",
       "      <td>2.572</td>\n",
       "      <td>0.0</td>\n",
       "      <td>0.0</td>\n",
       "      <td>0.0</td>\n",
       "      <td>0.0</td>\n",
       "      <td>0.0</td>\n",
       "      <td>211.096358</td>\n",
       "      <td>...</td>\n",
       "      <td>0</td>\n",
       "      <td>0</td>\n",
       "      <td>0</td>\n",
       "      <td>0</td>\n",
       "      <td>0</td>\n",
       "      <td>0</td>\n",
       "      <td>0</td>\n",
       "      <td>0</td>\n",
       "      <td>0</td>\n",
       "      <td>0</td>\n",
       "    </tr>\n",
       "    <tr>\n",
       "      <th>4</th>\n",
       "      <td>32229.38</td>\n",
       "      <td>151315</td>\n",
       "      <td>42.31</td>\n",
       "      <td>2.572</td>\n",
       "      <td>0.0</td>\n",
       "      <td>0.0</td>\n",
       "      <td>0.0</td>\n",
       "      <td>0.0</td>\n",
       "      <td>0.0</td>\n",
       "      <td>211.096358</td>\n",
       "      <td>...</td>\n",
       "      <td>0</td>\n",
       "      <td>0</td>\n",
       "      <td>0</td>\n",
       "      <td>0</td>\n",
       "      <td>0</td>\n",
       "      <td>0</td>\n",
       "      <td>0</td>\n",
       "      <td>0</td>\n",
       "      <td>0</td>\n",
       "      <td>0</td>\n",
       "    </tr>\n",
       "  </tbody>\n",
       "</table>\n",
       "<p>5 rows × 132 columns</p>\n",
       "</div>"
      ],
      "text/plain": [
       "   Weekly_Sales    Size  Temperature  Fuel_Price  MarkDown1  MarkDown2  \\\n",
       "0      24924.50  151315        42.31       2.572        0.0        0.0   \n",
       "1      50605.27  151315        42.31       2.572        0.0        0.0   \n",
       "2      13740.12  151315        42.31       2.572        0.0        0.0   \n",
       "3      39954.04  151315        42.31       2.572        0.0        0.0   \n",
       "4      32229.38  151315        42.31       2.572        0.0        0.0   \n",
       "\n",
       "   MarkDown3  MarkDown4  MarkDown5         CPI  ...  Dept_92  Dept_93  \\\n",
       "0        0.0        0.0        0.0  211.096358  ...        0        0   \n",
       "1        0.0        0.0        0.0  211.096358  ...        0        0   \n",
       "2        0.0        0.0        0.0  211.096358  ...        0        0   \n",
       "3        0.0        0.0        0.0  211.096358  ...        0        0   \n",
       "4        0.0        0.0        0.0  211.096358  ...        0        0   \n",
       "\n",
       "   Dept_94  Dept_95  Dept_96  Dept_97  Dept_98  IsHoliday_True  Type_B  Type_C  \n",
       "0        0        0        0        0        0               0       0       0  \n",
       "1        0        0        0        0        0               0       0       0  \n",
       "2        0        0        0        0        0               0       0       0  \n",
       "3        0        0        0        0        0               0       0       0  \n",
       "4        0        0        0        0        0               0       0       0  \n",
       "\n",
       "[5 rows x 132 columns]"
      ]
     },
     "execution_count": 66,
     "metadata": {},
     "output_type": "execute_result"
    }
   ],
   "source": [
    "data_transf.head()"
   ]
  },
  {
   "cell_type": "markdown",
   "id": "seeing-philadelphia",
   "metadata": {
    "slideshow": {
     "slide_type": "slide"
    }
   },
   "source": [
    "## Эпилог"
   ]
  },
  {
   "cell_type": "code",
   "execution_count": 26,
   "id": "interstate-fairy",
   "metadata": {
    "slideshow": {
     "slide_type": "subslide"
    }
   },
   "outputs": [],
   "source": [
    "data['future_sales'] = data.Weekly_Sales.shift(-1)\n",
    "data = data[~data['future_sales'].isna()]"
   ]
  },
  {
   "cell_type": "markdown",
   "id": "owned-grade",
   "metadata": {
    "slideshow": {
     "slide_type": "slide"
    }
   },
   "source": [
    "## Функции  потерь "
   ]
  },
  {
   "cell_type": "markdown",
   "id": "african-african",
   "metadata": {
    "slideshow": {
     "slide_type": "subslide"
    }
   },
   "source": [
    "Не важно, какой задачей мы занимаемся, в основе лежит математическая функция, которую мы оптимизируем.\n",
    "\n",
    "Например, для задачи о такси остановились на следующем:\n",
    "\n",
    "$$ \\sum{(a(x_i) - y_i)^2}$$"
   ]
  },
  {
   "cell_type": "markdown",
   "id": "given-myanmar",
   "metadata": {
    "slideshow": {
     "slide_type": "fragment"
    }
   },
   "source": [
    "Допустим, мы верим, что такая модель объяснит взаимосвязь\n",
    "\n",
    "$$ a(x_i) = w_0 + w_1*x_i,$$\n",
    "\n",
    "где $х_i$ - это количество пассажиров в i-ой поездке, <br>\n",
    "$w_0, w_1$ - не известные параметры"
   ]
  },
  {
   "cell_type": "markdown",
   "id": "second-malaysia",
   "metadata": {
    "slideshow": {
     "slide_type": "subslide"
    }
   },
   "source": [
    "Оптимизации подвергнется конструкция:\n",
    "\n",
    "$$ \\min_{w_0, w_1}\\sum{(w_0 + w_1*x_i - y_i)^2}$$\n",
    "\n",
    "После применения какого-то метода оптимизации (аналитический аппарат в лице производных или численные методы в лице градиентного спуска), будут конкретные значения $w_0, w_1$"
   ]
  },
  {
   "cell_type": "markdown",
   "id": "foster-principle",
   "metadata": {
    "slideshow": {
     "slide_type": "subslide"
    }
   },
   "source": [
    "### Функция потерь\n",
    "Конструкция вида \n",
    "\n",
    "$$ \\min_{w_0, w_1}\\sum{(w_0 + w_1*x_i - y_i)^2}$$\n",
    "\n",
    "Называется **функцией потерь (loss function)**\n"
   ]
  },
  {
   "cell_type": "markdown",
   "id": "abstract-carry",
   "metadata": {
    "slideshow": {
     "slide_type": "fragment"
    }
   },
   "source": [
    "Она помогает обучить модель = найти коэффициенты"
   ]
  },
  {
   "cell_type": "markdown",
   "id": "rational-norfolk",
   "metadata": {
    "slideshow": {
     "slide_type": "fragment"
    }
   },
   "source": [
    "Требований к ней не много, одно пожелание:\n",
    "- дифференцируемость"
   ]
  },
  {
   "cell_type": "markdown",
   "id": "atmospheric-saudi",
   "metadata": {
    "slideshow": {
     "slide_type": "subslide"
    }
   },
   "source": [
    "### Функции потерь регрессии"
   ]
  },
  {
   "cell_type": "markdown",
   "id": "parental-nancy",
   "metadata": {
    "slideshow": {
     "slide_type": "subslide"
    }
   },
   "source": [
    "$$ MSE = \\frac {1}{n} \\sum{(a(x_i)- y_i)^2}$$\n",
    "\n",
    "**Плюсы**:\n",
    "- дифференцируемая\n",
    "\n",
    "**Недостатки**:\n",
    "- нездоровая тяга к выбросам"
   ]
  },
  {
   "cell_type": "code",
   "execution_count": 27,
   "id": "boxed-verification",
   "metadata": {
    "slideshow": {
     "slide_type": "subslide"
    }
   },
   "outputs": [
    {
     "data": {
      "image/png": "[encoded data removed]",
      "text/plain": [
       "<Figure size 432x288 with 1 Axes>"
      ]
     },
     "metadata": {},
     "output_type": "display_data"
    }
   ],
   "source": [
    "y = [100]*100\n",
    "a = np.linspace(-10000, 10000, 100)\n",
    "mse = ()\n",
    "plt.title('MSE')\n",
    "plt.plot(a, (a - y) **2)\n",
    "plt.xlabel('Predictions')\n",
    "plt.ylabel('MSE Loss')\n",
    "plt.show()"
   ]
  },
  {
   "cell_type": "markdown",
   "id": "precious-julian",
   "metadata": {
    "slideshow": {
     "slide_type": "subslide"
    }
   },
   "source": [
    "$$ RMSE = \\frac {1}{n} \\sqrt{\\sum{(a(x_i)- y_i)^2}}$$\n",
    "\n",
    "**Плюсы**:\n",
    "- родственник MSE\n",
    "\n",
    "**Недостатки**:\n",
    "- нездоровая тяга к выбросам"
   ]
  },
  {
   "cell_type": "code",
   "execution_count": 28,
   "id": "billion-aggregate",
   "metadata": {},
   "outputs": [
    {
     "data": {
      "image/png": "[encoded data removed]",
      "text/plain": [
       "<Figure size 432x288 with 1 Axes>"
      ]
     },
     "metadata": {},
     "output_type": "display_data"
    }
   ],
   "source": [
    "y = [100]*100\n",
    "a = np.linspace(-10000, 10000, 100)\n",
    "mse = ()\n",
    "plt.title('RMSE')\n",
    "plt.plot(a, ((a - y) **2)**(1/2))\n",
    "plt.xlabel('Predictions')\n",
    "plt.ylabel('MSE Loss')\n",
    "plt.show()"
   ]
  },
  {
   "cell_type": "markdown",
   "id": "induced-electron",
   "metadata": {
    "slideshow": {
     "slide_type": "subslide"
    }
   },
   "source": [
    "$$ MAE = \\frac {1}{n} \\sum{|a(x_i)- y_i|}$$\n",
    "\n",
    "**Плюсы**:\n",
    "- простейший способ расчета\n",
    "- вычислительно недорогой способ\n",
    "\n",
    "**Недостатки**\n",
    "- алгоритм \"слеп\" к ошибке в 100 и 1000 на разных объектах\n",
    "- алгоритм придает равное значение всем ошибкам"
   ]
  },
  {
   "cell_type": "code",
   "execution_count": 67,
   "id": "retired-brain",
   "metadata": {
    "slideshow": {
     "slide_type": "subslide"
    }
   },
   "outputs": [
    {
     "data": {
      "image/png": "[encoded data removed]",
      "text/plain": [
       "<Figure size 576x576 with 1 Axes>"
      ]
     },
     "metadata": {
      "needs_background": "light"
     },
     "output_type": "display_data"
    }
   ],
   "source": [
    "y = [100]*100\n",
    "a = np.linspace(-10000, 10000, 100)\n",
    "mse = ()\n",
    "plt.title('MAE')\n",
    "plt.plot(a, abs(a - y))\n",
    "plt.xlabel('Predictions')\n",
    "plt.ylabel('MAE Loss')\n",
    "plt.show()"
   ]
  },
  {
   "cell_type": "markdown",
   "id": "fixed-comparative",
   "metadata": {
    "slideshow": {
     "slide_type": "subslide"
    }
   },
   "source": [
    "$$ MAPE = \\frac {1}{n} \\sum |{\\frac{a(x_i)- y_i}{y_i}}|$$\n",
    "\n",
    "**Плюсы**:\n",
    "- ошибки выдаются в процентах, нет нужды гадать, ошибка в 10 или 100 - это много или мало\n",
    "\n",
    "**Недостатки**\n",
    "- разный процентных размах для одной и той же ошибки (|70 - 100| = 30, т.е. 0.3 ошибка; или |40 - 70| = 30, т.е. 0.42\n",
    "- одно нулевое наблюдение -- все рухнет"
   ]
  },
  {
   "cell_type": "code",
   "execution_count": 68,
   "id": "purple-burning",
   "metadata": {
    "slideshow": {
     "slide_type": "subslide"
    }
   },
   "outputs": [
    {
     "data": {
      "image/png": "[encoded data removed]",
      "text/plain": [
       "<Figure size 576x576 with 1 Axes>"
      ]
     },
     "metadata": {
      "needs_background": "light"
     },
     "output_type": "display_data"
    }
   ],
   "source": [
    "y = [100]*100\n",
    "a = np.linspace(-10000, 10000, 100)\n",
    "mse = ()\n",
    "plt.title('MAPE')\n",
    "plt.plot(a, abs((a - y) / y))\n",
    "plt.xlabel('Predictions')\n",
    "plt.ylabel('MAPE Loss')\n",
    "plt.show()"
   ]
  },
  {
   "cell_type": "markdown",
   "id": "psychological-valuable",
   "metadata": {
    "slideshow": {
     "slide_type": "subslide"
    }
   },
   "source": [
    "$$  \\begin{equation*}\n",
    "Huber Loss = \n",
    " \\begin{cases}\n",
    "    \\sum{(a(x_i)- y_i)^2} &\\text{|$a(x_i) - y_i$| <= $\\delta$}\\\\\n",
    "   2*\\delta|a(x_i) - y_i| - \\delta^2 &\\text{otherwise}\n",
    " \\end{cases}\n",
    "\\end{equation*}$$\n",
    "\n",
    "**Плюсы**\n",
    "\n",
    "- гиперпараметр дельта - есть, где маневрировать\n",
    "- численные методы не \"перепрыгнут\" оптимум\n",
    "\n",
    "**Минусы**\n",
    "- есть условия и сравнения, поэтому вычислительно мб сложно\n",
    "- дельта - гиперпараметр, нуждается в оптимизации"
   ]
  },
  {
   "cell_type": "markdown",
   "id": "fuzzy-reducing",
   "metadata": {
    "slideshow": {
     "slide_type": "subslide"
    }
   },
   "source": [
    "<img src='https://miro.medium.com/max/1280/1*gTUzf_mRdIPPZ96Qi5qrgw.jpeg'>"
   ]
  },
  {
   "cell_type": "markdown",
   "id": "double-vertical",
   "metadata": {
    "slideshow": {
     "slide_type": "subslide"
    }
   },
   "source": [
    "### Резюме про функции потерь\n",
    "- MSE\n",
    "- RMSE\n",
    "- MAE\n",
    "- MAPE\n",
    "- HuberLoss\n",
    "\n",
    "Выбор функции потерь обоснован:\n",
    "- задачей и ее бизнес-компонентом\n",
    "- способом решения оптимизационной задачи "
   ]
  },
  {
   "cell_type": "markdown",
   "id": "molecular-depression",
   "metadata": {
    "slideshow": {
     "slide_type": "slide"
    }
   },
   "source": [
    "## Метрики качества регрессии"
   ]
  },
  {
   "cell_type": "markdown",
   "id": "assured-employee",
   "metadata": {
    "slideshow": {
     "slide_type": "subslide"
    }
   },
   "source": [
    "Теперь есть обученный алгоритм $a(x)$, который раздал объектам прогнозы $\\hat{y}$.\n",
    "\n",
    "Нужны метрики, чтобы замерить качество (=ошибку) прогноза. "
   ]
  },
  {
   "cell_type": "markdown",
   "id": "burning-coverage",
   "metadata": {
    "slideshow": {
     "slide_type": "subslide"
    }
   },
   "source": [
    "$$ MSE = \\frac {1}{n} \\sum{(\\hat{y_i}- y_i)^2}$$\n"
   ]
  },
  {
   "cell_type": "markdown",
   "id": "fancy-minimum",
   "metadata": {
    "slideshow": {
     "slide_type": "subslide"
    }
   },
   "source": [
    "$$ RMSE = \\frac {1}{n} \\sqrt{\\sum{\\hat{y_i}- y_i)^2}}$$"
   ]
  },
  {
   "cell_type": "markdown",
   "id": "dress-mobility",
   "metadata": {
    "slideshow": {
     "slide_type": "subslide"
    }
   },
   "source": [
    "$$ MAE = \\frac {1}{n} \\sum{|\\hat{y_i}- y_i|}$$\n"
   ]
  },
  {
   "cell_type": "markdown",
   "id": "corrected-audience",
   "metadata": {
    "slideshow": {
     "slide_type": "subslide"
    }
   },
   "source": [
    "$$ MAPE = \\frac {1}{n} \\sum |{\\frac{\\hat{y_i}- y_i}{y_i}}|$$"
   ]
  },
  {
   "cell_type": "markdown",
   "id": "hawaiian-heath",
   "metadata": {
    "slideshow": {
     "slide_type": "subslide"
    }
   },
   "source": [
    "$$R^2 = 1- \\frac{\\sum{(\\hat{y_i}- y_i)^2}}{\\sum{(y_i - \\overline{y})^2}}$$\n"
   ]
  },
  {
   "cell_type": "markdown",
   "id": "grand-intersection",
   "metadata": {
    "slideshow": {
     "slide_type": "subslide"
    }
   },
   "source": [
    "### Резюме про метрики\n",
    "- MSE\n",
    "- RMSE\n",
    "- MAE\n",
    "- MAPE\n",
    "- $R^2$"
   ]
  },
  {
   "cell_type": "markdown",
   "id": "female-biodiversity",
   "metadata": {
    "slideshow": {
     "slide_type": "slide"
    }
   },
   "source": [
    "## Расчет метрик по задачи"
   ]
  },
  {
   "cell_type": "code",
   "execution_count": 78,
   "id": "plain-black",
   "metadata": {
    "slideshow": {
     "slide_type": "subslide"
    }
   },
   "outputs": [],
   "source": [
    "from sklearn.metrics import mean_absolute_error\n",
    "from sklearn.metrics import mean_squared_error\n",
    "from sklearn.metrics import r2_score as r2"
   ]
  },
  {
   "cell_type": "code",
   "execution_count": 32,
   "id": "sonic-threshold",
   "metadata": {
    "slideshow": {
     "slide_type": "subslide"
    }
   },
   "outputs": [],
   "source": [
    "y_mean = data['future_sales'].mean()\n",
    "\n",
    "y_pred_naive = np.ones(len(data['future_sales'])) * y_mean"
   ]
  },
  {
   "cell_type": "code",
   "execution_count": 73,
   "id": "conventional-polymer",
   "metadata": {},
   "outputs": [
    {
     "data": {
      "text/plain": [
       "count    420211.000000\n",
       "mean      16033.093432\n",
       "std       22729.515023\n",
       "min           0.010000\n",
       "25%        2120.120000\n",
       "50%        7661.700000\n",
       "75%       20271.110000\n",
       "max      693099.360000\n",
       "Name: future_sales, dtype: float64"
      ]
     },
     "execution_count": 73,
     "metadata": {},
     "output_type": "execute_result"
    }
   ],
   "source": [
    "data['future_sales'].describe()"
   ]
  },
  {
   "cell_type": "code",
   "execution_count": 76,
   "id": "entire-reporter",
   "metadata": {},
   "outputs": [
    {
     "data": {
      "text/plain": [
       "array([16033.09343204, 16033.09343204, 16033.09343204, ...,\n",
       "       16033.09343204, 16033.09343204, 16033.09343204])"
      ]
     },
     "execution_count": 76,
     "metadata": {},
     "output_type": "execute_result"
    }
   ],
   "source": [
    "y_pred_naive"
   ]
  },
  {
   "cell_type": "code",
   "execution_count": 79,
   "id": "english-calcium",
   "metadata": {},
   "outputs": [
    {
     "name": "stdout",
     "output_type": "stream",
     "text": [
      "15178.197113455735\n",
      "516629623.71384966\n",
      "3.3306690738754696e-16\n"
     ]
    }
   ],
   "source": [
    "# рассчитайте метрики \n",
    "print(mean_absolute_error(data['future_sales'], y_pred_naive))\n",
    "print(mean_squared_error(data['future_sales'], y_pred_naive))\n",
    "print(r2(data['future_sales'], y_pred_naive))"
   ]
  },
  {
   "cell_type": "code",
   "execution_count": 80,
   "id": "higher-fifteen",
   "metadata": {},
   "outputs": [
    {
     "name": "stdout",
     "output_type": "stream",
     "text": [
      "22729.48797737973\n"
     ]
    }
   ],
   "source": [
    "print(mean_squared_error(data['future_sales'], y_pred_naive) ** (1/2))"
   ]
  },
  {
   "cell_type": "markdown",
   "id": "transsexual-taylor",
   "metadata": {
    "slideshow": {
     "slide_type": "slide"
    }
   },
   "source": [
    "##  Функции потерь классификации\n"
   ]
  },
  {
   "cell_type": "markdown",
   "id": "desirable-teaching",
   "metadata": {
    "slideshow": {
     "slide_type": "subslide"
    }
   },
   "source": [
    "В классификации нужно правильно раздать метки: 1 и 0.\n",
    "\n",
    "Функция потерь записывается просто:\n",
    "\n",
    "$$ \\frac{1}{n}\\sum{[a(x_i) \\ne y_i]}$$\n",
    "\n",
    "Т.е. мы стремимся уменьшить долю ошибок.\n",
    "\n",
    "Беда такая: "
   ]
  },
  {
   "cell_type": "code",
   "execution_count": 34,
   "id": "athletic-pearl",
   "metadata": {
    "slideshow": {
     "slide_type": "subslide"
    }
   },
   "outputs": [
    {
     "data": {
      "image/png": "[encoded data removed]",
      "text/plain": [
       "<Figure size 432x288 with 1 Axes>"
      ]
     },
     "metadata": {},
     "output_type": "display_data"
    }
   ],
   "source": [
    "m = np.linspace(-50, 50, 100)\n",
    "y = np.array([1]*50 + [0]*50)\n",
    "plt.plot(m, y)\n",
    "plt.show()"
   ]
  },
  {
   "cell_type": "markdown",
   "id": "enhanced-sustainability",
   "metadata": {
    "slideshow": {
     "slide_type": "subslide"
    }
   },
   "source": [
    "**Экспоненциальная функция потерь** \n",
    "\n",
    "$$ AdaBoostLoss = exp(-y*a(x))$$"
   ]
  },
  {
   "cell_type": "markdown",
   "id": "important-theorem",
   "metadata": {
    "slideshow": {
     "slide_type": "fragment"
    }
   },
   "source": [
    "**Логистическая функция потерь** \n",
    "\n",
    "$$ LogLoss = log(1 + exp(-2y*a(x))$$"
   ]
  },
  {
   "cell_type": "markdown",
   "id": "animated-vision",
   "metadata": {
    "slideshow": {
     "slide_type": "subslide"
    }
   },
   "source": [
    "<img src='https://habrastorage.org/r/w1560/web/bf5/9de/dcf/bf59dedcfd9d49b18e89ce342b09ce69.png'>"
   ]
  },
  {
   "cell_type": "markdown",
   "id": "rotary-cheese",
   "metadata": {
    "slideshow": {
     "slide_type": "slide"
    }
   },
   "source": [
    "## Метрики классификации"
   ]
  },
  {
   "cell_type": "markdown",
   "id": "incorrect-gregory",
   "metadata": {
    "slideshow": {
     "slide_type": "subslide"
    }
   },
   "source": [
    "**Accuracy**\n",
    "\n",
    "Самая простая и интуитивная метрика для оценка качества классификации - это accuracy, доля правильных ответов. \n",
    "- настоящие значения (y_real)\n",
    "- спрогнозированные моделью значения (y_pred)\n",
    "\n",
    "Количество совпадений в прогнозах - это числитель в accuracy; знаменатель - это количество объектов, для которых мы сделали прогноз\n",
    "\n",
    "$$ Accuracy = \\frac{количество\\:совпадений\\:в\\:прогнозах}{количество\\:элементов} $$\n",
    "\n",
    "Accuracy измеряется от 0 до 1. Чем ближе к 1, тем лучше: модель смогла правильно классифицировать объекты\n",
    "\n",
    "Пример: \n",
    "- 100 объектов\n",
    "- 95 с меткой \"1\", а 5 - с меткой \"0\"\n",
    "- Классификатор - \"всем единицы!\"\n",
    "- Какой accuracy? 95 / 100 = 0.95\n",
    "\n",
    "При дисбалансе accuracy > доля мажоритарного класса (того, которого больше) "
   ]
  },
  {
   "cell_type": "markdown",
   "id": "editorial-karma",
   "metadata": {
    "slideshow": {
     "slide_type": "subslide"
    }
   },
   "source": [
    "**Матрица ошибок**\n",
    "\n",
    "4 показателя (TP, FP, TN, FN) собираются в одну таблицу, которая называется матрицей ошибок. \n",
    "\n",
    "В библиотке sklearn матрица собирается следующим образом:\n",
    "- по горизонтали расположены истинные метки класса от 0 до 1\n",
    "- по вертикали - метки алгоритма от 0 до 1\n",
    "\n",
    "Соответственно, \n",
    "- на диагонали стоят все правильные прогнозы\n",
    "    - в левом верхнем углу TN\n",
    "    - в правом нижнем углу TP\n",
    "- вне диагонали - ошибочные варианты:\n",
    "    - в правом верхнем углу расположились FP-ответы\n",
    "    - в левом нижнем углу - TN-ответы"
   ]
  },
  {
   "attachments": {
    "89301515364916eb2725fa2d99bc174f.png": {
     "image/png": "[encoded data removed]"
    }
   },
   "cell_type": "markdown",
   "id": "ambient-loading",
   "metadata": {
    "slideshow": {
     "slide_type": "subslide"
    }
   },
   "source": [
    "\n",
    "\n",
    "![89301515364916eb2725fa2d99bc174f.png](attachment:89301515364916eb2725fa2d99bc174f.png)"
   ]
  },
  {
   "cell_type": "markdown",
   "id": "olive-queens",
   "metadata": {
    "slideshow": {
     "slide_type": "subslide"
    }
   },
   "source": [
    "**Recall**\n",
    "Для оценка качества прогноза целевого класса можно использовать метрику полноты, или Recall. \n",
    "Она показывает, какую долю положительных ответов смог выделить классификатор. \n",
    "\n",
    "На примере нашей задачи: \n",
    "- есть 100 человек, которые обратились за страховой компенсацией. \n",
    "- 20 из них модель распознала и посчитала обращающимися за страховкой. \n",
    "- Тогда Recall для таких цифр - 0.2\n",
    "\n",
    "По матрице ошибок легко и быстро Recall можно рассчитывать по формуле: \n",
    "$$ Recall = \\frac{TP}{TP + FN}$$\n",
    "\n",
    "Это доля TP-ответов среди всех, у кого истинная метка - 1: сумма TP + FN"
   ]
  },
  {
   "cell_type": "markdown",
   "id": "entire-cartridge",
   "metadata": {
    "slideshow": {
     "slide_type": "subslide"
    }
   },
   "source": [
    "**Precision**\n",
    "\n",
    "Качество прогноза целевого класса можно оценить метрикой точности, или Precision. \n",
    "Это доля корректных положительных меток среди всех положительных меток модели. \n",
    "\n",
    "На примере нашей задачи: \n",
    "- есть 100 человек, которые по мнению модели обратятся за страховкой\n",
    "- 20 из них действительно обратились за компенсацией. \n",
    "- Тогда Precision  - 0.2\n",
    "\n",
    "По матрице ошибок легко и быстро Precision можно рассчитывать по формуле: \n",
    "\n",
    "$$ Precision = \\frac{TP}{TP + FP}$$\n",
    "\n",
    "Корректные положительные метки - это TP, а все положительные метки, присвоенные классификатором - это TP и FP"
   ]
  },
  {
   "cell_type": "markdown",
   "id": "yellow-trust",
   "metadata": {
    "slideshow": {
     "slide_type": "subslide"
    }
   },
   "source": [
    "**F1-score**\n",
    "\n",
    "Полнота и точность оценивают качество прогноза класса 1 из-под разных углов: точность показывает адекватность модели, не переусердствует ли она, присваивая положительные метки; полнота же описывает, как глубоко модель смогла разобраться в особенностях класса 1 и распознать его.\n",
    "\n",
    "Обе метрики - важные. Чтобы контролировать их параллельно, придуманы агрегирующие метрики. Одна из них - F1-мера или F1-score. Это среднегармонические полноты и точности. \n",
    "\n",
    "$$ F1 = \\frac{2PR}{R + P}$$\n",
    "\n",
    "Среднегармоническое обладает важным свойством: когда один из составляющих близок к нулю, само среднее гармоническое близится к нулю.\n",
    "Т.е. если мы под любым углом плохо прогнозируем класс 1, то F1-мера близостью к нулю сразу покажет. "
   ]
  },
  {
   "cell_type": "code",
   "execution_count": null,
   "id": "accompanied-enhancement",
   "metadata": {},
   "outputs": [],
   "source": [
    "[0, 0, 0, 1, 1, 1]\n",
    "[0.1, 0.2, 0.4, 0.6, 0.7, 0.8]\n",
    "\n",
    "\n",
    "[0, 0, 0, 1, 1, 1]\n",
    "[0.1, 0.8, 0.4, 0.6, 0.7, 0.8]"
   ]
  },
  {
   "attachments": {
    "image.png": {
     "image/png": "[encoded data removed]"
    }
   },
   "cell_type": "markdown",
   "id": "announced-blond",
   "metadata": {
    "slideshow": {
     "slide_type": "subslide"
    }
   },
   "source": [
    "**ROC-AUC**\n",
    "\n",
    "Даны:\n",
    "\n",
    "$y_i$ - истинные метки <br>\n",
    "$p_i$ - прогнозы вероятности класса 1\n",
    "\n",
    "$$FPR = \\frac{FP}{FP + TN}$$\n",
    "$$TPR = \\frac{TP}{TP + FN}$$\n",
    "\n",
    "\n",
    "![image.png](attachment:image.png)"
   ]
  },
  {
   "cell_type": "markdown",
   "id": "substantial-observation",
   "metadata": {
    "slideshow": {
     "slide_type": "subslide"
    }
   },
   "source": [
    "### Задачи "
   ]
  },
  {
   "attachments": {
    "photo_2020-10-14%2018.13.48.jpeg": {
     "image/jpeg": "[encoded data removed]"
    }
   },
   "cell_type": "markdown",
   "id": "determined-trigger",
   "metadata": {
    "slideshow": {
     "slide_type": "subslide"
    }
   },
   "source": [
    "**1. Метрики классификации**\n",
    "\n",
    "![photo_2020-10-14%2018.13.48.jpeg](attachment:photo_2020-10-14%2018.13.48.jpeg)"
   ]
  },
  {
   "cell_type": "markdown",
   "id": "adequate-surface",
   "metadata": {
    "slideshow": {
     "slide_type": "fragment"
    }
   },
   "source": [
    "Модель 1: <br>\n",
    "- Accuracy = 0.8\n",
    "- Precision = 0.8\n",
    "- Recall = 0.8\n",
    "Модель 2: <br>\n",
    "- Accuracy = 0.73\n",
    "- Precision = 0.96\n",
    "- Recall = 0.48\n",
    "Модель 3 <br>\n",
    "- Accuracy = 0.99\n",
    "- Precision = 0.33\n",
    "- Recall = 0.1"
   ]
  },
  {
   "cell_type": "code",
   "execution_count": null,
   "id": "brown-hurricane",
   "metadata": {},
   "outputs": [],
   "source": []
  },
  {
   "attachments": {
    "photo_2020-10-14%2018.13.51.jpeg": {
     "image/jpeg": "[encoded data removed]"
    }
   },
   "cell_type": "markdown",
   "id": "loved-jacksonville",
   "metadata": {
    "slideshow": {
     "slide_type": "subslide"
    }
   },
   "source": [
    "**2. AUC**\n",
    "\n",
    "![photo_2020-10-14%2018.13.51.jpeg](attachment:photo_2020-10-14%2018.13.51.jpeg)"
   ]
  },
  {
   "cell_type": "markdown",
   "id": "linear-audit",
   "metadata": {
    "slideshow": {
     "slide_type": "subslide"
    }
   },
   "source": [
    "## Задачи по метрикам классификации с Python"
   ]
  },
  {
   "cell_type": "code",
   "execution_count": 35,
   "id": "marked-future",
   "metadata": {
    "slideshow": {
     "slide_type": "subslide"
    }
   },
   "outputs": [],
   "source": [
    "from sklearn.metrics import accuracy_score, precision_score, recall_score, roc_auc_score, f1_score\n",
    "from sklearn.metrics import confusion_matrix, classification_report, precision_recall_curve, roc_curve, auc"
   ]
  },
  {
   "cell_type": "code",
   "execution_count": 36,
   "id": "compatible-michael",
   "metadata": {
    "slideshow": {
     "slide_type": "subslide"
    }
   },
   "outputs": [],
   "source": [
    "import pandas as pd              \n",
    "import numpy as np \n",
    "import itertools\n",
    "import matplotlib.pyplot as plt   \n",
    "import matplotlib\n",
    "import seaborn as sns             \n",
    "plt.style.use('ggplot')           \n",
    "\n",
    "%matplotlib inline"
   ]
  },
  {
   "cell_type": "markdown",
   "id": "structured-cabinet",
   "metadata": {
    "slideshow": {
     "slide_type": "subslide"
    }
   },
   "source": [
    "**Задача 1. Сгенерируйте две выборки:**\n",
    "- y_proba - случайный вектор длины 100, от 0 до 1\n",
    "- y_true - случайный вектор длины 100, состоящий из 0 и 1\n"
   ]
  },
  {
   "cell_type": "code",
   "execution_count": 37,
   "id": "economic-flash",
   "metadata": {
    "slideshow": {
     "slide_type": "subslide"
    }
   },
   "outputs": [],
   "source": [
    "y_proba = np.random.random(size=100)\n",
    "y_true = np.random.randint(low=0, high=2, size=100)\n",
    "y_pred = y_proba > 0.6\n",
    "y_pred = np.array(pd.Series(y_pred).astype(int))"
   ]
  },
  {
   "cell_type": "markdown",
   "id": "expanded-night",
   "metadata": {
    "slideshow": {
     "slide_type": "subslide"
    }
   },
   "source": [
    "**Задача 2. Считаем метрики:**\n",
    "- Accuracy\n",
    "- Precision\n",
    "- Recall\n",
    "- ROC-AUC"
   ]
  },
  {
   "cell_type": "code",
   "execution_count": 38,
   "id": "surface-business",
   "metadata": {},
   "outputs": [],
   "source": [
    "# рассчитайте метрики \n"
   ]
  },
  {
   "cell_type": "markdown",
   "id": "historic-handbook",
   "metadata": {
    "slideshow": {
     "slide_type": "subslide"
    }
   },
   "source": [
    "**Визуализация ROC и Recall-кривых**"
   ]
  },
  {
   "cell_type": "code",
   "execution_count": 39,
   "id": "handmade-sharp",
   "metadata": {
    "slideshow": {
     "slide_type": "skip"
    }
   },
   "outputs": [],
   "source": [
    "# Функция для отрисовки confusion_matrix  \n",
    "def plot_confusion_matrix(cm, classes,\n",
    "                          normalize=False,\n",
    "                          title='Confusion matrix',\n",
    "                          cmap=plt.cm.Blues):\n",
    "    \n",
    "    plt.figure(figsize=(5, 5))\n",
    "    plt.imshow(cm, interpolation='nearest', cmap=cmap)\n",
    "    plt.title(title, fontsize=18)\n",
    "    plt.colorbar()\n",
    "    tick_marks = np.arange(len(classes))\n",
    "    plt.xticks(tick_marks, classes, fontsize=16)\n",
    "    plt.yticks(tick_marks, classes, fontsize=16)\n",
    "\n",
    "    if normalize:\n",
    "        cm = cm.astype('float') / cm.sum(axis=1)[:, np.newaxis]\n",
    "\n",
    "    thresh = cm.max() / 2.\n",
    "    for i, j in itertools.product(range(cm.shape[0]), range(cm.shape[1])):\n",
    "        plt.text(j, i, cm[i, j],\n",
    "                 horizontalalignment=\"center\",\n",
    "                 color=\"white\" if cm[i, j] > thresh else \"black\", fontsize=30)\n",
    "\n",
    "    plt.tight_layout()\n",
    "    plt.ylabel('True label', fontsize=16)\n",
    "    plt.xlabel('Predicted label', fontsize=16)\n",
    "    pass\n",
    "\n",
    "# Функция для отрисовки roc-auc кривой    \n",
    "def roc_auc_pic(y_hat_test, y_test):    \n",
    "    fpr_test, tpr_test, thresholds_test = roc_curve(y_test, y_hat_test)\n",
    "    roc_auc_test = roc_auc_score(y_test, y_hat_test)\n",
    "\n",
    "    matplotlib.rcParams['figure.figsize'] = (8, 8)\n",
    "    plt.plot(fpr_test, tpr_test, label='Test ROC AUC {0}'.format(roc_auc_test))\n",
    "    plt.plot([0, 1], [0, 1], '--', color=(0.6, 0.6, 0.6))\n",
    "    plt.xlim([0, 1])\n",
    "    plt.ylim([0, 1])\n",
    "    plt.xlabel('False Positive Rate')\n",
    "    plt.ylabel('True Positive Rate')\n",
    "    plt.legend(loc='lower right')\n",
    "    plt.show() \n",
    "    pass\n",
    "\n",
    "\n",
    "# Картинки для PR-кривой, а-меры\n",
    "def plot_precision_recall_curve(y_pred_proba, y_test):\n",
    "    plt.figure(figsize=(10, 10))\n",
    "    f_scores = np.linspace(0.4, 0.9, num=6)\n",
    "    lines = []\n",
    "    labels = []\n",
    "    for f_score in f_scores:\n",
    "        x = np.linspace(0.01, 1)\n",
    "        y = f_score * x / (2 * x - f_score)\n",
    "        l, = plt.plot(x[y >= 0], y[y >= 0], color='gray', alpha=0.2)\n",
    "        plt.annotate('f1={0:0.2f}'.format(f_score), xy=(0.9, y[45] + 0.02))\n",
    "    precision, recall, _ =  precision_recall_curve(y_test, y_pred_proba)\n",
    "\n",
    "    plt.step(recall, precision, color='b', alpha=0.2, where='post')\n",
    "    plt.fill_between(recall, precision, step='post', alpha=0.2,\n",
    "                     color='b')\n",
    "    plt.xlabel('Recall', size=15)\n",
    "    plt.ylabel('Precision', size=15)\n",
    "    plt.title('Precision-Recall curve', size=18)\n",
    "    plt.xlim([0.0, 1.0])\n",
    "    plt.ylim([0.0, 1.05])\n",
    "    plt.show()"
   ]
  },
  {
   "cell_type": "markdown",
   "id": "infectious-terminology",
   "metadata": {
    "slideshow": {
     "slide_type": "subslide"
    }
   },
   "source": [
    "- Визуализируйте ROC-кривую"
   ]
  },
  {
   "cell_type": "code",
   "execution_count": 40,
   "id": "suited-cleveland",
   "metadata": {
    "slideshow": {
     "slide_type": "subslide"
    }
   },
   "outputs": [
    {
     "data": {
      "image/png": "[encoded data removed]",
      "text/plain": [
       "<Figure size 576x576 with 1 Axes>"
      ]
     },
     "metadata": {
      "needs_background": "light"
     },
     "output_type": "display_data"
    }
   ],
   "source": [
    "roc_auc_pic(y_proba, y_true)"
   ]
  },
  {
   "cell_type": "markdown",
   "id": "specific-senior",
   "metadata": {
    "slideshow": {
     "slide_type": "subslide"
    }
   },
   "source": [
    "- Визуализируйте PR-кривую"
   ]
  },
  {
   "cell_type": "code",
   "execution_count": 41,
   "id": "known-singapore",
   "metadata": {
    "slideshow": {
     "slide_type": "subslide"
    }
   },
   "outputs": [
    {
     "data": {
      "image/png": "[encoded data removed]",
      "text/plain": [
       "<Figure size 720x720 with 1 Axes>"
      ]
     },
     "metadata": {
      "needs_background": "light"
     },
     "output_type": "display_data"
    }
   ],
   "source": [
    "plot_precision_recall_curve(y_proba, y_true)"
   ]
  },
  {
   "cell_type": "code",
   "execution_count": 42,
   "id": "adaptive-reviewer",
   "metadata": {
    "scrolled": true,
    "slideshow": {
     "slide_type": "subslide"
    }
   },
   "outputs": [
    {
     "data": {
      "image/png": "[encoded data removed]",
      "text/plain": [
       "<Figure size 360x360 with 2 Axes>"
      ]
     },
     "metadata": {
      "needs_background": "light"
     },
     "output_type": "display_data"
    }
   ],
   "source": [
    "plot_confusion_matrix(confusion_matrix(y_true, y_pred), classes=['0', '1'])"
   ]
  }
 ],
 "metadata": {
  "celltoolbar": "Слайд-шоу",
  "kernelspec": {
   "display_name": "Python 3",
   "language": "python",
   "name": "python3"
  },
  "language_info": {
   "codemirror_mode": {
    "name": "ipython",
    "version": 3
   },
   "file_extension": ".py",
   "mimetype": "text/x-python",
   "name": "python",
   "nbconvert_exporter": "python",
   "pygments_lexer": "ipython3",
   "version": "3.8.5"
  }
 },
 "nbformat": 4,
 "nbformat_minor": 5
}
