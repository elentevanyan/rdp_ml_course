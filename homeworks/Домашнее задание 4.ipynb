{
 "cells": [
  {
   "cell_type": "markdown",
   "id": "desirable-referral",
   "metadata": {},
   "source": [
    "# Кластеризация и PCA"
   ]
  },
  {
   "cell_type": "markdown",
   "id": "biological-bouquet",
   "metadata": {},
   "source": [
    "**Дисклеймер**\n",
    "Этот материал является переводом домашнего задания открытого курса по машинному обучению ODS."
   ]
  },
  {
   "cell_type": "markdown",
   "id": "improved-opinion",
   "metadata": {},
   "source": [
    "В этом задании мы посмотрим, как работают методы сокращения размерности и кластеризации. Параллельно с их применением, практикуемся в решении задачи классификации.\n",
    "\n",
    "Для работы используется датасет  Samsung Human Activity Recognition dataset. Скачать данные можно  <a hreg='https://github.com/elentevanyan/rdp_ml_course/tree/main/datasets'> отсюда </a> (архивы samsung_train и samsung_test). Данные поступают из акселерометров и гироскопов телефонов Samsung Galaxy S3. Также известен тип активности владельца телефона, когда устройство было в его кармане - ходил ли человек, стоял, лежал, сидел или ходил по лестнице.\n",
    "\n",
    "Для начала, мы представим, что мы не знаем, какой активностью был занят человек, и попробуем скластеризовать людей исключительно на основе доступных признаков. Затем мы решим задачу классификации: спрогнозируем, каким видом активности был занят человек.\n",
    "\n",
    "Вам нужно будет заполнить код в ячейках, где есть комментарий \"Ваш код здесь\" "
   ]
  },
  {
   "cell_type": "code",
   "execution_count": null,
   "id": "capable-johns",
   "metadata": {},
   "outputs": [],
   "source": [
    "import os\n",
    "import numpy as np\n",
    "import pandas as pd\n",
    "import seaborn as sns\n",
    "from tqdm import tqdm_notebook\n",
    "\n",
    "%matplotlib inline\n",
    "from matplotlib import pyplot as plt\n",
    "plt.style.use(['seaborn-darkgrid'])\n",
    "plt.rcParams['figure.figsize'] = (12, 9)\n",
    "plt.rcParams['font.family'] = 'DejaVu Sans'\n",
    "\n",
    "from sklearn import metrics\n",
    "from sklearn.cluster import KMeans, AgglomerativeClustering, SpectralClustering\n",
    "from sklearn.decomposition import PCA\n",
    "from sklearn.model_selection import GridSearchCV\n",
    "from sklearn.preprocessing import StandardScaler\n",
    "from sklearn.svm import LinearSVC\n",
    "\n",
    "RANDOM_STATE = 17"
   ]
  },
  {
   "cell_type": "code",
   "execution_count": null,
   "id": "modern-anatomy",
   "metadata": {},
   "outputs": [],
   "source": [
    "X_train = np.loadtxt(\"samsung_train.txt\")\n",
    "y_train = np.loadtxt(\"samsung_train_labels.txt\").astype(int)\n",
    "\n",
    "X_test = np.loadtxt(\"samsung_test.txt\")\n",
    "y_test = np.loadtxt(\"samsung_test_labels.txt\").astype(int)"
   ]
  },
  {
   "cell_type": "code",
   "execution_count": null,
   "id": "supreme-hampshire",
   "metadata": {},
   "outputs": [],
   "source": [
    "# проверка размерностей\n",
    "assert(X_train.shape == (7352, 561) and y_train.shape == (7352,))\n",
    "assert(X_test.shape == (2947, 561) and y_test.shape == (2947,))"
   ]
  },
  {
   "cell_type": "markdown",
   "id": "worst-throw",
   "metadata": {},
   "source": [
    "Для кластеризации нам не понадобится целевой вектор, поэтому понадобится комбинаия матрицы признаков тренировочной и тестовой выборок. Объедините X_test и X_train, а также y_test c y_train\n"
   ]
  },
  {
   "cell_type": "code",
   "execution_count": null,
   "id": "sacred-character",
   "metadata": {},
   "outputs": [],
   "source": [
    "# ваш код здесь"
   ]
  },
  {
   "cell_type": "markdown",
   "id": "charming-familiar",
   "metadata": {},
   "source": [
    "Определите, сколько уникальных классов в целевой переменной"
   ]
  },
  {
   "cell_type": "code",
   "execution_count": null,
   "id": "exempt-prisoner",
   "metadata": {},
   "outputs": [],
   "source": [
    "# ваш код здесь"
   ]
  },
  {
   "cell_type": "markdown",
   "id": "removed-criterion",
   "metadata": {},
   "source": [
    "Эти цифры соответствуют:\n",
    "\n",
    "- 1 – владелец ходит\n",
    "- 2 – владелет поднимает наверх\n",
    "- 3 – владелет спускается вниз\n",
    "- 4 – владелет сидит\n",
    "- 5 – владелет стоит\n",
    "- 6 – владелет лежит"
   ]
  },
  {
   "cell_type": "markdown",
   "id": "placed-concrete",
   "metadata": {},
   "source": [
    "Отшкалируйте данные. Используйте StandardScaler() со стандартными параметрами"
   ]
  },
  {
   "cell_type": "code",
   "execution_count": null,
   "id": "outer-annotation",
   "metadata": {},
   "outputs": [],
   "source": [
    "# ваш код здесь"
   ]
  },
  {
   "cell_type": "markdown",
   "id": "congressional-marina",
   "metadata": {},
   "source": [
    "Уменьшите размерность признакового пространства, используя PCA. Оставьте столько компонент, сколько нужно, чтобы объяснить не менее 90% разброса исходных (шкалированных) данных. Используйте шкалированный датасет и фиксированный random_state, равный RANDOM_STATE"
   ]
  },
  {
   "cell_type": "code",
   "execution_count": null,
   "id": "supported-figure",
   "metadata": {},
   "outputs": [],
   "source": [
    "# ваш код здесь\n",
    "\n",
    "# pca = \n",
    "# X_pca ="
   ]
  },
  {
   "cell_type": "markdown",
   "id": "generous-argument",
   "metadata": {},
   "source": [
    "**Задание 1:**\n",
    "\n",
    "Сколько компонент понадобится, чтобы объяснить 90% дисперсии исходных (шкалированных) данных?"
   ]
  },
  {
   "cell_type": "code",
   "execution_count": 1,
   "id": "likely-dining",
   "metadata": {},
   "outputs": [],
   "source": [
    "# ваш код здесь"
   ]
  },
  {
   "cell_type": "markdown",
   "id": "impressed-georgia",
   "metadata": {},
   "source": [
    "**Задание 2:**\n",
    "\n",
    "Какой процент дисперсии объясняет первая главная компонента?"
   ]
  },
  {
   "cell_type": "code",
   "execution_count": null,
   "id": "mobile-xerox",
   "metadata": {},
   "outputs": [],
   "source": [
    "# ваш код здесь"
   ]
  },
  {
   "cell_type": "markdown",
   "id": "prompt-oklahoma",
   "metadata": {},
   "source": [
    "Визуализируйте данные на проекции первых двух главных компонент в виде точечной диаграммы."
   ]
  },
  {
   "cell_type": "code",
   "execution_count": null,
   "id": "indie-agent",
   "metadata": {},
   "outputs": [],
   "source": [
    "# ваш код здесь"
   ]
  },
  {
   "cell_type": "markdown",
   "id": "valued-vietnamese",
   "metadata": {},
   "source": [
    "**Задание 3:**\n",
    "\n",
    "Какой процент дисперсии объясняет первая главная компонента?"
   ]
  },
  {
   "cell_type": "code",
   "execution_count": null,
   "id": "virgin-worry",
   "metadata": {},
   "outputs": [],
   "source": [
    "# ваш код здесь"
   ]
  },
  {
   "cell_type": "markdown",
   "id": "binary-claim",
   "metadata": {},
   "source": [
    "**Задание 4:**\n",
    "\n",
    "Обучите KMeans на 6 кластеров на сжатых методом PCA данных.\n",
    "Поставьте параметр random_state = RANDOM_STATE"
   ]
  },
  {
   "cell_type": "code",
   "execution_count": null,
   "id": "polish-shoulder",
   "metadata": {},
   "outputs": [],
   "source": [
    "# ваш код здесь"
   ]
  },
  {
   "cell_type": "markdown",
   "id": "typical-mobile",
   "metadata": {},
   "source": [
    "Обучите KMeans на 6 кластеров на сжатых методом PCA данных. "
   ]
  },
  {
   "cell_type": "markdown",
   "id": "mathematical-vacuum",
   "metadata": {},
   "source": [
    "**Задание 5:**\n",
    "\n",
    "Какая из активностей лучше всего сепарируется от других?\n",
    "\n",
    "Чтобы ответить на этот вопрос, давайте посмотрим на следующую метрику.\n",
    "\n",
    "\n",
    "Каждому из исходных классов соответствуют объекты, принадлежащие разным кластерам.\n",
    "Например, для 100 объектов класса \"1\" может быть такое распределение:\n",
    "- 92 объекта с меткой кластера \"0\", доля кластера 0.92\n",
    "- 7 объектов с меткой кластера \"1\", доля кластера 0.07\n",
    "- 1 объект с меткой кластера \"2\", доля кластера 0.01\n",
    "\n",
    "\n",
    "Полученные доли можно интерпретировать как коэффициент сепарации/однородности кластера. \n",
    "Какой из шести классов лучшего всего \"отделился\" от других алгоритмом кластеризации?"
   ]
  },
  {
   "cell_type": "code",
   "execution_count": null,
   "id": "optical-participant",
   "metadata": {},
   "outputs": [],
   "source": [
    "# ваш код здесь"
   ]
  },
  {
   "cell_type": "markdown",
   "id": "informed-tooth",
   "metadata": {},
   "source": [
    "**Задание 6:**\n",
    "\n",
    "Скорее всего, к этому моменту вы увидели, что кластеризация на 6 кластеров не самая информативная.\n",
    "Примените метод локтя, чтобы найти оптимальное число кластеров.\n",
    "\n",
    "На сколько кластеров лучшего всего разбить данные?"
   ]
  },
  {
   "cell_type": "code",
   "execution_count": null,
   "id": "affecting-roller",
   "metadata": {},
   "outputs": [],
   "source": [
    "# ваш код здесь"
   ]
  },
  {
   "cell_type": "markdown",
   "id": "solar-sheriff",
   "metadata": {},
   "source": [
    "Кластеризуйте данные на Х кластеров, где Х - значение, которое вы найдете в предыдущей ячейке"
   ]
  },
  {
   "cell_type": "code",
   "execution_count": null,
   "id": "modified-scout",
   "metadata": {},
   "outputs": [],
   "source": [
    "# ваш код здесь"
   ]
  },
  {
   "cell_type": "markdown",
   "id": "inside-scope",
   "metadata": {},
   "source": [
    "**Задание 7:**\n",
    "\n",
    "Примените Алгоритм аггломеративной кластеризации на такое же количество кластеров, что и в предыдущем задании."
   ]
  },
  {
   "cell_type": "code",
   "execution_count": null,
   "id": "mediterranean-convert",
   "metadata": {},
   "outputs": [],
   "source": [
    "# ваш код здесь"
   ]
  },
  {
   "cell_type": "markdown",
   "id": "handled-printing",
   "metadata": {},
   "source": [
    "**Задание 8:**\n",
    "\n",
    "Рассчитайте метрику Adjusted Rand Index (sklearn.metrics) для результатов кластеризации KMeans из 6 задания агломеративного из 7.\n",
    "\n",
    "P.S. Про ARI можно подробнее прочитать <a href='https://en.wikipedia.org/wiki/Rand_index#Adjusted_Rand_index'>здесь </a>, на пример применения посмотреть <a href=\"https://scikit-learn.org/stable/modules/generated/sklearn.metrics.adjusted_rand_score.html\"> тут </a>"
   ]
  },
  {
   "cell_type": "code",
   "execution_count": null,
   "id": "swiss-alaska",
   "metadata": {},
   "outputs": [],
   "source": [
    "# ваш код здесь"
   ]
  },
  {
   "cell_type": "markdown",
   "id": "atmospheric-workshop",
   "metadata": {},
   "source": [
    "Сделайте вывод, какая из кластеризаций лучше сработала."
   ]
  },
  {
   "cell_type": "markdown",
   "id": "sublime-personal",
   "metadata": {},
   "source": [
    "**Задание 9:**\n",
    "\n",
    "Дело за малым: \n",
    "\n",
    "- Обучите на исходных данных Случайный лес.\n",
    "- Подберите оптимальное число деревьев в композиции.\n",
    "- какая активность хуже всего прогнозируется метрикой precision?"
   ]
  },
  {
   "cell_type": "code",
   "execution_count": null,
   "id": "communist-launch",
   "metadata": {},
   "outputs": [],
   "source": [
    "# ваш код здесь"
   ]
  },
  {
   "cell_type": "markdown",
   "id": "excess-polymer",
   "metadata": {},
   "source": [
    "**Задание 10:**\n",
    "\n",
    "Ладно, не за таким малым:\n",
    "- Отшкалируйте данные\n",
    "- Примените к отшкалированным данным трансформацию PCA по тому же принципу, что и в первых заданиях (т.е. на такое количество компонент, что сохраняется 90% дисперсии) \n",
    "- Обучите Случайный лес на этих данных и подберите гиперпараметр\n",
    "- Сравните результаты леса, обученного на обычных данных, и леса на трансформированных. "
   ]
  },
  {
   "cell_type": "code",
   "execution_count": null,
   "id": "greatest-cocktail",
   "metadata": {},
   "outputs": [],
   "source": [
    "# ваш код здесь"
   ]
  }
 ],
 "metadata": {
  "kernelspec": {
   "display_name": "Python 3",
   "language": "python",
   "name": "python3"
  },
  "language_info": {
   "codemirror_mode": {
    "name": "ipython",
    "version": 3
   },
   "file_extension": ".py",
   "mimetype": "text/x-python",
   "name": "python",
   "nbconvert_exporter": "python",
   "pygments_lexer": "ipython3",
   "version": "3.8.5"
  }
 },
 "nbformat": 4,
 "nbformat_minor": 5
}
